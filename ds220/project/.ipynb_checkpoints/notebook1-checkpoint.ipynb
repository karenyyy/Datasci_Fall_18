{
 "cells": [
  {
   "cell_type": "markdown",
   "metadata": {
    "_uuid": "6728c902ddb0f975a9d7178c89e4315f4d731d61"
   },
   "source": [
    "# Table of Contents\n",
    "--------------------\n",
    "1. [ Terminology ](#1)\n",
    "2. [Packages Import & Util functions ](#2)\n",
    "3. [Data Import  & Data Head](#3)\n",
    "4. [Analysis for Each Year](#4)\n",
    "5. [Analysis Through Time](#5)"
   ]
  },
  {
   "cell_type": "markdown",
   "metadata": {
    "_uuid": "6f3cc4e639e8a84032138fe7c0838a872eeafd4e"
   },
   "source": [
    "# Terminology <a id=\"1\"></a>\n",
    "----------------------------\n",
    "## Area Id\n",
    "Oakland is divided into areas, the following map shows the divison of the city into area codes:\n",
    "\n",
    "![area map](http://ww2.kqed.org/news/wp-content/uploads/sites/10/2013/10/Screen-Shot-2013-10-14-at-8.28.43-PM-659x591-e1381880503593.png)\n",
    "\n",
    "## Beat  \n",
    "In police terminology, a beat is the territory and time that a police officer patrols.\n",
    "Beat police typically patrol on foot or bicycle which provides more interaction between police and community members.\n",
    "\n",
    "### Oakland Beats Map\n",
    "![Beat map](http://www.panil.org/ncpc/beat9x_map.jpg)\n",
    "\n",
    "## Priority\n",
    "   ### PRIORITY 1:\n",
    "   > Emergency call which requires immediate response and there is reason to believe that an\n",
    "   > immediate threat to life exists.\n",
    "   ### PRIORITY 2: \n",
    "   > Emergency call which requires immediate response and there exists an immediate and\n",
    "   > substantial risk of major property loss or damage.\n",
    "   \n"
   ]
  },
  {
   "cell_type": "markdown",
   "metadata": {
    "_uuid": "63ef436e673cd6d97c59e68d40bedcec7d3558c0"
   },
   "source": [
    "# Packages Import <a id=\"2\"></a>\n",
    "---------------------------"
   ]
  },
  {
   "cell_type": "code",
   "execution_count": null,
   "metadata": {
    "_cell_guid": "b1076dfc-b9ad-4769-8c92-a6c4dae69d19",
    "_kg_hide-input": true,
    "_uuid": "8f2839f25d086af736a60e9eeb907d3b93b6e0e5"
   },
   "outputs": [],
   "source": [
    "# This Python 3 environment comes with many helpful analytics libraries installed\n",
    "# It is defined by the kaggle/python docker image: https://github.com/kaggle/docker-python\n",
    "# For example, here's several helpful packages to load in \n",
    "\n",
    "import numpy as np # linear algebra\n",
    "import pandas as pd # data processing, CSV file I/O (e.g. pd.read_csv)\n",
    "import seaborn as sns\n",
    "import json\n",
    "import ast\n",
    "import datetime as dt\n",
    "from dateutil import tz\n",
    "from dateutil import parser\n",
    "import matplotlib.pyplot as plt\n",
    "import time\n",
    "\n",
    "# Input data files are available in the \"../input/\" directory.\n",
    "# For example, running this (by clicking run or pressing Shift+Enter) will list the files in the input directory\n",
    "\n",
    "import os\n",
    "print('\\n'.join(os.listdir(\"../input\")))\n",
    "\n",
    "# Any results you write to the current directory are saved as output."
   ]
  },
  {
   "cell_type": "markdown",
   "metadata": {
    "_uuid": "2c44e74de3809aa0d399fbd26f9528fb8d1f0344"
   },
   "source": [
    "## Util functions"
   ]
  },
  {
   "cell_type": "code",
   "execution_count": null,
   "metadata": {
    "_kg_hide-input": true,
    "_kg_hide-output": false,
    "_uuid": "64627a4e10ef7e6e3cdb0dc2188c03210ecebe98"
   },
   "outputs": [],
   "source": [
    "intervals = (\n",
    "    ('weeks', 604800),  # 60 * 60 * 24 * 7\n",
    "    ('days', 86400),    # 60 * 60 * 24\n",
    "    ('hours', 3600),    # 60 * 60\n",
    "    ('minutes', 60),\n",
    "    ('seconds', 1),\n",
    "    )\n",
    "\n",
    "\n",
    "def get_nlargest_incident_id(n, df):\n",
    "    return df.groupby(by=\"Incident Type Id\",sort=True, as_index=False).count().nlargest(n, 'Create Time')[\"Incident Type Id\"].values\n",
    "\n",
    "def display_time(seconds, granularity=10):\n",
    "    result = []\n",
    "\n",
    "    for name, count in intervals:\n",
    "        value = seconds // count\n",
    "        if value:\n",
    "            seconds -= value * count\n",
    "            if value == 1:\n",
    "                name = name.rstrip('s')\n",
    "            result.append(\"{} {}\".format(value, name))\n",
    "    return ', '.join(result[:granularity])\n",
    "\n",
    "def map_x(x):\n",
    "    if x.hour < 6:\n",
    "        return \"00AM-6AM\"\n",
    "    if x.hour < 12 and x.hour > 6:\n",
    "        return \"6AM-12PM\"\n",
    "    if x.hour >= 12 and x.hour<18:\n",
    "        return \"12PM-6PM\"\n",
    "    if x.hour > 18:\n",
    "        return \"6PM-00AM\"\n",
    "    \n",
    "def prep_data(df):\n",
    "    df['Create Time'] = df['Create Time'].fillna(df['Closed Time'])\n",
    "    df['Closed Time'] = df['Closed Time'].fillna(df['Create Time'])\n",
    "    df[\"time_between_creation_and_closed_seconds\"] = df.apply(lambda x: abs((parser.parse(x[\"Closed Time\"]) - parser.parse(x[\"Create Time\"])).seconds), axis=1)\n",
    "    df[\"time_of_the_day\"] = df[\"Create Time\"].map(lambda x:map_x(parser.parse(x)))\n",
    "    df.replace(r'', np.nan, regex=True, inplace=True)\n",
    "    df[\"Area Id\"].fillna(-1, inplace=True)\n",
    "    df[\"Beat\"].fillna(\"Unknown\", inplace=True)\n",
    "    df[\"Priority\"].fillna(\"-1\", inplace=True)\n",
    "    df[\"Priority\"].astype(int)\n",
    "    df.drop([\"Agency\", \"Event Number\"], inplace=True, axis=1)\n",
    "    df[\"day_of_the_month\"] = df[\"Create Time\"].apply(lambda x: parser.parse(x).day)\n",
    "    df[\"day_of_the_week\"] = df[\"day_of_the_month\"].apply(lambda x: (x % 7) + 1)\n",
    "    df[\"month_of_the_year\"] = df[\"Create Time\"].apply(lambda x: parser.parse(x).month)\n",
    "    return df"
   ]
  },
  {
   "cell_type": "markdown",
   "metadata": {
    "_uuid": "ab9a5911d21a18602415eac16c09471c10498d9d"
   },
   "source": [
    "# Data Head <a id=\"3\"></a>\n",
    "-------------------------------------"
   ]
  },
  {
   "cell_type": "markdown",
   "metadata": {
    "_uuid": "e5f1db0a6df1952c147b4ca6411974c5a684077c"
   },
   "source": [
    "## 2011\n"
   ]
  },
  {
   "cell_type": "code",
   "execution_count": null,
   "metadata": {
    "_kg_hide-input": true,
    "_uuid": "7de4e367e9656e01a22d4dbb5fcc20b23a7c4bac"
   },
   "outputs": [],
   "source": [
    "crimes_2011 = pd.read_csv(\"../input/records-for-2011.csv\")\n",
    "crimes_2011.drop(index=[180015], inplace=True)\n",
    "crimes_2011 = prep_data(crimes_2011)\n",
    "crimes_2011.rename(index=str, columns={\"Location\": \"address\"}, inplace=True)\n",
    "crimes_2011[\"Priority\"].replace(0.0, 1.0, inplace=True)\n",
    "crimes_2011[\"Priority\"] = crimes_2011[\"Priority\"].astype(int)\n",
    "crimes_2011.head(2)"
   ]
  },
  {
   "cell_type": "markdown",
   "metadata": {
    "_uuid": "b185eca968cf77447a6ac540f954911b17da094e"
   },
   "source": [
    "## 2012\n"
   ]
  },
  {
   "cell_type": "code",
   "execution_count": null,
   "metadata": {
    "_kg_hide-input": true,
    "_uuid": "7c8a4b7f6e0c957b826fcb490085c2b1ff6ffeb1"
   },
   "outputs": [],
   "source": [
    "crimes_2012 = pd.read_csv(\"../input/records-for-2012.csv\")\n",
    "crimes_2012.dropna(thresh=9, inplace=True)\n",
    "crimes_2012[\"needs_recoding\"] = crimes_2012[\"Location 1\"].apply(lambda x:\n",
    "                                                                     ast.literal_eval(x)[\"needs_recoding\"])\n",
    "crimes_2012[\"address\"] = crimes_2012[\"Location 1\"].apply(lambda x:\n",
    "                                                                     ast.literal_eval(ast.literal_eval(x)[\"human_address\"])[\"address\"])\n",
    "crimes_2012[\"address\"] = crimes_2012[\"address\"].apply(lambda x:x.replace(\"&amp;\", \"&\"))\n",
    "crimes_2012.drop(columns=[\"Location 1\"], inplace=True)\n",
    "crimes_2012 = prep_data(crimes_2012)\n",
    "crimes_2012[\"Priority\"] = crimes_2012[\"Priority\"].astype(int)\n",
    "crimes_2012.head(2)"
   ]
  },
  {
   "cell_type": "markdown",
   "metadata": {
    "_uuid": "2a8dae36ac97f853c93fc2bf8095e1a48457c1ef"
   },
   "source": [
    "## 2013\n"
   ]
  },
  {
   "cell_type": "code",
   "execution_count": null,
   "metadata": {
    "_kg_hide-input": true,
    "_uuid": "9001144669baa4e95369ef8cc4aaa74f6e17160e"
   },
   "outputs": [],
   "source": [
    "crimes_2013 = pd.read_csv(\"../input/records-for-2013.csv\")\n",
    "crimes_2013.dropna(thresh=9, inplace=True)\n",
    "crimes_2013 = prep_data(crimes_2013)\n",
    "crimes_2013.rename(index=str, columns={\"Location \": \"address\"}, inplace=True)\n",
    "crimes_2013[\"Area Id\"] = crimes_2013[\"Area Id\"].astype(int)\n",
    "crimes_2013[\"Priority\"].replace(0.0, 1.0, inplace=True)\n",
    "crimes_2013[\"Priority\"] = crimes_2013[\"Priority\"].astype(int)\n",
    "crimes_2013.head(2)"
   ]
  },
  {
   "cell_type": "markdown",
   "metadata": {
    "_uuid": "75ef388f8f4da7f4ff86a3aca4fb77a511b71458"
   },
   "source": [
    "## 2014"
   ]
  },
  {
   "cell_type": "code",
   "execution_count": null,
   "metadata": {
    "_kg_hide-input": true,
    "_uuid": "28ced0dd97659c4f2a18e671f157c57de6635f2f"
   },
   "outputs": [],
   "source": [
    "crimes_2014 = prep_data(pd.read_csv(\"../input/records-for-2014.csv\"))\n",
    "crimes_2014[\"needs_recoding\"] = crimes_2014[\"Location 1\"].apply(lambda x:\n",
    "                                                                     ast.literal_eval(x)[\"needs_recoding\"])\n",
    "crimes_2014[\"address\"] = crimes_2014[\"Location 1\"].apply(lambda x:\n",
    "                                                                     ast.literal_eval(ast.literal_eval(x)[\"human_address\"])[\"address\"])\n",
    "crimes_2014[\"address\"] = crimes_2014[\"address\"].apply(lambda x:x.replace(\"&amp;\", \"&\"))\n",
    "crimes_2014.drop(columns=[\"Location 1\"], inplace=True)\n",
    "crimes_2014.head(2)"
   ]
  },
  {
   "cell_type": "markdown",
   "metadata": {
    "_uuid": "33e64ffd2c9e71b0ee1d1c76107637defa334136"
   },
   "source": [
    "## 2015"
   ]
  },
  {
   "cell_type": "code",
   "execution_count": null,
   "metadata": {
    "_kg_hide-input": true,
    "_uuid": "4bc1cf7eae3f2520d89ea2a72985942e78cb9f64"
   },
   "outputs": [],
   "source": [
    "crimes_2015 = prep_data(pd.read_csv(\"../input/records-for-2015.csv\"))\n",
    "crimes_2015.rename(index=str, columns={\"Location\": \"address\"}, inplace=True)\n",
    "crimes_2015[\"Priority\"].replace(0.0, 1.0, inplace=True)\n",
    "crimes_2015[\"Priority\"] = crimes_2015[\"Priority\"].astype(int)\n",
    "crimes_2015.head(2)"
   ]
  },
  {
   "cell_type": "markdown",
   "metadata": {
    "_uuid": "12d4a91f4c1ac19d8701c21d6cc215b9471c93cd"
   },
   "source": [
    "## 2016"
   ]
  },
  {
   "cell_type": "code",
   "execution_count": null,
   "metadata": {
    "_cell_guid": "79c7e3d0-c299-4dcb-8224-4455121ee9b0",
    "_kg_hide-input": true,
    "_uuid": "d629ff2d2480ee46fbb7e2d37f6b5fab8052498a"
   },
   "outputs": [],
   "source": [
    "crimes_2016 = pd.read_csv(\"../input/records-for-2016.csv\")\n",
    "crimes_2016.dropna(thresh=9, inplace=True)\n",
    "crimes_2016 = prep_data(crimes_2016)\n",
    "crimes_2016.rename(index=str, columns={\"Location\": \"address\"}, inplace=True)\n",
    "crimes_2016[\"Priority\"] = crimes_2016[\"Priority\"].astype(int)\n",
    "crimes_2016.head(2)"
   ]
  },
  {
   "cell_type": "markdown",
   "metadata": {
    "_uuid": "76eb04e8d9b81220eaacb804c2247cde8961946e"
   },
   "source": [
    "# Analysis for Each Year <a id=\"4\"></a>\n",
    "--------------------------"
   ]
  },
  {
   "cell_type": "code",
   "execution_count": null,
   "metadata": {
    "_kg_hide-input": true,
    "_uuid": "c467d77d004d40f5df29f1350e0e270b42db9167"
   },
   "outputs": [],
   "source": [
    "fig, ax = plt.subplots(nrows=2, ncols=3)\n",
    "plt.subplots_adjust(left=0, right=2.5, top=3, bottom=1)\n",
    "crimes_list = [crimes_2011, crimes_2012, crimes_2013, crimes_2014, crimes_2015, crimes_2016]\n",
    "i = 0\n",
    "for row in ax:\n",
    "    for col in row:\n",
    "        col.set_title(str(2011 + i))\n",
    "        sns.countplot(data=crimes_list[i], x=\"Priority\", ax=col, palette=\"Set1\")\n",
    "        i+=1"
   ]
  },
  {
   "cell_type": "markdown",
   "metadata": {
    "_uuid": "93e7167dd2d3fb93f93c6bc4ead758e350635066"
   },
   "source": [
    "## Priority Reports Count With Respect to the Time of the Day"
   ]
  },
  {
   "cell_type": "code",
   "execution_count": null,
   "metadata": {
    "_kg_hide-input": true,
    "_uuid": "4f4348ca7cc67c1e3be11f584779d6448ff5b5cb"
   },
   "outputs": [],
   "source": [
    "fig, ax = plt.subplots(nrows=2, ncols=3)\n",
    "plt.subplots_adjust(left=0, right=2.5, top=3, bottom=1)\n",
    "i = 0\n",
    "for row in ax:\n",
    "    for col in row:\n",
    "        col.set_title(str(2011 + i))\n",
    "        sns.countplot(data=crimes_list[i], x=\"Priority\", hue=\"time_of_the_day\", palette=\"Set1\", ax=col)\n",
    "        i+=1\n"
   ]
  },
  {
   "cell_type": "markdown",
   "metadata": {
    "_uuid": "c403d97780c4ae23224fd23d2ad294cb4bb15170"
   },
   "source": [
    "## Incident type ID\n"
   ]
  },
  {
   "cell_type": "code",
   "execution_count": null,
   "metadata": {
    "_kg_hide-input": true,
    "_uuid": "5db7da700a2391c13fae4dc54bf33afa98c333f9"
   },
   "outputs": [],
   "source": [
    "fig, ax = plt.subplots(nrows=2, ncols=3)\n",
    "plt.subplots_adjust(left=0, right=2.5, top=3, bottom=1)\n",
    "i = 0\n",
    "nlargest = [set(get_nlargest_incident_id(10, x)) for x in crimes_list]\n",
    "print(\"From 2011 to 2016 Top 10 Common Incident Types are: {}\".format(str(set.intersection(*nlargest))))\n",
    "for row in ax:\n",
    "    for col in row:\n",
    "        col.set_title(str(2011 + i))\n",
    "        sns.countplot(data=crimes_list[i].loc[crimes_list[i]['Incident Type Id'].isin(nlargest[i])], x=\"Incident Type Id\", hue=\"Priority\", palette=\"Set1\", ax=col)\n",
    "        i += 1"
   ]
  },
  {
   "cell_type": "markdown",
   "metadata": {
    "_uuid": "ec32f35b375a697fb6d9915d1a52bf373ffbdea0"
   },
   "source": [
    "# Time It Takes to Handle a Report\n",
    "-----------------\n",
    "Showing the maximum and average time from creation (Create Time) to closing it (Closed Time). "
   ]
  },
  {
   "cell_type": "code",
   "execution_count": null,
   "metadata": {
    "_kg_hide-input": true,
    "_uuid": "4abbbb2863da53c0a52db8f71a34e0d52cf55cd8"
   },
   "outputs": [],
   "source": [
    "for i, crime_year in enumerate(crimes_list):\n",
    "    avg_response_prio_1 = display_time(crime_year[crime_year[\"Priority\"] == 1][\"time_between_creation_and_closed_seconds\"].mean())\n",
    "    max_response_prio_1 = display_time(crime_year[crime_year[\"Priority\"] == 1][\"time_between_creation_and_closed_seconds\"].max())\n",
    "\n",
    "    avg_response_prio_2 = display_time(crime_year[crime_year[\"Priority\"] == 2][\"time_between_creation_and_closed_seconds\"].mean())\n",
    "    max_response_prio_2 = display_time(crime_year[crime_year[\"Priority\"] == 2][\"time_between_creation_and_closed_seconds\"].max())\n",
    "    print(\"Year \" + str(2011 + i) +\":\\n\")\n",
    "    print(\"\"\"The average time it takes to close a call (Priority 1):\\n\\t Max: {}\\n\\t Average: {} \\n\\n \n",
    "The average time it takes to close a call (Priority 2): \\n\\t max: {}\\n\\t average: {}\"\"\".format(max_response_prio_1, avg_response_prio_1, max_response_prio_2, avg_response_prio_2))\n",
    "    print(\"=======================================================================================\\n\")"
   ]
  },
  {
   "cell_type": "markdown",
   "metadata": {
    "_uuid": "1acae4c7b3ec87191fb11cce66ed399c24cc3d41"
   },
   "source": [
    "# Do People Commit Less Crimes on Weekends \\ Speific Months ?\n",
    "\n",
    "The decrease of crimes committed on the 31th is becuase not every month has 31 days, same for september since september has 28 days, so there are 2 to 3 less days  to commit crimes.\n",
    "\n",
    "## We can observe that people do commit less crimes on weekends !"
   ]
  },
  {
   "cell_type": "code",
   "execution_count": null,
   "metadata": {
    "_kg_hide-input": true,
    "_uuid": "ab58753ac05c5ec44cd8e1b5ba6fdb9925d1f082"
   },
   "outputs": [],
   "source": [
    "fig, ax = plt.subplots(nrows=6, ncols=3)\n",
    "plt.subplots_adjust(left=0, right=3, top=12, bottom=0)\n",
    "i_list = 0\n",
    "for i, row in enumerate(ax):\n",
    "    for j, col in enumerate(row):\n",
    "        year_string = str(2011 + i)\n",
    "        \n",
    "        if j == 1:\n",
    "            month_or_day = 'Day of The Month'\n",
    "            title = year_string+ '\\n' + month_or_day +'\\n Crime Count'\n",
    "            col.set_title(title)\n",
    "            col.set_xticklabels(col.get_xticklabels(), rotation=90)\n",
    "            sns.countplot(data=crimes_list[i_list], x=\"day_of_the_month\" ,palette=\"Set1\", ax=col)\n",
    "        elif j == 2:\n",
    "            month_or_day = 'Month of The Year'\n",
    "            title = year_string + '\\n' + month_or_day +'\\n Crime Count'\n",
    "            col.set_title(title)\n",
    "            sns.countplot(data=crimes_list[i_list], x=\"month_of_the_year\",palette=\"Set1\", ax=col)\n",
    "        else:\n",
    "            month_or_day = 'Day of The Week'\n",
    "            title = year_string+ '\\n' + month_or_day +'\\n Crime Count'\n",
    "            col.set_title(title)\n",
    "            sns.countplot(data=crimes_list[i_list], x=\"day_of_the_week\" ,palette=\"Set1\", ax=col)\n",
    "            \n",
    "    i_list += 1"
   ]
  },
  {
   "cell_type": "markdown",
   "metadata": {
    "_uuid": "de8c12233828f924553fef1e11b1431447152cee"
   },
   "source": [
    "# Top Dangerous Beats\n",
    "--------------------\n"
   ]
  },
  {
   "cell_type": "code",
   "execution_count": null,
   "metadata": {
    "_kg_hide-input": true,
    "_uuid": "be0a38f51654ca96a72721422bc5cd35da59c69b"
   },
   "outputs": [],
   "source": [
    "fig, ax = plt.subplots(nrows=2, ncols=3)\n",
    "plt.subplots_adjust(left=0, right=2.5, top=3, bottom=1)\n",
    "i = 0\n",
    "for row in ax:\n",
    "    for col in row:\n",
    "        col.set_title(str(2011 + i))\n",
    "        #sns.countplot(data=crimes_list[i].loc[crimes_list[i]['Incident Type Id'].isin(nlargest[i])], x=\"Incident Type Id\", hue=\"Priority\", palette=\"Set1\", ax=col)\n",
    "        temp = crimes_list[i].groupby(by=[\"Beat\", \"Priority\"],sort=True, as_index=False).count().rename(index=str, columns={\"Create Time\": \"Count\"})[[\"Beat\", \"Priority\", \"Count\", \"time_of_the_day\"]]\n",
    "        beats_prio_1 = list(temp[temp[\"Priority\"] == 1].nlargest(5, \"Count\")[\"Beat\"].values)\n",
    "        beats_prio_2 = list(temp[temp[\"Priority\"] == 2].nlargest(5, \"Count\")[\"Beat\"].values)\n",
    "        print(\"Year \" + str(2011 +i ) +\":\\n\")\n",
    "        print(\"The Beats With the Most Reports (Priority 1, Decending Order): {} \\nThe Beats With the Most Reports (Priority 2, Decending Order): {} \\nUnique Beats: {}\".format(str(beats_prio_1), str(beats_prio_2), str(list(set(beats_prio_1)|set(beats_prio_2)))))\n",
    "        print(\"Common Beats: {}\".format(str(list(set(beats_prio_1) & set(beats_prio_2)))))\n",
    "        sns.barplot(data=temp[temp[\"Beat\"].isin(beats_prio_1 + beats_prio_2)], x=\"Beat\", y=\"Count\", hue=\"Priority\",palette=\"Set1\", ax=col)\n",
    "        print(\"=======================================================================================\\n\")\n",
    "        i += 1\n"
   ]
  },
  {
   "cell_type": "code",
   "execution_count": null,
   "metadata": {
    "_kg_hide-input": true,
    "_uuid": "8ca9a20a288ca4b86e26f12719f687ce8d507755"
   },
   "outputs": [],
   "source": [
    "fig, ax = plt.subplots(nrows=2, ncols=3)\n",
    "plt.subplots_adjust(left=0, right=2.5, top=3, bottom=1)\n",
    "i = 0\n",
    "for row in ax:\n",
    "    for col in row:\n",
    "        col.set_title(str(2011 + i))\n",
    "        temp = crimes_list[i].groupby(by=[\"Beat\", \"Priority\"],sort=True, as_index=False).count().rename(index=str, columns={\"Create Time\": \"Count\"})[[\"Beat\", \"Priority\", \"Count\", \"time_of_the_day\"]]\n",
    "        beats_prio_1 = list(temp[temp[\"Priority\"] == 1].nlargest(5, \"Count\")[\"Beat\"].values)\n",
    "        beats_prio_2 = list(temp[temp[\"Priority\"] == 2].nlargest(5, \"Count\")[\"Beat\"].values)\n",
    "        sns.countplot(data=crimes_list[i][crimes_list[i][\"Beat\"].isin(beats_prio_1 + beats_prio_2)], x=\"Beat\", hue=\"time_of_the_day\",palette=\"Set1\", ax=col)\n",
    "        i += 1"
   ]
  },
  {
   "cell_type": "markdown",
   "metadata": {
    "_uuid": "df27d3a1cd11b3624357e962dfa29ee00ddf7a69"
   },
   "source": [
    "## Top 3 Worst Streets"
   ]
  },
  {
   "cell_type": "code",
   "execution_count": null,
   "metadata": {
    "_kg_hide-input": true,
    "_uuid": "3d6568d93247c5d71f3a7cc1b05aa9ea88a8017b"
   },
   "outputs": [],
   "source": [
    "fig, ax = plt.subplots(nrows=2, ncols=3)\n",
    "plt.subplots_adjust(left=0, right=3, top=3, bottom=1)\n",
    "i = 0\n",
    "for row in ax:\n",
    "    for col in row:\n",
    "        col.set_title(str(2011 + i))\n",
    "        temp = crimes_list[i].groupby(by=[\"address\", \"Priority\"],sort=True, as_index=False).count().rename(index=str, columns={\"Create Time\": \"Count\"})[[\"address\", \"Priority\", \"Count\", \"time_of_the_day\"]]\n",
    "        bad_streets = temp.nlargest(3,\"Count\")[\"address\"].values\n",
    "        print(\"Year \" + str(2011 + i) +\": \\n\")\n",
    "        print(\"Top 3 Worst Streets are:\\n\\t\" + '\\n\\t'.join(bad_streets))\n",
    "        print(\"=========================================================\")\n",
    "        sns.countplot(data=crimes_list[i][crimes_list[i][\"address\"].isin(bad_streets)], x=\"address\", hue=\"Priority\", palette=\"Set1\", ax=col)\n",
    "        i += 1\n"
   ]
  },
  {
   "cell_type": "markdown",
   "metadata": {
    "_uuid": "2292c156d209718160320a0aa256637420fa62f4"
   },
   "source": [
    "# Analysis Through Time <a id=\"5\"></a>\n",
    "-----------------------------------------------\n"
   ]
  },
  {
   "cell_type": "code",
   "execution_count": null,
   "metadata": {
    "_kg_hide-input": true,
    "_uuid": "b9174f2adcdc8ccc0ba0d3abb1f37fd90992e975"
   },
   "outputs": [],
   "source": [
    "for i, x in enumerate(crimes_list):\n",
    "    x[\"Year\"] = 2011 + i\n",
    "combined = crimes_2011\n",
    "for x in range(1,len(crimes_list)):\n",
    "    combined = combined.append(crimes_list[x], ignore_index=True)\n",
    "combined.tail(5)"
   ]
  },
  {
   "cell_type": "code",
   "execution_count": null,
   "metadata": {
    "_kg_hide-input": true,
    "_kg_hide-output": false,
    "_uuid": "7324943118a5f2b04afc60a55bc44d9d57c9810f"
   },
   "outputs": [],
   "source": [
    "temp = combined.groupby(by=[\"Year\", \"Priority\"]).mean()\n",
    "prio_1 = temp.loc[list(zip(range(2011,2017),[1.0] * 6))][\"time_between_creation_and_closed_seconds\"]\n",
    "prio_2 = temp.loc[list(zip(range(2011,2017),[2.0] * 6))][\"time_between_creation_and_closed_seconds\"]\n",
    "plt.plot(range(2011, 2017),prio_1, marker='o', markerfacecolor='black', markersize=8, color='skyblue', linewidth=2, label=\"Avg Closing Time Priority 1\")\n",
    "plt.plot(range(2011, 2017), prio_2, marker='*',color=\"red\", markersize=10, markerfacecolor='black', linewidth=2, label=\"Avg Closing Time Priority 2\")\n",
    "plt.legend()"
   ]
  },
  {
   "cell_type": "markdown",
   "metadata": {
    "_uuid": "fd788715987fa73c894044210c5a07275f494d96"
   },
   "source": [
    "# Worst Beats Through Time\n",
    "\n"
   ]
  },
  {
   "cell_type": "code",
   "execution_count": null,
   "metadata": {
    "_kg_hide-input": true,
    "_uuid": "e4f38b5d30b4fcf9a89dca80f339f58d104c364b"
   },
   "outputs": [],
   "source": [
    "beats_list = combined.groupby(by=[\"Beat\"], as_index=False).count().nlargest(5, \"Create Time\")[\"Beat\"].values\n",
    "sns.catplot(x=\"Beat\",hue=\"Year\",  y=\"Create Time\",\n",
    "                 data=combined[combined[\"Beat\"].isin(beats_list)].groupby(by=[\"Year\", \"Beat\"], as_index=False).count()[[\"Year\", \"Beat\", \"Create Time\"]].reset_index(),\n",
    "                 kind=\"bar\")"
   ]
  },
  {
   "cell_type": "markdown",
   "metadata": {
    "_uuid": "ac97404e7c3fed7a8a5d45ec6ac11064014e4d9b"
   },
   "source": [
    "# Top 3 Worst Streets Through Time"
   ]
  },
  {
   "cell_type": "code",
   "execution_count": null,
   "metadata": {
    "_kg_hide-input": true,
    "_uuid": "b946203f528177c562c7c313c0803437c7d366c7"
   },
   "outputs": [],
   "source": [
    "address_list = combined.groupby(by=[\"address\"], as_index=False).count().nlargest(3, \"Create Time\")[\"address\"].values\n",
    "sns.catplot(y=\"address\",hue=\"Year\",  x=\"Create Time\",\n",
    "                 data=combined[combined[\"address\"].isin(address_list)].groupby(by=[\"Year\", \"address\"], as_index=False).count()[[\"Year\", \"address\", \"Create Time\"]].reset_index(),\n",
    "                 kind=\"bar\",orient=\"h\")"
   ]
  },
  {
   "cell_type": "markdown",
   "metadata": {
    "_uuid": "64166dae63d6e4489bd552f5de7ba0d9f69ec8eb"
   },
   "source": [
    "# Your Constructive Criticism is Welcome\n",
    "-------------------------\n",
    "I am a newbie and I have big passion towards  data science ! \n",
    "\n",
    "Any little piece of advice means a lot to me !"
   ]
  }
 ],
 "metadata": {
  "kernelspec": {
   "display_name": "Python 3",
   "language": "python",
   "name": "python3"
  },
  "language_info": {
   "codemirror_mode": {
    "name": "ipython",
    "version": 3
   },
   "file_extension": ".py",
   "mimetype": "text/x-python",
   "name": "python",
   "nbconvert_exporter": "python",
   "pygments_lexer": "ipython3",
   "version": "3.6.6"
  },
  "latex_envs": {
   "LaTeX_envs_menu_present": true,
   "autoclose": false,
   "autocomplete": true,
   "bibliofile": "biblio.bib",
   "cite_by": "apalike",
   "current_citInitial": 1,
   "eqLabelWithNumbers": true,
   "eqNumInitial": 1,
   "hotkeys": {
    "equation": "Ctrl-E",
    "itemize": "Ctrl-I"
   },
   "labels_anchors": false,
   "latex_user_defs": false,
   "report_style_numbering": false,
   "user_envs_cfg": false
  }
 },
 "nbformat": 4,
 "nbformat_minor": 1
}
