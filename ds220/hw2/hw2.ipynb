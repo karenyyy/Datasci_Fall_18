{
 "cells": [
  {
   "cell_type": "markdown",
   "metadata": {},
   "source": [
    "### import packages"
   ]
  },
  {
   "cell_type": "code",
   "execution_count": 1,
   "metadata": {},
   "outputs": [],
   "source": [
    "import redis\n",
    "from urllib.request import urlopen\n",
    "import pandas as pd\n",
    "import re\n",
    "from bs4 import BeautifulSoup\n",
    "import json"
   ]
  },
  {
   "cell_type": "markdown",
   "metadata": {},
   "source": [
    "### scrape car retail information from a chosen car dealer website"
   ]
  },
  {
   "cell_type": "markdown",
   "metadata": {
    "heading_collapsed": true
   },
   "source": [
    "#### Titles"
   ]
  },
  {
   "cell_type": "code",
   "execution_count": 2,
   "metadata": {
    "hidden": true
   },
   "outputs": [],
   "source": [
    "url = 'http://www.statecollege.com/auto/dealers/stocker-chevrolet,9803/'\n",
    "page = urlopen(url=url)\n",
    "soup = BeautifulSoup(page, 'html.parser')\n",
    "titles = soup.findAll('strong', {\"class\": \"title\"})\n",
    "titles_df = pd.DataFrame(list(map(lambda x: x.getText(), titles)), columns=['Title'])"
   ]
  },
  {
   "cell_type": "markdown",
   "metadata": {},
   "source": [
    "#### Embedded urls"
   ]
  },
  {
   "cell_type": "code",
   "execution_count": 3,
   "metadata": {},
   "outputs": [],
   "source": [
    "urls_df = pd.DataFrame(['http://www.statecollege.com/'+ a['href'] \n",
    "                        for i in soup.findAll('td', {'align': 'left'}) \n",
    "                        for a in i.findAll('a', href=True)], columns=['urls'])"
   ]
  },
  {
   "cell_type": "markdown",
   "metadata": {},
   "source": [
    "#### Addresses, phones of sellers & descriptions of cars"
   ]
  },
  {
   "cell_type": "code",
   "execution_count": 4,
   "metadata": {},
   "outputs": [],
   "source": [
    "addresses = []\n",
    "phones = []\n",
    "descriptions = []\n",
    "for url in urls_df.values:\n",
    "    page = urlopen(url=url[0])\n",
    "    soup = BeautifulSoup(page, 'html.parser')\n",
    "    for address in soup.findAll('p', {'class': 'business_address_address'}):\n",
    "        addresses.append(re.sub('\\s+', ' ', address.getText().replace('\\n', '')))\n",
    "    for phone in soup.find('p', {'class': 'business_address_phone'}):\n",
    "        phones.append(phone)\n",
    "    for i, c in enumerate(soup.findAll('p')):\n",
    "        if i==5:\n",
    "            descriptions.append(c.getText())\n",
    "address_df = pd.DataFrame(addresses, columns=['address'])\n",
    "phones_df = pd.DataFrame(phones, columns=['phone'])\n",
    "descriptions_df = pd.DataFrame(descriptions, columns=['description'])"
   ]
  },
  {
   "cell_type": "markdown",
   "metadata": {},
   "source": [
    "#### Other attributes"
   ]
  },
  {
   "cell_type": "code",
   "execution_count": 5,
   "metadata": {},
   "outputs": [],
   "source": [
    "tables = []\n",
    "for url in urls_df.values:\n",
    "    page = urlopen(url=url[0])\n",
    "    soup = BeautifulSoup(page, 'html.parser')\n",
    "    for table in soup.findAll('table', {'class': 'auto_detail_data_table'}):\n",
    "        table = pd.read_html(str(table)) \n",
    "        tables.append(table)"
   ]
  },
  {
   "cell_type": "code",
   "execution_count": 6,
   "metadata": {},
   "outputs": [],
   "source": [
    "attributes = ['Year', 'Mileage', 'Make', 'Model', 'Trim', 'Style', \n",
    "              'Engine', 'Exterior Color', 'Interior Color', 'VIN', 'Stock #']\n",
    "attributes_dict = {}\n",
    "for i in attributes:\n",
    "    attributes_dict[i] = []\n",
    "for table in tables:\n",
    "    table = table[0]\n",
    "    for attribute in attributes:\n",
    "        attributes_dict[attribute].append(table[table.iloc[:, 0] ==\n",
    "                                                attribute+':'].iloc[:, 1].values[0])\n",
    "cars = pd.concat([titles_df, pd.DataFrame(attributes_dict), descriptions_df], axis=1)"
   ]
  },
  {
   "cell_type": "markdown",
   "metadata": {},
   "source": [
    "#### Combine all attributes"
   ]
  },
  {
   "cell_type": "code",
   "execution_count": 14,
   "metadata": {},
   "outputs": [],
   "source": [
    "cars.to_csv('cars.csv')"
   ]
  },
  {
   "cell_type": "code",
   "execution_count": 8,
   "metadata": {},
   "outputs": [
    {
     "data": {
      "text/html": [
       "<div>\n",
       "<style scoped>\n",
       "    .dataframe tbody tr th:only-of-type {\n",
       "        vertical-align: middle;\n",
       "    }\n",
       "\n",
       "    .dataframe tbody tr th {\n",
       "        vertical-align: top;\n",
       "    }\n",
       "\n",
       "    .dataframe thead th {\n",
       "        text-align: right;\n",
       "    }\n",
       "</style>\n",
       "<table border=\"1\" class=\"dataframe\">\n",
       "  <thead>\n",
       "    <tr style=\"text-align: right;\">\n",
       "      <th></th>\n",
       "      <th>address</th>\n",
       "      <th>phone</th>\n",
       "    </tr>\n",
       "  </thead>\n",
       "  <tbody>\n",
       "    <tr>\n",
       "      <th>0</th>\n",
       "      <td>701 Benner Pike State College PA, 16801</td>\n",
       "      <td>(866) 235-0270</td>\n",
       "    </tr>\n",
       "    <tr>\n",
       "      <th>1</th>\n",
       "      <td>701 Benner Pike State College PA, 16801</td>\n",
       "      <td>(866) 235-0270</td>\n",
       "    </tr>\n",
       "    <tr>\n",
       "      <th>2</th>\n",
       "      <td>701 Benner Pike State College PA, 16801</td>\n",
       "      <td>(866) 235-0270</td>\n",
       "    </tr>\n",
       "    <tr>\n",
       "      <th>3</th>\n",
       "      <td>701 Benner Pike State College PA, 16801</td>\n",
       "      <td>(866) 235-0270</td>\n",
       "    </tr>\n",
       "    <tr>\n",
       "      <th>4</th>\n",
       "      <td>701 Benner Pike State College PA, 16801</td>\n",
       "      <td>(866) 235-0270</td>\n",
       "    </tr>\n",
       "    <tr>\n",
       "      <th>5</th>\n",
       "      <td>701 Benner Pike State College PA, 16801</td>\n",
       "      <td>(866) 235-0270</td>\n",
       "    </tr>\n",
       "    <tr>\n",
       "      <th>6</th>\n",
       "      <td>701 Benner Pike State College PA, 16801</td>\n",
       "      <td>(866) 235-0270</td>\n",
       "    </tr>\n",
       "    <tr>\n",
       "      <th>7</th>\n",
       "      <td>701 Benner Pike State College PA, 16801</td>\n",
       "      <td>(866) 235-0270</td>\n",
       "    </tr>\n",
       "    <tr>\n",
       "      <th>8</th>\n",
       "      <td>701 Benner Pike State College PA, 16801</td>\n",
       "      <td>(866) 235-0270</td>\n",
       "    </tr>\n",
       "    <tr>\n",
       "      <th>9</th>\n",
       "      <td>701 Benner Pike State College PA, 16801</td>\n",
       "      <td>(866) 235-0270</td>\n",
       "    </tr>\n",
       "  </tbody>\n",
       "</table>\n",
       "</div>"
      ],
      "text/plain": [
       "                                     address           phone\n",
       "0   701 Benner Pike State College PA, 16801   (866) 235-0270\n",
       "1   701 Benner Pike State College PA, 16801   (866) 235-0270\n",
       "2   701 Benner Pike State College PA, 16801   (866) 235-0270\n",
       "3   701 Benner Pike State College PA, 16801   (866) 235-0270\n",
       "4   701 Benner Pike State College PA, 16801   (866) 235-0270\n",
       "5   701 Benner Pike State College PA, 16801   (866) 235-0270\n",
       "6   701 Benner Pike State College PA, 16801   (866) 235-0270\n",
       "7   701 Benner Pike State College PA, 16801   (866) 235-0270\n",
       "8   701 Benner Pike State College PA, 16801   (866) 235-0270\n",
       "9   701 Benner Pike State College PA, 16801   (866) 235-0270"
      ]
     },
     "execution_count": 8,
     "metadata": {},
     "output_type": "execute_result"
    }
   ],
   "source": [
    "sellers = pd.concat([address_df, phones_df], axis=1)\n",
    "sellers"
   ]
  },
  {
   "cell_type": "markdown",
   "metadata": {},
   "source": [
    "#### Insert data into Redis"
   ]
  },
  {
   "cell_type": "code",
   "execution_count": 9,
   "metadata": {
    "scrolled": true
   },
   "outputs": [],
   "source": [
    "r = redis.StrictRedis(host='localhost', port=6379, db=0)\n",
    "for idx in range(len(cars)):\n",
    "    v = dict(zip(cars.columns, cars.values[idx]))\n",
    "    serialized = json.dumps(dict(zip(sellers.columns,sellers.values[idx])))\n",
    "    v['seller'] = serialized\n",
    "    r.hmset(idx, v)"
   ]
  },
  {
   "cell_type": "markdown",
   "metadata": {},
   "source": [
    "#### Data model design"
   ]
  },
  {
   "cell_type": "markdown",
   "metadata": {},
   "source": [
    "- Attributes \n",
    "    - Title\n",
    "    - Year\n",
    "    - Engine\n",
    "    - Exterior Color\n",
    "    - Interior Color\n",
    "    - Make\n",
    "    - Mileage\n",
    "    - Model\n",
    "    - Stock \n",
    "    - Style\n",
    "    - Trim\n",
    "    - VIN\n",
    "    - Description\n",
    "    - Seller\n",
    "        - address\n",
    "        - phone\n",
    "        \n",
    "The data model covers all basic attributes of a car that could be found on the retail website and that buyers should be aware of."
   ]
  },
  {
   "cell_type": "markdown",
   "metadata": {},
   "source": [
    "#### Display the result"
   ]
  },
  {
   "cell_type": "markdown",
   "metadata": {},
   "source": [
    "![](7.png)\n",
    "\n",
    "![](8.png)\n",
    "\n",
    "![](9.png)\n",
    "\n",
    "![](10.png)\n",
    "\n",
    "\n",
    "\n",
    "\n"
   ]
  },
  {
   "cell_type": "markdown",
   "metadata": {},
   "source": [
    "#### Filter contents examples"
   ]
  },
  {
   "cell_type": "code",
   "execution_count": 10,
   "metadata": {
    "code_folding": [
     0
    ],
    "scrolled": false
   },
   "outputs": [
    {
     "name": "stdout",
     "output_type": "stream",
     "text": [
      "b'2014 Subaru Outback'\n",
      "b'2013 Subaru XV Crosstrek'\n",
      "b'2016 Subaru Forester'\n",
      "b'2017 Subaru Legacy'\n",
      "b'2017 Subaru Outback'\n"
     ]
    }
   ],
   "source": [
    "for i in range(10):\n",
    "    # find 'Subaru' cars\n",
    "    if 'Subaru' in r.hget(name=i, key=b'Title').decode('utf-8'):\n",
    "        print(r.hget(name=i, key=b'Title'))"
   ]
  },
  {
   "cell_type": "code",
   "execution_count": 11,
   "metadata": {
    "code_folding": [
     0
    ]
   },
   "outputs": [
    {
     "name": "stdout",
     "output_type": "stream",
     "text": [
      "[b'2015 Chevrolet Malibu', b'Malibu']\n",
      "[b'2016 Chevrolet Malibu Limited', b'Malibu Limited']\n"
     ]
    }
   ],
   "source": [
    "for i in range(10):\n",
    "    # find cars with Malibu model:\n",
    "    if 'Malibu' in r.hget(name=i, key=b'Model').decode('utf-8'):\n",
    "        print(r.hmget(name=i, keys=[b'Title', b'Model']))"
   ]
  },
  {
   "cell_type": "code",
   "execution_count": 12,
   "metadata": {
    "code_folding": [
     0
    ]
   },
   "outputs": [
    {
     "name": "stdout",
     "output_type": "stream",
     "text": [
      "[b'2013 Subaru XV Crosstrek', b'JF2GPACCXD1843307']\n",
      "[b'2015 Chevrolet Malibu', b'1G11B5SL2FF313357']\n",
      "[b'2016 Chevrolet Malibu Limited', b'1G11B5SAXGF135777']\n",
      "[b'2015 Chevrolet Silverado 1500', b'3GCUKREC9FG459437']\n"
     ]
    }
   ],
   "source": [
    "for i in range(10):\n",
    "    # find VIN numbers ends with 7:\n",
    "    if r.hget(name=i, key=b'VIN').decode('utf-8').endswith('7'):\n",
    "        print(r.hmget(name=i, keys=[b'Title', b'VIN']))"
   ]
  },
  {
   "cell_type": "code",
   "execution_count": 13,
   "metadata": {},
   "outputs": [
    {
     "name": "stdout",
     "output_type": "stream",
     "text": [
      "The seller lives in  701 Benner Pike State College PA, 16801 , phone number is (866) 235-0270\n",
      "The seller lives in  701 Benner Pike State College PA, 16801 , phone number is (866) 235-0270\n",
      "The seller lives in  701 Benner Pike State College PA, 16801 , phone number is (866) 235-0270\n"
     ]
    }
   ],
   "source": [
    "for i in range(3):\n",
    "    # get seller info\n",
    "    seller = json.loads(r.hget(name=i, key=b'seller').decode('utf-8'))\n",
    "    seller_address = seller['address']\n",
    "    seller_phone = seller['phone']\n",
    "    print('The seller lives in {}, phone number is {}'\n",
    "          .format(seller_address, seller_phone))"
   ]
  }
 ],
 "metadata": {
  "kernelspec": {
   "display_name": "Python 3",
   "language": "python",
   "name": "python3"
  },
  "language_info": {
   "codemirror_mode": {
    "name": "ipython",
    "version": 3
   },
   "file_extension": ".py",
   "mimetype": "text/x-python",
   "name": "python",
   "nbconvert_exporter": "python",
   "pygments_lexer": "ipython3",
   "version": "3.6.6"
  },
  "latex_envs": {
   "LaTeX_envs_menu_present": true,
   "autoclose": false,
   "autocomplete": true,
   "bibliofile": "biblio.bib",
   "cite_by": "apalike",
   "current_citInitial": 1,
   "eqLabelWithNumbers": true,
   "eqNumInitial": 1,
   "hotkeys": {
    "equation": "Ctrl-E",
    "itemize": "Ctrl-I"
   },
   "labels_anchors": false,
   "latex_user_defs": false,
   "report_style_numbering": false,
   "user_envs_cfg": false
  }
 },
 "nbformat": 4,
 "nbformat_minor": 2
}
