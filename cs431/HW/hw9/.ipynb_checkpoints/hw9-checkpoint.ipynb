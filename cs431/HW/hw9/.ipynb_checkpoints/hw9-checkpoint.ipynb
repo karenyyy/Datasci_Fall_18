{
 "cells": [
  {
   "cell_type": "markdown",
   "metadata": {},
   "source": [
    "### PHP Test Code [demo link here](http://cs431project-jxy225.herokuapp.com/view/main.php)"
   ]
  },
  {
   "cell_type": "code",
   "execution_count": 11,
   "metadata": {},
   "outputs": [],
   "source": [
    "<link rel=\"stylesheet\" type=\"text/css\" HREF=\"../css/style.css\">\n",
    "\n",
    "<?php\n",
    "/**\n",
    " * Created by PhpStorm.\n",
    " * User: karen\n",
    " * Date: 10/24/18\n",
    " * Time: 12:00 PM\n",
    " */\n",
    "\n",
    "require_once('../connect/connect.php');\n",
    "require_once('../helper/schedulehelper.php');\n",
    "\n",
    "\n",
    "function insert($con, $dept, $date, $empid, $start_time, $firstname, $lastname)\n",
    "{\n",
    "    $query = \"SELECT length FROM shift WHERE from_time='$start_time'\";\n",
    "    $res = mysqli_query($con, $query);\n",
    "    $num_lengths = mysqli_num_rows($res);\n",
    "    if ($num_lengths > 1) {\n",
    "        echo '<h4><center>But there are multiple shift length at this start time!!</center></h4>';\n",
    "        $i = 0;\n",
    "        while ($row = mysqli_fetch_assoc($res)) {\n",
    "            $i = $i + 1;\n",
    "            echo '<center><br><br>option ' . $i . ':  ' . $row['length'] . 'hrs <br></center>';\n",
    "        }\n",
    "        echo '<br><br><center>Which shift length? Please specify!</center>';\n",
    "    } else {\n",
    "        $shift_length = mysqli_fetch_assoc($res)['length'];\n",
    "\n",
    "        $query = \"INSERT INTO schedule (date, empid, dept, start_time, shift_length) VALUES\n",
    "                      ('$date',\n",
    "                       '$empid',\n",
    "                       '$dept',\n",
    "                       '$start_time',\n",
    "                        $shift_length)\";\n",
    "        echo '<center>SQL Query: ' . $query . '</center>';\n",
    "        $result = mysqli_query($con, $query);\n",
    "        if (!($result)) {\n",
    "            $msg = 'MySQL error #' . mysqli_connect_errno() . \": \" . mysqli_connect_error();\n",
    "            printf($msg, __FILE__, __LINE__);\n",
    "        } else {\n",
    "            echo '<br><br><h4><center>Employee <i>' . $firstname . ' ' . $lastname . \n",
    "            '</i> is scheduled on ' . $date . ' starting from ' . $start_time . ' for ' . $shift_length .\n",
    "            ' hours in ' . $dept . '</center></h4>';\n",
    "        }\n",
    "    }\n",
    "}\n",
    "\n",
    "\n",
    "function schedule($con, $dept, $date, $empid, $start_time)\n",
    "{\n",
    "    $date = convert_date_format($date);\n",
    "\n",
    "    $query = \"SELECT firstname, lastname\n",
    "                  FROM employees\n",
    "                  WHERE empid = '$empid'\";\n",
    "    $result = mysqli_query($con, $query);\n",
    "\n",
    "    if (0 == mysqli_num_rows($result)) {\n",
    "        echo '<br><br><h4 style=\"color: red\"><center>No Employee <i>' . $empid . \n",
    "        '</i> in the database! Please double check!</center></h4>';\n",
    "    } else {\n",
    "        $row = mysqli_fetch_assoc($result);\n",
    "        $firstname = $row['firstname'];\n",
    "        $lastname = $row['lastname'];\n",
    "\n",
    "        $query = \"SELECT *\n",
    "                FROM schedule\n",
    "                WHERE empid='$empid'\n",
    "                AND date='$date'\n",
    "                AND dept='$dept'\";\n",
    "\n",
    "        $result = mysqli_query($con, $query);\n",
    "        if (!($result)) {\n",
    "            $msg = 'MySQL error #' . mysqli_connect_errno() . \": \" . mysqli_connect_error();\n",
    "            printf($msg, __FILE__, __LINE__);\n",
    "        } else if (0 == mysqli_num_rows($result)) {\n",
    "\n",
    "            echo '<br>\n",
    "                    <h4><center><i>' . $firstname . ' ' . $lastname . '</i> is open for \n",
    "            schedule on ' . $date . ' starting from ' . $start_time . ' in ' . $dept . ' </center></h4><br>';\n",
    "\n",
    "            insert($con, $dept, $date, $empid, $start_time, $firstname, $lastname);\n",
    "        } else {\n",
    "\n",
    "            echo \"<br><br>\";\n",
    "            echo \"<h4 style='color: red'><center>Employee <i>\" . $firstname . \" \" . \n",
    "            $lastname . \"</i> has already been scheduled on $date:</center></h4><br><br>\";\n",
    "\n",
    "            echo \"<table class='center' border=1>\";\n",
    "            echo \"<tr>\";\n",
    "            $i = 0;\n",
    "            while ($i < mysqli_num_fields($result)) {\n",
    "                $meta = mysqli_fetch_field_direct($result, $i);\n",
    "                echo '<td>' . $meta->name . '</td>';\n",
    "                $i = $i + 1;\n",
    "            }\n",
    "\n",
    "            while ($row = mysqli_fetch_assoc($result)) {\n",
    "                echo \"<tr>\\n\";\n",
    "                foreach ($row as $cell) {\n",
    "                    echo \"<td> $cell </td>\";\n",
    "                }\n",
    "                echo \"</tr>\\n\";\n",
    "            }\n",
    "\n",
    "            echo \"</table><br><br><br>\";\n",
    "        }\n",
    "    }\n",
    "\n",
    "\n",
    "}\n",
    "\n",
    "\n",
    "function unschedule($con, $dept, $date, $empid)\n",
    "{\n",
    "    $date = convert_date_format($date);\n",
    "\n",
    "    $query = \"SELECT firstname, lastname\n",
    "                  FROM employees\n",
    "                  WHERE empid = '$empid'\";\n",
    "    $result = mysqli_query($con, $query);\n",
    "\n",
    "    if (0 == mysqli_num_rows($result)) {\n",
    "        echo '<br><br>\n",
    "                    <h4 style=\"color: red\"><center>No Employee <i>' . $empid . '</i> \n",
    "        in the database! Please double check!</center></h4>';\n",
    "    } else {\n",
    "        $row = mysqli_fetch_assoc($result);\n",
    "\n",
    "        $firstname = $row['firstname'];\n",
    "        $lastname = $row['lastname'];\n",
    "\n",
    "\n",
    "        $query = \"SELECT *\n",
    "                FROM schedule\n",
    "                WHERE empid='$empid'\n",
    "                AND date='$date'\n",
    "                AND dept='$dept'\";\n",
    "        if (0 == mysqli_num_rows(mysqli_query($con, $query))) {\n",
    "\n",
    "            echo '<br><br><center><h4 style=\"color: red\">Employee <i>' . $firstname . ' ' . \n",
    "            $lastname . '</i> has not been scheduled, please double check!!</h4></center><br>';\n",
    "        } else {\n",
    "            $query = \"DELETE FROM schedule WHERE dept='$dept' AND date='$date' AND empid='$empid'\";\n",
    "            $result = mysqli_query($con, $query);\n",
    "            if ($result) {\n",
    "                echo '<center><h4>Employee <i>' . $firstname . ' ' . $lastname . '</i> is \n",
    "                successfully unscheduled on ' . $date . ' in the ' . $dept . ' department.</h4></center>';\n",
    "            }\n",
    "        }\n",
    "    }\n",
    "}\n",
    "\n",
    "function test_cases($con)\n",
    "{\n",
    "    $dept_arr = array('EMERGENCY', 'PEDIATRICS', 'RADIOLOGY', 'ONCOLOGY');\n",
    "    $empid_arr = array('853537', '854480', '878397', '898057', '945540', '995636');\n",
    "    $date_arr = array('10-01-2018', '10-03-2018', '09-24-2018', '09-28-2018', '09-30-2018', '10-03-2018');\n",
    "    $start_time_arr = array('07:00:00', '19:00:00', '15:00:00', '23:00:00');\n",
    "\n",
    "    $num_tests = 5;\n",
    "    $i = 0;\n",
    "\n",
    "    # test schedule:\n",
    "    while ($i < $num_tests) {\n",
    "        $i = $i + 1;\n",
    "        echo '<h3 style=\"margin-left: 20%\">Test  ' . $i . ':</h3><br><br>';\n",
    "\n",
    "        echo '<h4 style=\"margin-left: 25%\">Schedule Case ' . $i . ':</h4><br><br>';\n",
    "\n",
    "        $dept = $dept_arr[array_rand($dept_arr, 1)];\n",
    "        $date = $date_arr[array_rand($date_arr, 1)];\n",
    "        $empid = $empid_arr[array_rand($empid_arr, 1)];\n",
    "        $start_time = $start_time_arr[array_rand($start_time_arr, 1)];\n",
    "\n",
    "        echo '<center>Department: '.$dept.'<br><br>Date: '.$date.'<br><br>EmployeeID: '.\n",
    "        $empid.'<br><br>StartTime: '.$start_time.'<br><br></center>';\n",
    "\n",
    "        schedule($con, $dept, $date, $empid, $start_time);\n",
    "\n",
    "        echo '<br><br><br><h4 style=\"margin-left: 25%\">Unschedule Case ' . $i . ':</h4><br><br>';\n",
    "\n",
    "        $dept = $dept_arr[array_rand($dept_arr, 1)];\n",
    "        $date = $date_arr[array_rand($date_arr, 1)];\n",
    "        $empid = $empid_arr[array_rand($empid_arr, 1)];\n",
    "\n",
    "        echo '<center>Department: '.$dept.'<br><br>Date: '.$date.'<br><br>EmployeeID: '.\n",
    "        $empid.'<br><br>StartTime: '.$start_time.'<br><br></center>';\n",
    "\n",
    "        unschedule($con, $dept, $date, $empid);\n",
    "\n",
    "\n",
    "    }\n",
    "}\n",
    "\n",
    "test_cases($con);"
   ]
  },
  {
   "cell_type": "markdown",
   "metadata": {
    "heading_collapsed": true
   },
   "source": [
    "### ER Diagram"
   ]
  },
  {
   "cell_type": "markdown",
   "metadata": {
    "hidden": true
   },
   "source": [
    "![](1.png)"
   ]
  },
  {
   "cell_type": "markdown",
   "metadata": {},
   "source": [
    "### Show and Describe Tables [click for demo](http://cs431project-jxy225.herokuapp.com/view/main.php)"
   ]
  },
  {
   "cell_type": "markdown",
   "metadata": {
    "heading_collapsed": true
   },
   "source": [
    "#### php code"
   ]
  },
  {
   "cell_type": "code",
   "execution_count": null,
   "metadata": {
    "hidden": true
   },
   "outputs": [],
   "source": [
    "function showTables($con)\n",
    "{\n",
    "    $query = \"SHOW TABLES\";\n",
    "    $result = mysqli_query($con, $query);\n",
    "\n",
    "    echo \"<div style='margin-left: 30%; margin-right: auto'><h3>Show Tables:</h3></div>\";\n",
    "\n",
    "    while ($row = mysqli_fetch_assoc($result)) {\n",
    "        foreach ($row as $table) {\n",
    "            echo \"<center><h4>$table</h4></center>\";\n",
    "            describeTable($con, $table);\n",
    "            echo \"<br>\";\n",
    "        }\n",
    "    }\n",
    "}\n",
    "\n",
    "\n",
    "function describeTable($con, $table)\n",
    "{\n",
    "    $query = \"DESCRIBE $table\";\n",
    "    $result = mysqli_query($con, $query);\n",
    "\n",
    "    echo \"<table class='table table-striped' style='text-align: center' border=1>\";\n",
    "\n",
    "    while($row = mysqli_fetch_array($result)) {\n",
    "        echo \"<tr>\\n\";\n",
    "        echo \"<td>{$row['Field']} - {$row['Type']}</td>\";\n",
    "        echo \"</tr>\\n\";\n",
    "    }\n",
    "    echo \"</table>\";\n",
    "}\n",
    "\n",
    "\n",
    "showTables($con);"
   ]
  },
  {
   "cell_type": "markdown",
   "metadata": {
    "hidden": true
   },
   "source": [
    "![](2.png)"
   ]
  },
  {
   "cell_type": "markdown",
   "metadata": {},
   "source": [
    "### Test cases(randomly schedule employees) [click for demo](http://cs431project-jxy225.herokuapp.com/view/test.php)"
   ]
  },
  {
   "cell_type": "markdown",
   "metadata": {
    "heading_collapsed": true
   },
   "source": [
    "#### display test results"
   ]
  },
  {
   "cell_type": "markdown",
   "metadata": {
    "hidden": true
   },
   "source": [
    "A capture of the PHP program executing, showing multiple executions of the\n",
    "   \tscheduleSomeone and unScheduleSomeone functions, along with failing appropriate test\n",
    "   \tcases (e.g., no one of that type is needed in this department and that date and shift).\\\\\\\\\n",
    "   \t\n",
    "   \t\n",
    "   \\noindent \t\\textbf{Case 1: Try to schedule someone who has already been scheduled and  unschedule someone who has not been scheduled.}\n",
    "   \n",
    "   \\begin{figure}[H]\n",
    "   \t\t\\centering\n",
    "   \t\t\\includegraphics{4.png}\n",
    "   \t\t\\caption{}\n",
    "   \t\\end{figure}\n",
    "    \n",
    "    \n",
    "   \\begin{figure}[H]\n",
    "   \t\t\\centering\n",
    "   \t\t\\includegraphics{6.png}\n",
    "   \t\t\\caption{}\n",
    "   \t\\end{figure}\n",
    "   \t\n",
    "   \\noindent \t\\textbf{Case 2: Successfully schedule someone and unschedule someone who has not been scheduled.}\n",
    "   \n",
    "   \\begin{figure}[H]\n",
    "   \t\t\\centering\n",
    "   \t\t\\includegraphics{5.png}\n",
    "   \t\t\\caption{}\n",
    "   \t\\end{figure}\n",
    "    \n",
    "    \n",
    "   \t\n",
    "   \\noindent \t\\textbf{Case 3: Try to schedule someone who is not in the system and  unschedule someone who has not been scheduled.}\n",
    "   \n",
    "   \\begin{figure}[H]\n",
    "   \t\t\\centering\n",
    "   \t\t\\includegraphics{7.png}\n",
    "   \t\t\\caption{}\n",
    "   \t\\end{figure}\n",
    "   \n",
    "   \\noindent \t\\textbf{Case 4: Try to schedule someone who has already been scheduled and  successfully unschedule someone.}\n",
    "   \n",
    "   \\begin{figure}[H]\n",
    "   \t\t\\centering\n",
    "   \t\t\\includegraphics{8.png}\n",
    "   \t\t\\caption{}\n",
    "   \t\\end{figure}\n",
    "   "
   ]
  },
  {
   "cell_type": "markdown",
   "metadata": {
    "hidden": true
   },
   "source": [
    "_Note$^*$: I did not change much about the database design and the ER disgram, but I add some test functions as required in the instruction and make the demo site better than the previous assignment._"
   ]
  }
 ],
 "metadata": {
  "kernelspec": {
   "display_name": "Python 3",
   "language": "python",
   "name": "python3"
  },
  "language_info": {
   "codemirror_mode": {
    "name": "ipython",
    "version": 3
   },
   "file_extension": ".py",
   "mimetype": "text/x-python",
   "name": "python",
   "nbconvert_exporter": "python",
   "pygments_lexer": "ipython3",
   "version": "3.6.6"
  },
  "latex_envs": {
   "LaTeX_envs_menu_present": true,
   "autoclose": false,
   "autocomplete": true,
   "bibliofile": "biblio.bib",
   "cite_by": "apalike",
   "current_citInitial": 1,
   "eqLabelWithNumbers": true,
   "eqNumInitial": 1,
   "hotkeys": {
    "equation": "Ctrl-E",
    "itemize": "Ctrl-I"
   },
   "labels_anchors": false,
   "latex_user_defs": false,
   "report_style_numbering": false,
   "user_envs_cfg": false
  },
  "varInspector": {
   "cols": {
    "lenName": 16,
    "lenType": 16,
    "lenVar": 40
   },
   "kernels_config": {
    "python": {
     "delete_cmd_postfix": "",
     "delete_cmd_prefix": "del ",
     "library": "var_list.py",
     "varRefreshCmd": "print(var_dic_list())"
    },
    "r": {
     "delete_cmd_postfix": ") ",
     "delete_cmd_prefix": "rm(",
     "library": "var_list.r",
     "varRefreshCmd": "cat(var_dic_list()) "
    }
   },
   "types_to_exclude": [
    "module",
    "function",
    "builtin_function_or_method",
    "instance",
    "_Feature"
   ],
   "window_display": false
  }
 },
 "nbformat": 4,
 "nbformat_minor": 2
}
