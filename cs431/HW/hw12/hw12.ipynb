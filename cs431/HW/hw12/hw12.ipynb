{
 "cells": [
  {
   "cell_type": "markdown",
   "metadata": {
    "heading_collapsed": true
   },
   "source": [
    "## SQL queries"
   ]
  },
  {
   "cell_type": "markdown",
   "metadata": {
    "heading_collapsed": true,
    "hidden": true
   },
   "source": [
    "#### list all available employees"
   ]
  },
  {
   "cell_type": "code",
   "execution_count": null,
   "metadata": {
    "hidden": true
   },
   "outputs": [],
   "source": [
    "select empid, emptype\n",
    "from employees2\n",
    "where emptype='$emptype'\n",
    "and empid not in\n",
    "    (select empid from (select table2.empid, table2.date from (select empid\n",
    "        from employees2\n",
    "        where emptype='$emptype') as table1\n",
    "    inner join\n",
    "    (select *\n",
    "        from daysoff) as table2\n",
    "    on table1.empid = table2.empid\n",
    "    where date = '$date') as request_day_off)\n",
    "and empid not in\n",
    "    (select empid from (select table2.empid, table2.date from (select empid\n",
    "        from employees2\n",
    "        where emptype='$emptype') as table1\n",
    "    inner join\n",
    "    (select *\n",
    "        from schedule2) as table2\n",
    "    on table1.empid = table2.empid\n",
    "    where date = '$date') as already_scheduled)"
   ]
  },
  {
   "cell_type": "markdown",
   "metadata": {
    "heading_collapsed": true,
    "hidden": true
   },
   "source": [
    "#### schedule avaiable employee"
   ]
  },
  {
   "cell_type": "code",
   "execution_count": null,
   "metadata": {
    "hidden": true
   },
   "outputs": [],
   "source": [
    "insert into schedule2 (dept, date, shift, empid)\n",
    "             values ('$dept', '$date', '$shift', $empid);"
   ]
  },
  {
   "cell_type": "markdown",
   "metadata": {
    "heading_collapsed": true,
    "hidden": true
   },
   "source": [
    "#### update the department needs table"
   ]
  },
  {
   "cell_type": "code",
   "execution_count": null,
   "metadata": {
    "hidden": true
   },
   "outputs": [],
   "source": [
    "update department_need\n",
    "set number_of_employees = number_of_employees - 1\n",
    "where emptype='$emptype'\n",
    "and date='$date'\n",
    "and period='$shift'\n",
    "and department_name='$dept'\n",
    "\n",
    "# or delete if the number of employees needed for the department is 0 after updating      \n",
    "delete from department_need\n",
    "where emptype='$emptype'\n",
    "and date='$date'\n",
    "and period='$shift'\n",
    "and department_name='$dept'"
   ]
  },
  {
   "cell_type": "markdown",
   "metadata": {
    "heading_collapsed": true
   },
   "source": [
    "## php code"
   ]
  },
  {
   "cell_type": "markdown",
   "metadata": {
    "heading_collapsed": true,
    "hidden": true
   },
   "source": [
    "### list all available employees (not scheduled or requested any day off)\n",
    "\n",
    "- input\n",
    "    - Date\n",
    "    - Employee Type\n",
    "- output\n",
    "    - a list of all available employees of the assigned employee type on that assigned date"
   ]
  },
  {
   "cell_type": "code",
   "execution_count": null,
   "metadata": {
    "hidden": true
   },
   "outputs": [],
   "source": [
    "<?php\n",
    "/**\n",
    " * Created by PhpStorm.\n",
    " * User: karen\n",
    " * Date: 11/14/18\n",
    " * Time: 4:41 PM\n",
    " */\n",
    "\n",
    "\n",
    "require_once('../connect/connect.php');\n",
    "require_once('../helper/schedulehelper.php');\n",
    "\n",
    "\n",
    "function check_available($con)\n",
    "{\n",
    "    if (isset($_POST[\"date\"],\n",
    "              $_POST['emptype'])) {\n",
    "        $date = $_POST['date'];\n",
    "        $emptype = $_POST['emptype'];\n",
    "\n",
    "        $query = \"\n",
    "            select empid, emptype\n",
    "                from employees2\n",
    "                where emptype='$emptype'\n",
    "                and empid not in\n",
    "                    (select empid from (select table2.empid, table2.date from (select empid\n",
    "                                                            from employees2\n",
    "                                                            where emptype='$emptype') as table1\n",
    "                                                             inner join\n",
    "                                                               (select *\n",
    "                                                                from daysoff) as table2\n",
    "                                                               on table1.empid = table2.empid\n",
    "                     where date = '$date') as request_day_off)\n",
    "                and empid not in\n",
    "                    (select empid from (select table2.empid, table2.date from (select empid\n",
    "                                                            from employees2\n",
    "                                                            where emptype='$emptype') as table1\n",
    "                                                             inner join\n",
    "                                                               (select *\n",
    "                                                                from schedule2) as table2\n",
    "                                                               on table1.empid = table2.empid\n",
    "                     where date = '$date') as already_scheduled)\n",
    "        \";\n",
    "\n",
    "        if (!($result = mysqli_query($con, $query))) {\n",
    "            $msg = 'MySQL error #' . mysqli_connect_errno() . \": \" . mysqli_connect_error();\n",
    "\n",
    "            printf($msg, __FILE__, __LINE__);\n",
    "\n",
    "        } else if (0 == mysqli_num_rows($result)) {\n",
    "            echo \"<center><h3>There're no $emptype employees available on $date!</h3></center><br>\";\n",
    "            return \"\";\n",
    "        } else {\n",
    "            echo \"<br><br>\";\n",
    "            echo \"<center><h4>The available list of $emptype employees on $date</h4><br><br>\";\n",
    "            echo \"<table class='table table-striped' border=1>\";\n",
    "            echo \"<tr>\";\n",
    "            $i = 0;\n",
    "            $col_name = array();\n",
    "            while ($i < mysqli_num_fields($result)) {\n",
    "                $meta = mysqli_fetch_field_direct($result, $i);\n",
    "                echo '<td>' . $meta->name . '</td>';\n",
    "                $i = $i + 1;\n",
    "                array_push($col_name, $meta->name);\n",
    "            }\n",
    "            echo '<td>Date</td>';\n",
    "            echo '<td>Department</td>';\n",
    "            echo '<td>Shift</td>';\n",
    "            echo '<td>Schedule</td>';\n",
    "\n",
    "\n",
    "            while ($row = mysqli_fetch_assoc($result)) {\n",
    "                echo \"<tr>\\n\";\n",
    "                $index = 0;\n",
    "                echo \"<form class='post_form' action='../tasks/add_schedule.php' method='post'>\";\n",
    "                foreach ($row as $cell) {\n",
    "                    echo \"<td><input style='width: 100px' type='text' name='$col_name[$index]' value='$cell'></td>\";\n",
    "                    $index++;\n",
    "                }\n",
    "                echo \"<td><input style='width: 100px' type='text' name='date' value='$date'></td>\";\n",
    "                echo '<td><select name=\\'dept\\'>'.DepartmentNeedList($con).'</select></td>';\n",
    "                echo '<td><select name=\\'shift\\'>'.ShiftList($con).'</select></td>';\n",
    "                echo \"<td><input type='submit' value='schedule'></td>\";\n",
    "                echo \"</tr></form>\\n\";\n",
    "            }\n",
    "\n",
    "            echo \"</table><br><br><br>\";\n",
    "        }\n",
    "    }\n",
    "}\n",
    "\n",
    "\n",
    "check_available($con);"
   ]
  },
  {
   "cell_type": "markdown",
   "metadata": {
    "heading_collapsed": true,
    "hidden": true
   },
   "source": [
    "### schedule someone from the available employees list and decrement the needs table for that dept/date/shift/emptype"
   ]
  },
  {
   "cell_type": "code",
   "execution_count": null,
   "metadata": {
    "hidden": true
   },
   "outputs": [],
   "source": [
    "<?php\n",
    "/**\n",
    " * Created by PhpStorm.\n",
    " * User: karen\n",
    " * Date: 11/14/18\n",
    " * Time: 7:31 PM\n",
    " */\n",
    "require_once('../view/navbar.php');\n",
    "require_once('../connect/connect.php');\n",
    "require_once('../helper/schedulehelper.php');\n",
    "\n",
    "\n",
    "function delete_from_needs($con)\n",
    "{\n",
    "    if (isset(\n",
    "        $_POST['empid'],\n",
    "        $_POST[\"date\"],\n",
    "        $_POST['emptype'],\n",
    "        $_POST['dept'],\n",
    "        $_POST['shift'])) {\n",
    "\n",
    "        $dept = $_POST['dept'];\n",
    "        $date = $_POST['date'];\n",
    "        $shift = $_POST['shift'];\n",
    "        $emptype = $_POST['emptype'];\n",
    "\n",
    "        $query = \"\n",
    "            update department_need\n",
    "            set number_of_employees = number_of_employees - 1\n",
    "            where emptype='$emptype'\n",
    "            and date='$date'\n",
    "            and period='$shift'\n",
    "            and department_name='$dept'\n",
    "        \";\n",
    "        $result = mysqli_query($con, $query);\n",
    "        if (!($result)) {\n",
    "            $msg = 'MySQL error #' . mysqli_connect_errno() . \": \" . mysqli_connect_error();\n",
    "            printf($msg, __FILE__, __LINE__);\n",
    "        }else{\n",
    "            echo '<br><br><h3><center>The number of employees needed for department '. $dept .' is updated.</center></h3><br><br>';\n",
    "        }\n",
    "\n",
    "        $query = \"\n",
    "            select number_of_employees\n",
    "                from department_need\n",
    "                where emptype='$emptype'\n",
    "                  and date='$date'\n",
    "                  and period='$shift'\n",
    "                  and department_name='$dept'\n",
    "        \";\n",
    "\n",
    "        $result = mysqli_query($con, $query);\n",
    "        if (!($result)) {\n",
    "            $msg = 'MySQL error #' . mysqli_connect_errno() . \": \" . mysqli_connect_error();\n",
    "            printf($msg, __FILE__, __LINE__);\n",
    "        }else {\n",
    "            $num_emp = mysqli_fetch_assoc($result);\n",
    "\n",
    "            if ($num_emp['number_of_employees'] == 0) {\n",
    "                $query = \"\n",
    "                delete from department_need\n",
    "                    where emptype='$emptype'\n",
    "                      and date='$date'\n",
    "                      and period='$shift'\n",
    "                      and department_name='$dept'\n",
    "                  \";\n",
    "                $result = mysqli_query($con, $query);\n",
    "                if (!($result)) {\n",
    "                    $msg = 'MySQL error #' . mysqli_connect_errno() . \": \" . mysqli_connect_error();\n",
    "                    printf($msg, __FILE__, __LINE__);\n",
    "                }\n",
    "            }\n",
    "        }\n",
    "\n",
    "    }\n",
    "}\n",
    "\n",
    "\n",
    "function schedule_by_emptype($con)\n",
    "{\n",
    "    if (isset(\n",
    "        $_POST['empid'],\n",
    "        $_POST[\"date\"],\n",
    "        $_POST['emptype'],\n",
    "        $_POST['dept'],\n",
    "        $_POST['shift'])) {\n",
    "\n",
    "        $emptype = $_POST['emptype'];\n",
    "        $empid = $_POST['empid'];\n",
    "        $dept = $_POST['dept'];\n",
    "        $date = $_POST['date'];\n",
    "        $shift = $_POST['shift'];\n",
    "\n",
    "        $query = \"\n",
    "            select *\n",
    "                from department_need\n",
    "                where emptype='$emptype'\n",
    "                  and date='$date'\n",
    "                  and period='$shift'\n",
    "                  and department_name='$dept'\n",
    "        \";\n",
    "        $result = mysqli_query($con, $query);\n",
    "        if (!($result)) {\n",
    "            $msg = 'MySQL error #' . mysqli_connect_errno() . \": \" . mysqli_connect_error();\n",
    "            printf($msg, __FILE__, __LINE__);\n",
    "        }else {\n",
    "            if (0 == mysqli_num_rows($result)) {\n",
    "                echo '<br><br><h3><center>No ' . $emptype . ' employees are needed for department ' . $dept . ' from ' . $shift . ' on ' . $date . '.</center></h3><br><br>';\n",
    "            } else {\n",
    "                $query = \"\n",
    "            insert into schedule2 (dept, date, shift, empid)\n",
    "            values ('$dept', '$date', '$shift', $empid);\n",
    "                \";\n",
    "\n",
    "                $result = mysqli_query($con, $query);\n",
    "                if (!($result)) {\n",
    "                    $msg = 'MySQL error #' . mysqli_connect_errno() . \": \" . mysqli_connect_error();\n",
    "                    printf($msg, __FILE__, __LINE__);\n",
    "                } else {\n",
    "                    $query = \"SELECT firstname, lastname\n",
    "                  FROM employees2\n",
    "                  WHERE empid = '$empid'\";\n",
    "                    $result = mysqli_query($con, $query);\n",
    "                    $row = mysqli_fetch_assoc($result);\n",
    "                    $firstname = $row['firstname'];\n",
    "                    $lastname = $row['lastname'];\n",
    "                    echo '<br><br><h3><center><i>' . $firstname . ' ' . $lastname . '</i> (id: ' . $empid . ') is successfully scheduled\n",
    "                for department ' . $dept . ' from ' . $shift . ' on date ' . $date . '</center></h3><br><br>';\n",
    "                }\n",
    "\n",
    "                delete_from_needs($con);\n",
    "            }\n",
    "        }\n",
    "    }\n",
    "}\n",
    "\n",
    "schedule_by_emptype($con);\n",
    "\n",
    "?>\n",
    "\n",
    "<script>\n",
    "    setTimeout(function () {\n",
    "        window.location.href = '../view/schedule_emptype_display.php';\n",
    "    }, 5000);\n",
    "</script>"
   ]
  },
  {
   "cell_type": "markdown",
   "metadata": {
    "heading_collapsed": true
   },
   "source": [
    "## database design"
   ]
  },
  {
   "cell_type": "markdown",
   "metadata": {
    "hidden": true
   },
   "source": [
    "![](er.png)"
   ]
  },
  {
   "cell_type": "markdown",
   "metadata": {
    "heading_collapsed": true
   },
   "source": [
    "## table description\n"
   ]
  },
  {
   "cell_type": "markdown",
   "metadata": {
    "hidden": true
   },
   "source": [
    "![](1.png)\n",
    "\n",
    "\n",
    "![](2.png)\n",
    "\n",
    "\n",
    "![](3.png)\n",
    "\n"
   ]
  },
  {
   "cell_type": "markdown",
   "metadata": {},
   "source": [
    "## test cases [(click for demo)]()"
   ]
  },
  {
   "cell_type": "markdown",
   "metadata": {
    "heading_collapsed": true
   },
   "source": [
    "#### Date: Dec 24 2018; Emptype: LPN; Department: SUR; Shift: 3PM-11PM"
   ]
  },
  {
   "cell_type": "markdown",
   "metadata": {
    "hidden": true
   },
   "source": [
    "\n",
    "\n",
    "![](4.png)\n",
    "\n",
    "\n",
    "![](5.png)\n",
    "\n",
    "![](6.png)\n",
    "\n",
    "\n",
    "pick an employee to schedule for a shift in a department  \n",
    "\n",
    "![](7.png)\n",
    "\n",
    "![](8.png)\n",
    "\n",
    "and after being scheduled, the employee (id:1) will no longer appear on the available list  \n",
    "\n",
    "![](9.png)\n",
    "\n",
    "the scheduling information will be added to the schedule table:\n",
    "\n",
    "\n",
    "![](15.png)\n",
    "\n"
   ]
  },
  {
   "cell_type": "markdown",
   "metadata": {
    "heading_collapsed": true
   },
   "source": [
    "#### Date: Jan 06 2018, Emptype: RN; Department: MAT; Shift: 11AM-7PM"
   ]
  },
  {
   "cell_type": "markdown",
   "metadata": {
    "hidden": true
   },
   "source": [
    "\n",
    "![](16.png)\n",
    "![](18.png)\n",
    "![](19.png)\n",
    "![](20.png)\n",
    "\n",
    "\n",
    "pick an employee to schedule for a shift in a department\n",
    "![](21.png)\n",
    "\n",
    "![](22.png)\n",
    "\n",
    "and after being scheduled, the employee (id:99) will no longer appear on the available list\n",
    "![](23.png)\n",
    "\n",
    "the scheduling information will be added to the schedule table:\n",
    "\n",
    "![](24.png)\n",
    "\n",
    "\n",
    "\n",
    "\n",
    "\n",
    "\n",
    "\n",
    "\n",
    "\n",
    "\n",
    "\n",
    "\n",
    "\n",
    "\n",
    "\n"
   ]
  },
  {
   "cell_type": "markdown",
   "metadata": {
    "heading_collapsed": true
   },
   "source": [
    "#### Date: Dec 30 2018, Emptype: ULTRA;  Department: ICU; Shift: 3PM-11PM"
   ]
  },
  {
   "cell_type": "markdown",
   "metadata": {
    "hidden": true
   },
   "source": [
    "\n",
    "\n",
    "![](10.png)\n",
    "\n",
    "![](11.png)\n",
    "\n",
    "\n",
    "pick an employee to schedule for a shift in a department  \n",
    "\n",
    "![](12.png)\n",
    "\n",
    "__Fail to schedule since the assigned department has no need for that employee type on the assigned date__\n",
    "\n",
    "![](13.png)\n",
    "\n",
    "So there will no changes made to the list of available employees:\n",
    "\n",
    "\n",
    "![](14.png)\n",
    "\n"
   ]
  }
 ],
 "metadata": {
  "kernelspec": {
   "display_name": "Python 3",
   "language": "python",
   "name": "python3"
  },
  "language_info": {
   "codemirror_mode": {
    "name": "ipython",
    "version": 3
   },
   "file_extension": ".py",
   "mimetype": "text/x-python",
   "name": "python",
   "nbconvert_exporter": "python",
   "pygments_lexer": "ipython3",
   "version": "3.6.6"
  },
  "latex_envs": {
   "LaTeX_envs_menu_present": true,
   "autoclose": false,
   "autocomplete": true,
   "bibliofile": "biblio.bib",
   "cite_by": "apalike",
   "current_citInitial": 1,
   "eqLabelWithNumbers": true,
   "eqNumInitial": 1,
   "hotkeys": {
    "equation": "Ctrl-E",
    "itemize": "Ctrl-I"
   },
   "labels_anchors": false,
   "latex_user_defs": false,
   "report_style_numbering": false,
   "user_envs_cfg": false
  },
  "varInspector": {
   "cols": {
    "lenName": 16,
    "lenType": 16,
    "lenVar": 40
   },
   "kernels_config": {
    "python": {
     "delete_cmd_postfix": "",
     "delete_cmd_prefix": "del ",
     "library": "var_list.py",
     "varRefreshCmd": "print(var_dic_list())"
    },
    "r": {
     "delete_cmd_postfix": ") ",
     "delete_cmd_prefix": "rm(",
     "library": "var_list.r",
     "varRefreshCmd": "cat(var_dic_list()) "
    }
   },
   "types_to_exclude": [
    "module",
    "function",
    "builtin_function_or_method",
    "instance",
    "_Feature"
   ],
   "window_display": false
  }
 },
 "nbformat": 4,
 "nbformat_minor": 2
}
