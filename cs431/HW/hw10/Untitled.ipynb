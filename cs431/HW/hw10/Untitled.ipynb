{
 "cells": [
  {
   "cell_type": "markdown",
   "metadata": {},
   "source": [
    "### define salary"
   ]
  },
  {
   "cell_type": "code",
   "execution_count": null,
   "metadata": {},
   "outputs": [],
   "source": [
    "ALTER TABLE employees ADD COLUMN wage_per_hrs FLOAT AFTER ftpt;\n",
    "\n",
    "UPDATE employees SET wage_per_hrs=\n",
    "CASE\n",
    "    WHEN emptype='LPN' AND ftpt = 'FT' THEN ROUND(RAND() * (25 - 15 + 1) + 15, 3)\n",
    "    WHEN emptype='LPN' AND ftpt = 'PT' THEN ROUND(0.8*(RAND() * (25 - 15 + 1) + 15), 3)\n",
    "    WHEN emptype='RN' AND ftpt = 'FT' THEN ROUND(RAND() * (35 - 25 + 1) + 25, 3)\n",
    "    WHEN emptype='RN' AND ftpt = 'FT' THEN ROUND(0.8*(RAND() * (35 - 25 + 1) + 25), 3)\n",
    "    ELSE ROUND(RAND() * (30 - 20 + 1) + 20, 3) \n",
    "END;"
   ]
  },
  {
   "cell_type": "code",
   "execution_count": null,
   "metadata": {},
   "outputs": [],
   "source": [
    "<?php require_once ('navbar.php') ;\n",
    "      require_once ('../connect/connect.php');\n",
    "?>\n",
    "\n",
    "<meta name=\"viewport\" content=\"width=device-width, height=device-height, initial-scale=1.0\">\n",
    "\n",
    "<?php\n",
    "\n",
    "$query = \"\n",
    "   SELECT DEPARTMENT,\n",
    "  EMPLOYEE_TYPE,\n",
    "  CONCAT(DATE_FORMAT(START_TIME, '%I%p'),\n",
    "         '-',\n",
    "         DATE_FORMAT(DATE_ADD(START_TIME, INTERVAL SHIFT_LEN HOUR), '%I%p')) AS SHIFT,\n",
    "  CONCAT(SUM(EACH_COST)) AS COST FROM\n",
    "  (SELECT s.dept AS DEPARTMENT,\n",
    "           IF(LENGTH(e.emptype)=0, 'NA', e.emptype) AS EMPLOYEE_TYPE,\n",
    "           s.start_time AS START_TIME, s.shift_length AS SHIFT_LEN,\n",
    "           IF(s.start_time>'16:00:00' OR (s.start_time>'12:00:00' AND s.shift_length=12),\n",
    "              ROUND(s.shift_length*e.wage_per_hrs*1.2, 3), ROUND((s.shift_length*e.wage_per_hrs), 3)) AS EACH_COST\n",
    "    FROM schedule AS s, employees AS e\n",
    "    WHERE s.empid = e.empid\n",
    "    ORDER BY s.start_time) AS tmp\n",
    "GROUP BY DEPARTMENT, EMPLOYEE_TYPE, SHIFT\n",
    "ORDER BY DEPARTMENT, EMPLOYEE_TYPE, START_TIME, DATE_ADD(START_TIME, INTERVAL SHIFT_LEN HOUR);\n",
    "\";\n",
    "\n",
    "$result = mysqli_query($con, $query);\n",
    "\n",
    "echo \"<center><h2>Salary Report</h2></center>\";\n",
    "echo \"<br><table class='table table-striped' border=1>\";\n",
    "echo \"<tr>\";\n",
    "$i = 0;\n",
    "while ($i < mysqli_num_fields($result)) {\n",
    "    $meta = mysqli_fetch_field_direct($result, $i);\n",
    "    echo '<td>' . $meta->name . '</td>';\n",
    "    $i = $i + 1;\n",
    "}\n",
    "\n",
    "while ($row = mysqli_fetch_assoc($result)) {\n",
    "    echo \"<tr>\\n\";\n",
    "    foreach ($row as $cell) {\n",
    "        echo \"<td> $cell </td>\";\n",
    "    }\n",
    "    echo \"</tr>\\n\";\n",
    "}\n",
    "\n",
    "echo \"</table><br><br><br>\";"
   ]
  }
 ],
 "metadata": {
  "kernelspec": {
   "display_name": "Python 3",
   "language": "python",
   "name": "python3"
  },
  "language_info": {
   "codemirror_mode": {
    "name": "ipython",
    "version": 3
   },
   "file_extension": ".py",
   "mimetype": "text/x-python",
   "name": "python",
   "nbconvert_exporter": "python",
   "pygments_lexer": "ipython3",
   "version": "3.6.6"
  },
  "latex_envs": {
   "LaTeX_envs_menu_present": true,
   "autoclose": false,
   "autocomplete": true,
   "bibliofile": "biblio.bib",
   "cite_by": "apalike",
   "current_citInitial": 1,
   "eqLabelWithNumbers": true,
   "eqNumInitial": 1,
   "hotkeys": {
    "equation": "Ctrl-E",
    "itemize": "Ctrl-I"
   },
   "labels_anchors": false,
   "latex_user_defs": false,
   "report_style_numbering": false,
   "user_envs_cfg": false
  }
 },
 "nbformat": 4,
 "nbformat_minor": 2
}
