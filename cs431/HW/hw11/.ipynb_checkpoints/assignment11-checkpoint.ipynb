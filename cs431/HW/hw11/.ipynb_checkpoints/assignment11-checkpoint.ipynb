{
 "cells": [
  {
   "cell_type": "markdown",
   "metadata": {
    "heading_collapsed": true
   },
   "source": [
    "## Q1\n",
    "\n",
    "A ER diagram showing your data table design in 3NF."
   ]
  },
  {
   "cell_type": "markdown",
   "metadata": {
    "hidden": true
   },
   "source": [
    "![](1.png)"
   ]
  },
  {
   "cell_type": "markdown",
   "metadata": {
    "heading_collapsed": true
   },
   "source": [
    "## Q2\n",
    "\n",
    "Load this data into your 3NF tables structure."
   ]
  },
  {
   "cell_type": "code",
   "execution_count": 4,
   "metadata": {
    "hidden": true
   },
   "outputs": [],
   "source": [
    "CREATE TABLE department_need\n",
    "(\n",
    "  department_name  VARCHAR(10) NOT NULL,\n",
    "  date             TEXT        NULL,\n",
    "  period           VARCHAR(10) NULL,\n",
    "  emptype          VARCHAR(10) NULL,\n",
    "  number_of_shift  INT         NULL\n",
    ");\n",
    "\n",
    "CREATE TABLE employees\n",
    "(\n",
    "  firstname VARCHAR(20) NULL,\n",
    "  lastname  VARCHAR(20) NULL,\n",
    "  wage      VARCHAR(10) NULL,\n",
    "  emptype   VARCHAR(10) NULL,\n",
    "  phone1    VARCHAR(20) NULL,\n",
    "  phone2    VARCHAR(20) NULL,\n",
    "  ftpt      VARCHAR(10)  NULL\n",
    ");\n",
    "\n",
    "\n",
    "CREATE TABLE daysoff\n",
    "(\n",
    "  firstname VARCHAR(20) NOT NULL,\n",
    "  lastname  VARCHAR(20) NOT NULL,\n",
    "  date  TEXT NULL\n",
    ");\n",
    "\n",
    "\n",
    "\n",
    "LOAD DATA INFILE '/home/karen/workspace/Datasci_Fall_18/cs431/HW/hw11/project_asgn_11_data/needs.csv' INTO TABLE department_need\n",
    "FIELDS TERMINATED BY ',' LINES TERMINATED BY '\\r\\n';\n",
    "\n",
    "\n",
    "LOAD DATA INFILE '/home/karen/workspace/Datasci_Fall_18/cs431/HW/hw11/project_asgn_11_data/employee2.csv' INTO TABLE employees\n",
    "FIELDS TERMINATED BY ',' LINES TERMINATED BY '\\r\\n';\n",
    "\n",
    "\n",
    "LOAD DATA INFILE '/home/karen/workspace/Datasci_Fall_18/cs431/HW/hw11/project_asgn_11_data/daysoffrequests.csv' INTO TABLE daysoff\n",
    "FIELDS TERMINATED BY ',' LINES TERMINATED BY '\\r\\n';\n",
    "\n",
    "\n",
    "UPDATE daysoff SET firstname = REPLACE(firstname, ' ', '');\n",
    "UPDATE employees SET firstname = REPLACE(firstname, '\"', '');\n",
    "UPDATE employees SET lastname = REPLACE(lastname, '\"', '');\n",
    "UPDATE employees SET wage = REPLACE(wage, '\"', '');\n",
    "UPDATE employees SET wage = REPLACE(wage, '$', '');\n",
    "UPDATE employees SET emptype = REPLACE(emptype, '\"', '');\n",
    "UPDATE employees SET phone1 = REPLACE(phone1, '\"', '');\n",
    "UPDATE employees SET phone2 = REPLACE(phone2, '\"', '');\n",
    "UPDATE employees SET ftpt = REPLACE(ftpt, '\"', '');\n",
    "\n",
    "\n",
    "ALTER TABLE employees ADD empid INT NOT NULL AUTO_INCREMENT PRIMARY KEY;\n",
    "\n",
    "CREATE TABLE daysoff_tmp\n",
    "(\n",
    "  empid INT  NOT NULL,\n",
    "  date  TEXT NULL\n",
    ") SELECT e.empid, d.date\n",
    "  FROM employees as e, daysoff as d\n",
    "  WHERE (d.firstname, d.lastname) = (e.firstname, e.lastname);\n",
    "\n",
    "DROP TABLE daysoff;\n",
    "RENAME TABLE daysoff_tmp TO daysoff;\n",
    "\n",
    "SHOW TABLES;\n",
    "DESCRIBE department_need;\n",
    "DESCRIBE employees;\n",
    "DESCRIBE daysoff;"
   ]
  },
  {
   "cell_type": "markdown",
   "metadata": {
    "hidden": true
   },
   "source": [
    "![](2.png)\n",
    "\n",
    "![](3.png)\n",
    "\n",
    "![](4.png)\n",
    "\n",
    "![](5.png)\n",
    "\n",
    "![](6.png)\n",
    "\n",
    "![](7.png)"
   ]
  },
  {
   "cell_type": "markdown",
   "metadata": {
    "heading_collapsed": true
   },
   "source": [
    "## Q3\n",
    "\n",
    "Calculate the total needs of all departments, all days, all shifts by employee type. For example: RNs: 3214 hours, LPNs: 2735 hours, etc.\n"
   ]
  },
  {
   "cell_type": "code",
   "execution_count": null,
   "metadata": {
    "hidden": true
   },
   "outputs": [],
   "source": [
    "SELECT IF(LENGTH(emptype)>0, emptype, 'NA') AS emptype, cast(SUM(shifthrs) AS INT) AS total_working_hrs\n",
    "FROM\n",
    "  (SELECT emptype,\n",
    "    8 AS shifthrs\n",
    "   FROM department_need) as tmp\n",
    "GROUP BY emptype;"
   ]
  },
  {
   "cell_type": "markdown",
   "metadata": {
    "hidden": true
   },
   "source": [
    "![](8.png)"
   ]
  },
  {
   "cell_type": "markdown",
   "metadata": {
    "heading_collapsed": true
   },
   "source": [
    "## Q4\n",
    "\n",
    "Calculate the total available hours per employee type. For example: RNs:\n",
    "3000 hours, LPNs: 2800 hours. Note that a part-time person is limited to 24\n",
    "hours per week. Also note that requested time off is not figured into this\n",
    "calculation."
   ]
  },
  {
   "cell_type": "code",
   "execution_count": null,
   "metadata": {
    "hidden": true
   },
   "outputs": [],
   "source": [
    "SELECT if(length(emptype)>0, emptype, 'NA') as emptype, cast(sum(each_hrs) AS INT) as total_available_hrs\n",
    "FROM (SELECT empid, emptype, ftpt, if(ftpt='FT', available_days*8, available_days*4.8) as each_hrs\n",
    "       FROM (SELECT e.empid, e.emptype, e.ftpt,\n",
    "             if(isnull(agg_daysoff.dayoff), 0, agg_daysoff.dayoff) as requested_day_off,\n",
    "             if(isnull(agg_daysoff.dayoff), 10, 10 - agg_daysoff.dayoff) as available_days\n",
    "             FROM employees as e\n",
    "             LEFT JOIN (SELECT empid, count(*) as dayoff\n",
    "                        FROM daysoff\n",
    "                        GROUP BY empid) as agg_daysoff\n",
    "             ON e.empid=agg_daysoff.empid) as tmp1) as tmp2\n",
    "GROUP BY emptype;"
   ]
  },
  {
   "cell_type": "markdown",
   "metadata": {
    "hidden": true
   },
   "source": [
    "![](9.png)"
   ]
  },
  {
   "cell_type": "markdown",
   "metadata": {
    "heading_collapsed": true
   },
   "source": [
    "## Q5\n",
    "\n",
    "List (via PHP/SQL code) which employee types are short-staffed (you don’t\n",
    "have enough possible hours to fill the needs for that employee type)."
   ]
  },
  {
   "cell_type": "code",
   "execution_count": null,
   "metadata": {
    "hidden": true
   },
   "outputs": [],
   "source": [
    "SELECT table1.emptype,\n",
    "       table1.total_working_hrs,\n",
    "       table2.total_available_hrs,\n",
    "       if(table2.total_available_hrs<table1.total_working_hrs, 'YES', 'NO') as short_staffed\n",
    "FROM (SELECT IF(LENGTH(emptype)>0, emptype, 'NA') AS emptype, cast(SUM(shifthrs) AS INT) AS total_working_hrs\n",
    "      FROM\n",
    "        (SELECT emptype,\n",
    "           8*number_of_shifts AS shifthrs\n",
    "         FROM department_need) as tmp\n",
    "      GROUP BY emptype) as table1\n",
    "INNER JOIN\n",
    "  (SELECT if(length(emptype)>0, emptype, 'NA') as emptype, cast(sum(each_hrs) AS INT) as total_available_hrs\n",
    "   FROM (SELECT empid, emptype, ftpt, if(ftpt='FT', available_days*8, available_days*4.8) as each_hrs\n",
    "         FROM (SELECT e.empid, e.emptype, e.ftpt,\n",
    "                 if(isnull(agg_daysoff.dayoff), 0, agg_daysoff.dayoff) as requested_day_off,\n",
    "                 if(isnull(agg_daysoff.dayoff), 10, 10 - agg_daysoff.dayoff) as available_days\n",
    "               FROM employees as e\n",
    "                 LEFT JOIN (SELECT empid, count(*) as dayoff\n",
    "                            FROM daysoff\n",
    "                            GROUP BY empid) as agg_daysoff\n",
    "                   ON e.empid=agg_daysoff.empid) as tmp1) as tmp2\n",
    "   GROUP BY emptype) as table2\n",
    "ON table1.emptype=table2.emptype;"
   ]
  },
  {
   "cell_type": "markdown",
   "metadata": {
    "hidden": true
   },
   "source": [
    "![](10.png)"
   ]
  },
  {
   "cell_type": "markdown",
   "metadata": {
    "heading_collapsed": true
   },
   "source": [
    "## Q6\n",
    "\n",
    "Calculate the average cost per hour for each employee type, then use that\n",
    "number to estimate the total cost for each employee type for the entire\n",
    "schedule."
   ]
  },
  {
   "cell_type": "code",
   "execution_count": null,
   "metadata": {
    "hidden": true
   },
   "outputs": [],
   "source": [
    "SELECT table1.emptype,\n",
    "       table2.total_working_hrs,\n",
    "       concat('$', table1.avg_wage) as avg_wage,\n",
    "       concat('$', table2.total_working_hrs*table1.avg_wage) as total_cost\n",
    "FROM (SELECT if(length(emptype)>0, emptype, 'NA') as emptype, round(avg(wage), 3) as avg_wage\n",
    "      FROM employees\n",
    "      GROUP BY emptype) as table1\n",
    "INNER JOIN\n",
    "  (SELECT IF(LENGTH(emptype)>0, emptype, 'NA') AS emptype, cast(SUM(shifthrs) AS INT) AS total_working_hrs\n",
    "            FROM\n",
    "              (SELECT emptype,\n",
    "                 8*number_of_shifts AS shifthrs\n",
    "               FROM department_need) as tmp\n",
    "            GROUP BY emptype) as table2\n",
    "ON table1.emptype = table2.emptype;"
   ]
  },
  {
   "cell_type": "markdown",
   "metadata": {
    "hidden": true
   },
   "source": [
    "![](11.png)"
   ]
  },
  {
   "cell_type": "markdown",
   "metadata": {
    "heading_collapsed": true
   },
   "source": [
    "## Q7\n",
    "\n",
    "For all full time employees, calculate the total cost of giving them the day\n",
    "off. This assumes that they get paid time off, and that they will be paid for\n",
    "one, 8-hour shift."
   ]
  },
  {
   "cell_type": "code",
   "execution_count": null,
   "metadata": {
    "hidden": true
   },
   "outputs": [],
   "source": [
    "SELECT table1.empid,\n",
    "       table1.wage as wage_per_hour,\n",
    "       table2.dayoff as number_of_daysoff,\n",
    "       round(table2.dayoff*table1.wage*8,3) as cost_of_paid_dayoff\n",
    "FROM\n",
    "  (SELECT empid, wage\n",
    "   FROM employees\n",
    "   WHERE ftpt='FT') as table1\n",
    "INNER JOIN\n",
    "  (SELECT empid, count(*) as dayoff\n",
    "   FROM daysoff\n",
    "   GROUP BY empid) as table2\n",
    "ON table1.empid=table2.empid;"
   ]
  },
  {
   "cell_type": "markdown",
   "metadata": {
    "hidden": true
   },
   "source": [
    "![](12.png)"
   ]
  }
 ],
 "metadata": {
  "kernelspec": {
   "display_name": "Python 3",
   "language": "python",
   "name": "python3"
  },
  "language_info": {
   "codemirror_mode": {
    "name": "ipython",
    "version": 3
   },
   "file_extension": ".py",
   "mimetype": "text/x-python",
   "name": "python",
   "nbconvert_exporter": "python",
   "pygments_lexer": "ipython3",
   "version": "3.6.6"
  },
  "latex_envs": {
   "LaTeX_envs_menu_present": true,
   "autoclose": false,
   "autocomplete": true,
   "bibliofile": "biblio.bib",
   "cite_by": "apalike",
   "current_citInitial": 1,
   "eqLabelWithNumbers": true,
   "eqNumInitial": 1,
   "hotkeys": {
    "equation": "Ctrl-E",
    "itemize": "Ctrl-I"
   },
   "labels_anchors": false,
   "latex_user_defs": false,
   "report_style_numbering": false,
   "user_envs_cfg": false
  }
 },
 "nbformat": 4,
 "nbformat_minor": 2
}
