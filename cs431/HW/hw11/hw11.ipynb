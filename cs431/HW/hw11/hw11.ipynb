{
 "cells": [
  {
   "cell_type": "markdown",
   "metadata": {
    "heading_collapsed": true
   },
   "source": [
    "## Q1\n",
    "\n",
    "A ER diagram showing your data table design in 3NF."
   ]
  },
  {
   "cell_type": "markdown",
   "metadata": {
    "hidden": true
   },
   "source": [
    "![](1.png)"
   ]
  },
  {
   "cell_type": "markdown",
   "metadata": {
    "heading_collapsed": true
   },
   "source": [
    "## Q2\n",
    "\n",
    "Load this data into your 3NF tables structure."
   ]
  },
  {
   "cell_type": "code",
   "execution_count": 4,
   "metadata": {
    "hidden": true
   },
   "outputs": [],
   "source": [
    "import pandas as pd\n",
    "from datetime import datetime\n",
    "import pymysql \n",
    "import calendar\n",
    "\n",
    "MONTH_NUMERIC = {v: k for k,v in enumerate(calendar.month_abbr)}\n",
    "\n",
    "def convert_date(data):\n",
    "    month, day, year = data.split(' ')\n",
    "    return '-'.join([str(year), str(MONTH_NUMERIC[month]), str(day)])\n",
    "def convert_time(time):\n",
    "    return datetime.strptime('{}'.format(time), '%I%p').strftime('%H:%M:%S')\n",
    "\n",
    "\n",
    "class DataPipeline:\n",
    "    def __init__(self):\n",
    "        self.db = pymysql.Connect(\n",
    "            host = 'localhost',\n",
    "            user = 'root',\n",
    "            passwd = 'sutur1,.95',\n",
    "            port=3308,\n",
    "            db='assignment11')\n",
    "        self.c = self.db.cursor()\n",
    "        self.department_need()\n",
    "        self.employees()\n",
    "        self.daysoff()\n",
    "        self.creat_tables()\n",
    "        self.insert_into_table(table=department_need, table_name='department_need')\n",
    "        self.insert_into_table(table=employees, table_name='employees')\n",
    "        self.insert_into_table(table=daysoff, table_name='daysoff')\n",
    "        \n",
    "    def creat_tables(self):\n",
    "        self.c.execute('''\n",
    "                CREATE TABLE IF NOT EXISTS department_need\n",
    "                    (\n",
    "                      department_name VARCHAR(10) NOT NULL,\n",
    "                      date            DATE        NULL,\n",
    "                      emptype         VARCHAR(10) NULL,\n",
    "                      number_of_shifts INT         NULL,\n",
    "                      start_time      TIME        NULL,\n",
    "                      end_time        TIME        NULL\n",
    "                    );\n",
    "                ''')\n",
    "        self.c.execute('''\n",
    "            CREATE TABLE IF NOT EXISTS employees\n",
    "                (\n",
    "                  empid     INT AUTO_INCREMENT\n",
    "                    PRIMARY KEY,\n",
    "                  firstname VARCHAR(20) NULL,\n",
    "                  lastname  VARCHAR(20) NULL,\n",
    "                  wage      FLOAT       NULL,\n",
    "                  emptype   VARCHAR(10) NULL,\n",
    "                  phone1    VARCHAR(20) NULL,\n",
    "                  phone2    VARCHAR(20) NULL,\n",
    "                  ftpt      VARCHAR(2)  NULL,\n",
    "                  CONSTRAINT employees_empid_uindex\n",
    "                  UNIQUE (empid)\n",
    "                );\n",
    "            ''')\n",
    "        self.c.execute('''\n",
    "            CREATE TABLE IF NOT EXISTS daysoff\n",
    "                (\n",
    "                  empid     INT         NOT NULL,\n",
    "                  date      DATE        NULL\n",
    "                );\n",
    "            ''')\n",
    "        \n",
    "    def department_need(self):\n",
    "        department_need = pd.read_csv('project_asgn_11_data/needs.csv', sep=',', header=None)\n",
    "        department_need.columns = ['department_name', 'date', 'period', 'emptype', 'number_of_staff']\n",
    "        department_need.emptype = department_need.emptype.fillna('')\n",
    "        department_need.date = department_need.date.apply(lambda x: convert_date(x))\n",
    "        department_need['start_time'], department_need['end_time'] = department_need['period'].str.split('-', 1).str\n",
    "        department_need.start_time = department_need.start_time.apply(lambda x: convert_time(x))\n",
    "        department_need.end_time = department_need.end_time.apply(lambda x: convert_time(x))\n",
    "        department_need = department_need.drop(columns=['period'])\n",
    "        department_need.to_csv('department_need.csv')\n",
    "    \n",
    "    def employees(self):\n",
    "        employees = pd.read_csv('project_asgn_11_data/employee2.csv', sep=',', header=None)\n",
    "        employees.columns = ['firstname', 'lastname', 'wage', 'emptype', 'phone1', 'phone2', 'ftpt']\n",
    "        employees.emptype = employees.emptype.fillna('')\n",
    "        employees.wage = employees.wage.apply(lambda x: x.replace('$', ''))\n",
    "        employees.phone1 = employees.phone1.apply(lambda x: x.replace('(none)', ''))\n",
    "        employees.phone2 = employees.phone2.apply(lambda x: x.replace('(none)', ''))\n",
    "        employees = pd.concat([pd.DataFrame(list(range(1, employees.shape[0]+1)), columns=['empid']), employees], axis=1)\n",
    "        employees.empid = employees.empid.astype('int')\n",
    "        employees.to_csv('employees.csv')\n",
    "        \n",
    "    def daysoff(self):\n",
    "        daysoff = pd.read_csv('project_asgn_11_data/daysoffrequests.csv', sep=',', header=None)\n",
    "        daysoff.columns = ['firstname', 'lastname', 'date']\n",
    "        daysoff.date = daysoff.date.apply(lambda x: convert_date(x))\n",
    "        daysoff.firstname = daysoff.firstname.apply(lambda x: x.strip())\n",
    "        tmp = pd.merge(daysoff, employees, on=['firstname', 'lastname'], how='left')\n",
    "        daysoff = pd.concat([tmp.empid, tmp.date], axis=1)\n",
    "        daysoff.to_csv('daysoff.csv')\n",
    "        \n",
    "    def insert_into_table(self, table, table_name):\n",
    "        for i in range(len(table)):\n",
    "            attributes = '{}'.format(tuple(table.columns.tolist())).replace(\"'\",\"\")\n",
    "            query = \"insert into {} {} values {};\".format(\n",
    "                        table_name, attributes, tuple(table.iloc[i,:].values))\n",
    "            try:\n",
    "                self.c.execute(query)\n",
    "                self.db.commit()\n",
    "            except Exception as e:\n",
    "                print(query)\n",
    "                print(e)\n",
    "dp = DataPipeline()"
   ]
  },
  {
   "cell_type": "markdown",
   "metadata": {},
   "source": [
    "## Q3\n",
    "\n",
    "Calculate the total needs of all departments, all days, all shifts by employee type. For example: RNs: 3214 hours, LPNs: 2735 hours, etc.\n"
   ]
  },
  {
   "cell_type": "code",
   "execution_count": null,
   "metadata": {},
   "outputs": [],
   "source": [
    "SELECT IF(LENGTH(emptype)>0, emptype, 'NA') AS emptype, cast(SUM(shifthrs) AS INT) AS total_working_hrs\n",
    "FROM\n",
    "  (SELECT emptype,\n",
    "   8*number_of_shifts AS shifthrs\n",
    "   FROM department_need) as tmp\n",
    "GROUP BY emptype;"
   ]
  },
  {
   "cell_type": "code",
   "execution_count": 8,
   "metadata": {},
   "outputs": [
    {
     "name": "stdout",
     "output_type": "stream",
     "text": [
      "\\begin{tabular}{llr}\n",
      "\\toprule\n",
      "{} & emptype &  total\\_working\\_hrs \\\\\n",
      "\\midrule\n",
      "0 &      NA &               1480 \\\\\n",
      "1 &     LPN &               2296 \\\\\n",
      "2 &   PHLEB &                768 \\\\\n",
      "3 &      RN &               4816 \\\\\n",
      "4 &   ULTRA &                504 \\\\\n",
      "5 &    XRAY &                520 \\\\\n",
      "\\bottomrule\n",
      "\\end{tabular}\n",
      "\n"
     ]
    }
   ],
   "source": [
    "query = '''\n",
    "    SELECT IF(LENGTH(emptype)>0, emptype, 'NA') AS emptype, cast(SUM(shifthrs) AS INT) AS total_working_hrs\n",
    "    FROM\n",
    "      (SELECT emptype,\n",
    "         8*number_of_shifts AS shifthrs\n",
    "         FROM department_need) as tmp\n",
    "    GROUP BY emptype;\n",
    "        '''\n",
    "tables = pd.read_sql(query, dp.db)\n",
    "print(tables.to_latex())"
   ]
  },
  {
   "cell_type": "markdown",
   "metadata": {},
   "source": [
    "## Q4\n",
    "\n",
    "Calculate the total available hours per employee type. For example: RNs:\n",
    "3000 hours, LPNs: 2800 hours. Note that a part-time person is limited to 24\n",
    "hours per week. Also note that requested time off is not figured into this\n",
    "calculation."
   ]
  },
  {
   "cell_type": "code",
   "execution_count": null,
   "metadata": {},
   "outputs": [],
   "source": [
    "SELECT if(length(emptype)>0, emptype, 'NA') as emptype, cast(sum(each_hrs) AS INT) as total_available_hrs\n",
    "FROM (SELECT empid, emptype, ftpt, if(ftpt='FT', available_days*8, available_days*4.8) as each_hrs\n",
    "       FROM (SELECT e.empid, e.emptype, e.ftpt,\n",
    "             if(isnull(agg_daysoff.dayoff), 0, agg_daysoff.dayoff) as requested_day_off,\n",
    "             if(isnull(agg_daysoff.dayoff), 10, 10 - agg_daysoff.dayoff) as available_days\n",
    "             FROM employees as e\n",
    "             LEFT JOIN (SELECT empid, count(*) as dayoff\n",
    "                        FROM daysoff\n",
    "                        GROUP BY empid) as agg_daysoff\n",
    "             ON e.empid=agg_daysoff.empid) as tmp1) as tmp2\n",
    "GROUP BY emptype;"
   ]
  },
  {
   "cell_type": "code",
   "execution_count": 9,
   "metadata": {},
   "outputs": [
    {
     "name": "stdout",
     "output_type": "stream",
     "text": [
      "\\begin{tabular}{llr}\n",
      "\\toprule\n",
      "{} & emptype &  total\\_available\\_hrs \\\\\n",
      "\\midrule\n",
      "0 &      NA &                 1192 \\\\\n",
      "1 &     LPN &                 1648 \\\\\n",
      "2 &   PHLEB &                  680 \\\\\n",
      "3 &      RN &                 2832 \\\\\n",
      "4 &   ULTRA &                  944 \\\\\n",
      "5 &    XRAY &                  712 \\\\\n",
      "\\bottomrule\n",
      "\\end{tabular}\n",
      "\n"
     ]
    }
   ],
   "source": [
    "query = '''\n",
    "    SELECT if(length(emptype)>0, emptype, 'NA') as emptype, cast(sum(each_hrs) AS INT) as total_available_hrs\n",
    "    FROM (SELECT empid, emptype, ftpt, if(ftpt='FT', available_days*8, 24) as each_hrs\n",
    "           FROM (SELECT e.empid, e.emptype, e.ftpt,\n",
    "                 if(isnull(agg_daysoff.dayoff), 0, agg_daysoff.dayoff) as requested_day_off,\n",
    "                 if(isnull(agg_daysoff.dayoff), 14, 14 - agg_daysoff.dayoff) as available_days\n",
    "                 FROM employees as e\n",
    "                 LEFT JOIN (SELECT empid, count(*) as dayoff\n",
    "                            FROM daysoff\n",
    "                            GROUP BY empid) as agg_daysoff\n",
    "                 ON e.empid=agg_daysoff.empid) as tmp1) as tmp2\n",
    "    GROUP BY emptype;\n",
    "        '''\n",
    "tables = pd.read_sql(query, dp.db)\n",
    "print(tables.to_latex())"
   ]
  },
  {
   "cell_type": "markdown",
   "metadata": {},
   "source": [
    "## Q5\n",
    "\n",
    "List (via PHP/SQL code) which employee types are short-staffed (you don’t\n",
    "have enough possible hours to fill the needs for that employee type)."
   ]
  },
  {
   "cell_type": "code",
   "execution_count": null,
   "metadata": {},
   "outputs": [],
   "source": [
    "SELECT table1.emptype,\n",
    "       table1.total_working_hrs,\n",
    "       table2.total_available_hrs,\n",
    "       if(table2.total_available_hrs<table1.total_working_hrs, 'YES', 'NO') as short_staffed\n",
    "FROM (SELECT IF(LENGTH(emptype)>0, emptype, 'NA') AS emptype, cast(SUM(shifthrs) AS INT) AS total_working_hrs\n",
    "      FROM\n",
    "        (SELECT emptype,\n",
    "           8*number_of_shifts AS shifthrs\n",
    "         FROM department_need) as tmp\n",
    "      GROUP BY emptype) as table1\n",
    "INNER JOIN\n",
    "  (SELECT if(length(emptype)>0, emptype, 'NA') as emptype, cast(sum(each_hrs) AS INT) as total_available_hrs\n",
    "   FROM (SELECT empid, emptype, ftpt, if(ftpt='FT', available_days*8, available_days*4.8) as each_hrs\n",
    "         FROM (SELECT e.empid, e.emptype, e.ftpt,\n",
    "                 if(isnull(agg_daysoff.dayoff), 0, agg_daysoff.dayoff) as requested_day_off,\n",
    "                 if(isnull(agg_daysoff.dayoff), 10, 10 - agg_daysoff.dayoff) as available_days\n",
    "               FROM employees as e\n",
    "                 LEFT JOIN (SELECT empid, count(*) as dayoff\n",
    "                            FROM daysoff\n",
    "                            GROUP BY empid) as agg_daysoff\n",
    "                   ON e.empid=agg_daysoff.empid) as tmp1) as tmp2\n",
    "   GROUP BY emptype) as table2\n",
    "ON table1.emptype=table2.emptype;"
   ]
  },
  {
   "cell_type": "code",
   "execution_count": 10,
   "metadata": {},
   "outputs": [
    {
     "name": "stdout",
     "output_type": "stream",
     "text": [
      "\\begin{tabular}{llrrl}\n",
      "\\toprule\n",
      "{} & emptype &  total\\_working\\_hrs &  total\\_available\\_hrs & short\\_staffed \\\\\n",
      "\\midrule\n",
      "0 &      NA &               1480 &                 1110 &           YES \\\\\n",
      "1 &     LPN &               2296 &                 1291 &           YES \\\\\n",
      "2 &   PHLEB &                768 &                  659 &           YES \\\\\n",
      "3 &      RN &               4816 &                 2280 &           YES \\\\\n",
      "4 &   ULTRA &                504 &                  760 &            NO \\\\\n",
      "5 &    XRAY &                520 &                  568 &            NO \\\\\n",
      "\\bottomrule\n",
      "\\end{tabular}\n",
      "\n"
     ]
    }
   ],
   "source": [
    "query = '''\n",
    "    SELECT table1.emptype,\n",
    "       table1.total_working_hrs,\n",
    "       table2.total_available_hrs,\n",
    "       if(table2.total_available_hrs<table1.total_working_hrs, 'YES', 'NO') as short_staffed\n",
    "    FROM (SELECT IF(LENGTH(emptype)>0, emptype, 'NA') AS emptype, cast(SUM(shifthrs) AS INT) AS total_working_hrs\n",
    "          FROM\n",
    "            (SELECT emptype,\n",
    "               8*number_of_shifts AS shifthrs\n",
    "             FROM department_need) as tmp\n",
    "          GROUP BY emptype) as table1\n",
    "    INNER JOIN\n",
    "      (SELECT if(length(emptype)>0, emptype, 'NA') as emptype, cast(sum(each_hrs) AS INT) as total_available_hrs\n",
    "       FROM (SELECT empid, emptype, ftpt, if(ftpt='FT', available_days*8, available_days*4.8) as each_hrs\n",
    "             FROM (SELECT e.empid, e.emptype, e.ftpt,\n",
    "                     if(isnull(agg_daysoff.dayoff), 0, agg_daysoff.dayoff) as requested_day_off,\n",
    "                     if(isnull(agg_daysoff.dayoff), 10, 10 - agg_daysoff.dayoff) as available_days\n",
    "                   FROM employees as e\n",
    "                     LEFT JOIN (SELECT empid, count(*) as dayoff\n",
    "                                FROM daysoff\n",
    "                                GROUP BY empid) as agg_daysoff\n",
    "                       ON e.empid=agg_daysoff.empid) as tmp1) as tmp2\n",
    "       GROUP BY emptype) as table2\n",
    "    ON table1.emptype=table2.emptype;\n",
    "        '''\n",
    "tables = pd.read_sql(query, dp.db)\n",
    "print(tables.to_latex())"
   ]
  },
  {
   "cell_type": "markdown",
   "metadata": {},
   "source": [
    "## Q6\n",
    "\n",
    "Calculate the average cost per hour for each employee type, then use that\n",
    "number to estimate the total cost for each employee type for the entire\n",
    "schedule."
   ]
  },
  {
   "cell_type": "code",
   "execution_count": null,
   "metadata": {},
   "outputs": [],
   "source": [
    "SELECT table1.emptype,\n",
    "       table2.total_working_hrs,\n",
    "       concat('$', table1.avg_wage) as avg_wage,\n",
    "       concat('$', table2.total_working_hrs*table1.avg_wage) as total_cost\n",
    "FROM (SELECT if(length(emptype)>0, emptype, 'NA') as emptype, round(avg(wage), 3) as avg_wage\n",
    "      FROM employees\n",
    "      GROUP BY emptype) as table1\n",
    "INNER JOIN\n",
    "  (SELECT IF(LENGTH(emptype)>0, emptype, 'NA') AS emptype, cast(SUM(shifthrs) AS INT) AS total_working_hrs\n",
    "            FROM\n",
    "              (SELECT emptype,\n",
    "                 8*number_of_shifts AS shifthrs\n",
    "               FROM department_need) as tmp\n",
    "            GROUP BY emptype) as table2\n",
    "ON table1.emptype = table2.emptype;"
   ]
  },
  {
   "cell_type": "code",
   "execution_count": 11,
   "metadata": {},
   "outputs": [
    {
     "name": "stdout",
     "output_type": "stream",
     "text": [
      "\\begin{tabular}{llrll}\n",
      "\\toprule\n",
      "{} & emptype &  total\\_working\\_hrs & avg\\_wage &   total\\_cost \\\\\n",
      "\\midrule\n",
      "0 &      NA &               1480 &  \\$34.361 &   \\$50854.280 \\\\\n",
      "1 &     LPN &               2296 &  \\$31.049 &   \\$71288.504 \\\\\n",
      "2 &   PHLEB &                768 &  \\$34.673 &   \\$26628.864 \\\\\n",
      "3 &      RN &               4816 &  \\$34.438 &  \\$165853.408 \\\\\n",
      "4 &   ULTRA &                504 &  \\$27.676 &   \\$13948.704 \\\\\n",
      "5 &    XRAY &                520 &  \\$35.897 &   \\$18666.440 \\\\\n",
      "\\bottomrule\n",
      "\\end{tabular}\n",
      "\n"
     ]
    }
   ],
   "source": [
    "query = '''\n",
    "    SELECT table1.emptype,\n",
    "       table2.total_working_hrs,\n",
    "       concat('$', table1.avg_wage) as avg_wage,\n",
    "       concat('$', table2.total_working_hrs*table1.avg_wage) as total_cost\n",
    "    FROM (SELECT if(length(emptype)>0, emptype, 'NA') as emptype, round(avg(wage), 3) as avg_wage\n",
    "          FROM employees\n",
    "          GROUP BY emptype) as table1\n",
    "    INNER JOIN\n",
    "      (SELECT IF(LENGTH(emptype)>0, emptype, 'NA') AS emptype, cast(SUM(shifthrs) AS INT) AS total_working_hrs\n",
    "                FROM\n",
    "                  (SELECT emptype,\n",
    "                     8*number_of_shifts AS shifthrs\n",
    "                   FROM department_need) as tmp\n",
    "                GROUP BY emptype) as table2\n",
    "    ON table1.emptype = table2.emptype;\n",
    "        '''\n",
    "tables = pd.read_sql(query, dp.db)\n",
    "print(tables.to_latex())"
   ]
  },
  {
   "cell_type": "markdown",
   "metadata": {},
   "source": [
    "## Q7\n",
    "\n",
    "For all full time employees, calculate the total cost of giving them the day\n",
    "off. This assumes that they get paid time off, and that they will be paid for\n",
    "one, 8-hour shift."
   ]
  },
  {
   "cell_type": "code",
   "execution_count": null,
   "metadata": {},
   "outputs": [],
   "source": [
    "SELECT table1.empid,\n",
    "       table1.wage as wage_per_hour,\n",
    "       table2.dayoff as number_of_daysoff,\n",
    "       round(table2.dayoff*table1.wage*8,3) as cost_of_paid_dayoff\n",
    "FROM\n",
    "  (SELECT empid, wage\n",
    "   FROM employees\n",
    "   WHERE ftpt='FT') as table1\n",
    "INNER JOIN\n",
    "  (SELECT empid, count(*) as dayoff\n",
    "   FROM daysoff\n",
    "   GROUP BY empid) as table2\n",
    "ON table1.empid=table2.empid;"
   ]
  },
  {
   "cell_type": "code",
   "execution_count": 12,
   "metadata": {},
   "outputs": [
    {
     "name": "stdout",
     "output_type": "stream",
     "text": [
      "\\begin{tabular}{lrrrr}\n",
      "\\toprule\n",
      "{} &  empid &  wage\\_per\\_hour &  number\\_of\\_daysoff &  cost\\_of\\_paid\\_dayoff \\\\\n",
      "\\midrule\n",
      "0  &      1 &          16.52 &                  1 &               132.16 \\\\\n",
      "1  &      9 &          28.60 &                  1 &               228.80 \\\\\n",
      "2  &     15 &          15.33 &                  1 &               122.64 \\\\\n",
      "3  &     16 &          44.96 &                  1 &               359.68 \\\\\n",
      "4  &     20 &          36.90 &                  1 &               295.20 \\\\\n",
      "5  &     21 &          30.90 &                  1 &               247.20 \\\\\n",
      "6  &     25 &          23.43 &                  1 &               187.44 \\\\\n",
      "7  &     44 &          45.25 &                  2 &               724.00 \\\\\n",
      "8  &     47 &          22.85 &                  3 &               548.40 \\\\\n",
      "9  &     52 &          33.79 &                  1 &               270.32 \\\\\n",
      "10 &     67 &          28.34 &                  1 &               226.72 \\\\\n",
      "11 &     68 &          39.94 &                  1 &               319.52 \\\\\n",
      "12 &     76 &          25.45 &                  1 &               203.60 \\\\\n",
      "13 &     78 &          39.87 &                  1 &               318.96 \\\\\n",
      "14 &     82 &          42.10 &                  1 &               336.80 \\\\\n",
      "15 &     86 &          21.54 &                  1 &               172.32 \\\\\n",
      "16 &     91 &          34.42 &                  1 &               275.36 \\\\\n",
      "17 &     93 &          47.26 &                  2 &               756.16 \\\\\n",
      "\\bottomrule\n",
      "\\end{tabular}\n",
      "\n"
     ]
    }
   ],
   "source": [
    "query = '''\n",
    "    SELECT table1.empid,\n",
    "       table1.wage as wage_per_hour,\n",
    "       table2.dayoff as number_of_daysoff,\n",
    "       round(table2.dayoff*table1.wage*8,3) as cost_of_paid_dayoff\n",
    "    FROM\n",
    "      (SELECT empid, wage\n",
    "       FROM employees\n",
    "       WHERE ftpt='FT') as table1\n",
    "    INNER JOIN\n",
    "      (SELECT empid, count(*) as dayoff\n",
    "       FROM daysoff\n",
    "       GROUP BY empid) as table2\n",
    "    ON table1.empid=table2.empid;\n",
    "        '''\n",
    "tables = pd.read_sql(query, dp.db)\n",
    "print(tables.to_latex())"
   ]
  }
 ],
 "metadata": {
  "kernelspec": {
   "display_name": "Python 3",
   "language": "python",
   "name": "python3"
  },
  "language_info": {
   "codemirror_mode": {
    "name": "ipython",
    "version": 3
   },
   "file_extension": ".py",
   "mimetype": "text/x-python",
   "name": "python",
   "nbconvert_exporter": "python",
   "pygments_lexer": "ipython3",
   "version": "3.6.6"
  },
  "latex_envs": {
   "LaTeX_envs_menu_present": true,
   "autoclose": false,
   "autocomplete": true,
   "bibliofile": "biblio.bib",
   "cite_by": "apalike",
   "current_citInitial": 1,
   "eqLabelWithNumbers": true,
   "eqNumInitial": 1,
   "hotkeys": {
    "equation": "Ctrl-E",
    "itemize": "Ctrl-I"
   },
   "labels_anchors": false,
   "latex_user_defs": false,
   "report_style_numbering": false,
   "user_envs_cfg": false
  }
 },
 "nbformat": 4,
 "nbformat_minor": 2
}
