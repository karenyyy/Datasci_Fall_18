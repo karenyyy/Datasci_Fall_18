{
 "cells": [
  {
   "cell_type": "markdown",
   "metadata": {},
   "source": [
    "# Introduction to Neural Networks\n",
    "The first cells are already filled in. They import packages, load the data, and include functions for data visualization."
   ]
  },
  {
   "cell_type": "code",
   "execution_count": 1,
   "metadata": {},
   "outputs": [],
   "source": [
    "# import basic packages\n",
    "import numpy as np\n",
    "import matplotlib.pyplot as plt"
   ]
  },
  {
   "cell_type": "code",
   "execution_count": 2,
   "metadata": {},
   "outputs": [],
   "source": [
    "# load .mat data (as np arrays)\n",
    "from scipy.io import loadmat\n",
    "data = loadmat('digit_data.mat')"
   ]
  },
  {
   "cell_type": "code",
   "execution_count": 3,
   "metadata": {},
   "outputs": [],
   "source": [
    "# set up data\n",
    "X = data['X']                   # features\n",
    "y = data['y']                   # labels\n",
    "\n",
    "m = X.shape[0]                  # 5000 digits\n",
    "n = X.shape[1]                  # 400 features"
   ]
  },
  {
   "cell_type": "code",
   "execution_count": 4,
   "metadata": {},
   "outputs": [],
   "source": [
    "# make y into an array of 1-hot, 10-element arrays\n",
    "new_y = np.zeros((m, 10))\n",
    "\n",
    "for i in range(m):\n",
    "    new_y[i, y[i] % 10] = 1     # replace each element w a 10 element array\n",
    "    \n",
    "y = new_y.astype(int)"
   ]
  },
  {
   "cell_type": "code",
   "execution_count": 5,
   "metadata": {},
   "outputs": [],
   "source": [
    "# train/test split\n",
    "from sklearn.model_selection import train_test_split\n",
    "X_train, X_test, y_train, y_test = train_test_split(X, y, test_size=0.2, random_state=1)"
   ]
  },
  {
   "cell_type": "code",
   "execution_count": 6,
   "metadata": {},
   "outputs": [],
   "source": [
    "def show_digit(index, dataset=X):\n",
    "    \"\"\" Displays handwritten digit given its index \"\"\"\n",
    "    plt.clf()\n",
    "    plt.imshow(np.rot90(np.flip(np.reshape(dataset[index], (20, 20)), axis=1)), \n",
    "               cmap=plt.cm.binary)\n",
    "    plt.title('Digit Example')\n",
    "    plt.axis('off')\n",
    "    plt.show()\n",
    "    return None"
   ]
  },
  {
   "cell_type": "markdown",
   "metadata": {},
   "source": [
    "## Your turn! Let's make a neural network.\n",
    "Now, you should do the following:\n",
    "- Visualize some digits by calling the show_digit function\n",
    "- Make a neural network using sklearn\n",
    "- Test the accuracy of the network on never-before-seen digits\n",
    "- See where the network fails"
   ]
  },
  {
   "cell_type": "code",
   "execution_count": 7,
   "metadata": {},
   "outputs": [],
   "source": [
    "# call show_digit"
   ]
  },
  {
   "cell_type": "code",
   "execution_count": 8,
   "metadata": {},
   "outputs": [],
   "source": [
    "# make neural network"
   ]
  },
  {
   "cell_type": "code",
   "execution_count": 9,
   "metadata": {},
   "outputs": [],
   "source": [
    "# determine accuracy on test set"
   ]
  },
  {
   "cell_type": "code",
   "execution_count": 10,
   "metadata": {},
   "outputs": [],
   "source": [
    "# see where the network fails"
   ]
  },
  {
   "cell_type": "code",
   "execution_count": 11,
   "metadata": {},
   "outputs": [],
   "source": [
    "# see specific digit where network fails"
   ]
  }
 ],
 "metadata": {
  "kernelspec": {
   "display_name": "Python 3",
   "language": "python",
   "name": "python3"
  },
  "language_info": {
   "codemirror_mode": {
    "name": "ipython",
    "version": 3
   },
   "file_extension": ".py",
   "mimetype": "text/x-python",
   "name": "python",
   "nbconvert_exporter": "python",
   "pygments_lexer": "ipython3",
   "version": "3.6.6"
  }
 },
 "nbformat": 4,
 "nbformat_minor": 2
}
