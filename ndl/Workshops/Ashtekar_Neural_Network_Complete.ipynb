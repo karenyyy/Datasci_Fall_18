{
 "cells": [
  {
   "cell_type": "markdown",
   "metadata": {},
   "source": [
    "# Introduction to Neural Networks (Complete)\n",
    "The first cells are already filled in. They import packages, load the data, and include functions for data visualization."
   ]
  },
  {
   "cell_type": "code",
   "execution_count": 1,
   "metadata": {},
   "outputs": [],
   "source": [
    "# import basic packages\n",
    "import numpy as np\n",
    "import matplotlib.pyplot as plt"
   ]
  },
  {
   "cell_type": "code",
   "execution_count": 2,
   "metadata": {},
   "outputs": [],
   "source": [
    "# load .mat data (as np arrays)\n",
    "from scipy.io import loadmat\n",
    "data = loadmat('digit_data.mat')"
   ]
  },
  {
   "cell_type": "code",
   "execution_count": 3,
   "metadata": {},
   "outputs": [],
   "source": [
    "# set up data\n",
    "X = data['X']                   # features\n",
    "y = data['y']                   # labels\n",
    "\n",
    "m = X.shape[0]                  # 5000 digits\n",
    "n = X.shape[1]                  # 400 features"
   ]
  },
  {
   "cell_type": "code",
   "execution_count": 4,
   "metadata": {},
   "outputs": [],
   "source": [
    "# make y into an array of 1-hot, 10-element arrays\n",
    "new_y = np.zeros((m, 10))\n",
    "\n",
    "for i in range(m):\n",
    "    new_y[i, y[i] % 10] = 1     # replace each element w a 10 element array\n",
    "    \n",
    "y = new_y.astype(int)"
   ]
  },
  {
   "cell_type": "code",
   "execution_count": 5,
   "metadata": {},
   "outputs": [],
   "source": [
    "# train/test split\n",
    "from sklearn.model_selection import train_test_split\n",
    "X_train, X_test, y_train, y_test = train_test_split(X, y, test_size=0.2, random_state=1)"
   ]
  },
  {
   "cell_type": "code",
   "execution_count": 6,
   "metadata": {},
   "outputs": [],
   "source": [
    "def show_digit(index, dataset=X):\n",
    "    \"\"\" Displays handwritten digit given its index \"\"\"\n",
    "    plt.clf()\n",
    "    plt.imshow(np.rot90(np.flip(np.reshape(dataset[index], (20, 20)), axis=1)), \n",
    "               cmap=plt.cm.binary)\n",
    "    plt.title('Digit Example')\n",
    "    plt.axis('off')\n",
    "    plt.show()\n",
    "    return None"
   ]
  },
  {
   "cell_type": "markdown",
   "metadata": {},
   "source": [
    "## Your turn! Let's make a neural network.\n",
    "Now, you should do the following:\n",
    "- Visualize some digits by calling the show_digit function\n",
    "- Make a neural network using sklearn\n",
    "- Test the accuracy of the network on never-before-seen digits\n",
    "- See where the network fails"
   ]
  },
  {
   "cell_type": "code",
   "execution_count": 7,
   "metadata": {},
   "outputs": [
    {
     "data": {
      "image/png": "[encoded data removed]",
      "text/plain": [
       "<matplotlib.figure.Figure at 0x11cc0d4a8>"
      ]
     },
     "metadata": {
      "needs_background": "light"
     },
     "output_type": "display_data"
    },
    {
     "data": {
      "image/png": "[encoded data removed]",
      "text/plain": [
       "<matplotlib.figure.Figure at 0x1a221f9d30>"
      ]
     },
     "metadata": {
      "needs_background": "light"
     },
     "output_type": "display_data"
    },
    {
     "data": {
      "image/png": "[encoded data removed]",
      "text/plain": [
       "<matplotlib.figure.Figure at 0x1a223205f8>"
      ]
     },
     "metadata": {
      "needs_background": "light"
     },
     "output_type": "display_data"
    },
    {
     "data": {
      "text/plain": [
       "(None, None, None)"
      ]
     },
     "execution_count": 7,
     "metadata": {},
     "output_type": "execute_result"
    }
   ],
   "source": [
    "# call show_digit\n",
    "show_digit(0), show_digit(500), show_digit(1000)"
   ]
  },
  {
   "cell_type": "code",
   "execution_count": 8,
   "metadata": {},
   "outputs": [
    {
     "data": {
      "text/plain": [
       "MLPClassifier(activation='relu', alpha=0.0001, batch_size='auto', beta_1=0.9,\n",
       "       beta_2=0.999, early_stopping=False, epsilon=1e-08,\n",
       "       hidden_layer_sizes=(200, 100, 50, 25), learning_rate='constant',\n",
       "       learning_rate_init=0.001, max_iter=1000, momentum=0.9,\n",
       "       n_iter_no_change=10, nesterovs_momentum=True, power_t=0.5,\n",
       "       random_state=1, shuffle=True, solver='adam', tol=0.0001,\n",
       "       validation_fraction=0.1, verbose=False, warm_start=False)"
      ]
     },
     "execution_count": 8,
     "metadata": {},
     "output_type": "execute_result"
    }
   ],
   "source": [
    "# make neural network\n",
    "from sklearn.neural_network import MLPClassifier\n",
    "nn = MLPClassifier(hidden_layer_sizes=(200, 100, 50, 25), \n",
    "                   max_iter=1000,\n",
    "                   random_state=1)\n",
    "nn.fit(X_train, y_train)"
   ]
  },
  {
   "cell_type": "code",
   "execution_count": 9,
   "metadata": {},
   "outputs": [
    {
     "data": {
      "text/plain": [
       "0.907"
      ]
     },
     "execution_count": 9,
     "metadata": {},
     "output_type": "execute_result"
    }
   ],
   "source": [
    "# determine accuracy on test set\n",
    "from sklearn.metrics import accuracy_score\n",
    "predictions = nn.predict(X_test)\n",
    "accuracy_score(y_test, predictions)"
   ]
  },
  {
   "cell_type": "code",
   "execution_count": 10,
   "metadata": {},
   "outputs": [
    {
     "data": {
      "text/plain": [
       "(array([  0,   0,   4,   4,  11,  14,  26,  26,  30,  30,  52,  54,  60,\n",
       "         60,  66,  66,  75,  90,  90, 104, 104, 107, 109, 116, 132, 132,\n",
       "        142, 142, 148, 182, 198, 198, 215, 216, 218, 221, 241, 273, 294,\n",
       "        310, 310, 327, 327, 332, 346, 346, 348, 348, 357, 357, 367, 405,\n",
       "        405, 427, 427, 472, 472, 478, 478, 486, 503, 515, 537, 539, 539,\n",
       "        555, 555, 571, 571, 572, 572, 589, 589, 591, 598, 601, 611, 611,\n",
       "        611, 613, 613, 617, 622, 623, 623, 660, 660, 672, 674, 680, 682,\n",
       "        699, 711, 711, 724, 724, 725, 731, 731, 735, 738, 738, 753, 753,\n",
       "        762, 764, 766, 768, 788, 789, 792, 807, 810, 810, 812, 818, 818,\n",
       "        840, 846, 860, 861, 861, 865, 872, 872, 877, 877, 911, 911, 915,\n",
       "        915, 929, 938, 964, 965, 965]),\n",
       " array([5, 6, 3, 5, 2, 7, 4, 9, 0, 2, 6, 7, 2, 4, 1, 7, 6, 7, 9, 7, 9, 3,\n",
       "        8, 7, 3, 9, 1, 8, 1, 3, 3, 7, 5, 8, 7, 2, 8, 5, 8, 2, 3, 2, 3, 3,\n",
       "        2, 5, 3, 5, 1, 9, 2, 2, 8, 8, 9, 2, 8, 7, 9, 9, 5, 3, 5, 7, 9, 2,\n",
       "        7, 0, 6, 4, 8, 7, 9, 4, 7, 9, 2, 7, 9, 7, 9, 0, 9, 2, 7, 8, 9, 5,\n",
       "        8, 2, 9, 3, 0, 2, 7, 9, 4, 1, 2, 4, 1, 8, 7, 9, 9, 8, 8, 0, 5, 3,\n",
       "        2, 7, 8, 9, 6, 2, 8, 5, 9, 9, 2, 8, 4, 6, 8, 0, 5, 5, 8, 4, 6, 3,\n",
       "        6, 4, 2, 7]))"
      ]
     },
     "execution_count": 10,
     "metadata": {},
     "output_type": "execute_result"
    }
   ],
   "source": [
    "# see where the network fails\n",
    "np.where(predictions != y_test)"
   ]
  },
  {
   "cell_type": "code",
   "execution_count": 11,
   "metadata": {},
   "outputs": [
    {
     "data": {
      "image/png": "[encoded data removed]",
      "text/plain": [
       "<matplotlib.figure.Figure at 0x1a22384550>"
      ]
     },
     "metadata": {
      "needs_background": "light"
     },
     "output_type": "display_data"
    }
   ],
   "source": [
    "# see specific digit where network fails\n",
    "show_digit(index=0, dataset=X_test)"
   ]
  },
  {
   "cell_type": "code",
   "execution_count": 17,
   "metadata": {},
   "outputs": [
    {
     "data": {
      "text/plain": [
       "(array([0, 0, 0, 0, 0, 1, 0, 0, 0, 0]), (array([5]),))"
      ]
     },
     "execution_count": 17,
     "metadata": {},
     "output_type": "execute_result"
    }
   ],
   "source": [
    "y_test[0], np.where(y_test[0] == 1)"
   ]
  },
  {
   "cell_type": "code",
   "execution_count": 18,
   "metadata": {},
   "outputs": [
    {
     "data": {
      "text/plain": [
       "(array([0, 0, 0, 0, 0, 0, 1, 0, 0, 0]), (array([6]),))"
      ]
     },
     "execution_count": 18,
     "metadata": {},
     "output_type": "execute_result"
    }
   ],
   "source": [
    "predictions[0], np.where(predictions[0] == 1)"
   ]
  }
 ],
 "metadata": {
  "kernelspec": {
   "display_name": "Python 3",
   "language": "python",
   "name": "python3"
  },
  "language_info": {
   "codemirror_mode": {
    "name": "ipython",
    "version": 3
   },
   "file_extension": ".py",
   "mimetype": "text/x-python",
   "name": "python",
   "nbconvert_exporter": "python",
   "pygments_lexer": "ipython3",
   "version": "3.6.6"
  }
 },
 "nbformat": 4,
 "nbformat_minor": 2
}
