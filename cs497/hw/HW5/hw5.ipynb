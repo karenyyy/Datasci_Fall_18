{
 "cells": [
  {
   "cell_type": "markdown",
   "metadata": {},
   "source": [
    "## Q1\n",
    "\n",
    "1. (30%) Perform K-means on the data shown in Table 1. Use K=2 and suppose A\n",
    "and C are randomly selected as initial means. Please show the clustering results of\n",
    "nodes of each round until converged.\n",
    "\n",
    "![](1.png)"
   ]
  },
  {
   "cell_type": "code",
   "execution_count": 3,
   "metadata": {
    "code_folding": []
   },
   "outputs": [],
   "source": [
    "# slightly adjust the programming assignment \n",
    "\n",
    "import numpy as np\n",
    "from collections import Counter\n",
    "import matplotlib.pyplot as plt\n",
    "from sklearn.metrics import f1_score, normalized_mutual_info_score\n",
    "\n",
    "THRESHOLD = 1e-5\n",
    "\n",
    "X = np.array([[1,1],\n",
    "              [1,0],\n",
    "              [0,2],\n",
    "              [2,4],\n",
    "              [3,5]])\n",
    "\n",
    "def norm(x):\n",
    "    max_val = np.max(x, axis=0)\n",
    "    x = x / max_val\n",
    "    return x\n",
    "\n",
    "def converged(centroids1, centroids2):\n",
    "    diff = np.sum(np.abs(np.sum(centroids1 - centroids2, axis=1)), axis=0)\n",
    "    if np.equal(centroids1, centroids2).all():\n",
    "        return True\n",
    "    elif diff < THRESHOLD:\n",
    "        return True\n",
    "    else:\n",
    "        return False\n",
    "\n",
    "def euclidean_dist(x1, x2):\n",
    "    return np.sqrt(np.sum(np.square(x1 - x2), axis=1))\n",
    "\n",
    "\n",
    "def closest_centroid(val, centroids):\n",
    "    return np.argmin(np.sqrt(np.sum(np.square(val - centroids), axis=1)))\n",
    "\n",
    "\n",
    "def update_centroids(data, centroids, k=2):\n",
    "    n_samples = np.shape(data)[0]\n",
    "    n_features = np.shape(data)[1]\n",
    "    clusters = [[] for _ in range(k)]\n",
    "    labels = np.zeros((n_samples))\n",
    "\n",
    "    for idx, val in enumerate(data):\n",
    "        val_label = closest_centroid(val, centroids)\n",
    "        clusters[val_label].append(val)\n",
    "        labels[idx] = val_label\n",
    "    print(\">>> clusters:\")\n",
    "    print(clusters)\n",
    "    centroids = np.zeros((k, n_features))\n",
    "    for idx, cluster_val in enumerate(clusters):\n",
    "        centroid = np.mean(cluster_val, axis=0)\n",
    "        centroids[idx] = centroid\n",
    "    return centroids, labels\n",
    "\n",
    "\n",
    "def kmeans(data, k=2):\n",
    "    centroids = [[1,1], [0,2]]\n",
    "    converge = False\n",
    "    iteration = 0\n",
    "    while not converge:\n",
    "        print(\">>> iteration: \", iteration)\n",
    "        old_centroids = np.copy(centroids)\n",
    "        # step 2 & 3\n",
    "        centroids, label = update_centroids(data, old_centroids)\n",
    "        plot_result(X, centroids)\n",
    "        # step 4\n",
    "        converge = converged(old_centroids, centroids)\n",
    "        iteration += 1\n",
    "    print('number of iterations to converge: ', iteration)\n",
    "    print(\">>> final centroids\")\n",
    "    print(centroids)\n",
    "    return centroids, label\n",
    "\n",
    "\n",
    "def plot_result(data, centroids):\n",
    "    fig = plt.figure(1, figsize=(4, 3))\n",
    "    plt.scatter([i[0] for i in data], [i[1] for i in data])\n",
    "    plt.plot(centroids[0][0], centroids[0][1], color='red', marker='x', ms=20, mew=5)\n",
    "    plt.plot(centroids[1][0], centroids[1][1], color='red', marker='x', ms=20, mew=5)\n",
    "    plt.show()"
   ]
  },
  {
   "cell_type": "code",
   "execution_count": 44,
   "metadata": {},
   "outputs": [
    {
     "name": "stdout",
     "output_type": "stream",
     "text": [
      ">>> iteration:  0\n",
      ">>> clusters:\n",
      "[[array([1, 1]), array([1, 0])], [array([0, 2]), array([2, 4]), array([3, 5])]]\n"
     ]
    },
    {
     "data": {
      "image/png": "[encoded data removed]",
      "text/plain": [
       "<Figure size 288x216 with 1 Axes>"
      ]
     },
     "metadata": {
      "needs_background": "light"
     },
     "output_type": "display_data"
    },
    {
     "name": "stdout",
     "output_type": "stream",
     "text": [
      ">>> iteration:  1\n",
      ">>> clusters:\n",
      "[[array([1, 1]), array([1, 0]), array([0, 2])], [array([2, 4]), array([3, 5])]]\n"
     ]
    },
    {
     "data": {
      "image/png": "[encoded data removed]",
      "text/plain": [
       "<Figure size 288x216 with 1 Axes>"
      ]
     },
     "metadata": {
      "needs_background": "light"
     },
     "output_type": "display_data"
    },
    {
     "name": "stdout",
     "output_type": "stream",
     "text": [
      ">>> iteration:  2\n",
      ">>> clusters:\n",
      "[[array([1, 1]), array([1, 0]), array([0, 2])], [array([2, 4]), array([3, 5])]]\n"
     ]
    },
    {
     "data": {
      "image/png": "[encoded data removed]",
      "text/plain": [
       "<Figure size 288x216 with 1 Axes>"
      ]
     },
     "metadata": {
      "needs_background": "light"
     },
     "output_type": "display_data"
    },
    {
     "name": "stdout",
     "output_type": "stream",
     "text": [
      "number of iterations to converge:  3\n",
      ">>> final centroids\n",
      "[[0.66666667 1.        ]\n",
      " [2.5        4.5       ]]\n"
     ]
    },
    {
     "data": {
      "image/png": "[encoded data removed]",
      "text/plain": [
       "<Figure size 288x216 with 1 Axes>"
      ]
     },
     "metadata": {
      "needs_background": "light"
     },
     "output_type": "display_data"
    }
   ],
   "source": [
    "centroids, label = kmeans(X,2)\n",
    "centroids, label\n",
    "plot_result(X, centroids)"
   ]
  },
  {
   "cell_type": "markdown",
   "metadata": {},
   "source": [
    "## Q2\n",
    "\n",
    "2. (50%) Use the Similarity Matrix in Table 2 to perform MIN (Single Link) and\n",
    "MAX (Complete Link) hierarchical clustering. Note that MIN/MAX Hierarchical\n",
    "Clustering schemes are named based on dissimilarity but here the matrix below\n",
    "contains the similarity measure. Show your results by drawing a dendrogram.\n",
    "The dendrogram should clearly show the order in which the points are merged.\n",
    "\n",
    "![](2.png)\n",
    "\n",
    "\n"
   ]
  },
  {
   "cell_type": "markdown",
   "metadata": {},
   "source": []
  },
  {
   "cell_type": "markdown",
   "metadata": {},
   "source": [
    "## Q3\n",
    "\n",
    "3. (20%) Identify possible clusters in the figure below using DBSCAN. Please\n",
    "indicate the number of clusters for each case and briefly explain your reasoning.\n",
    "Note that darkness or the number of dots in an area visually indicates its density.\n",
    "\n",
    "![](3.png)\n",
    "\n",
    "\n",
    "  \n",
    "    \n",
    "\n",
    "\n",
    "\n",
    "\n",
    "\n"
   ]
  },
  {
   "cell_type": "markdown",
   "metadata": {},
   "source": [
    "- 1.\n",
    "    - Clusters: 2\n",
    "    - Density-based using DBSCAN\n",
    "    - reason: The inner points in circle are core points and the exterior are noise\n",
    "    \n",
    "- 2.\n",
    "    - Clusters: 2\n",
    "    - Density-based using DBSCAN\n",
    "    - reason: \n",
    "    \n",
    "- 3.\n",
    "    - Clusters: 3\n",
    "    - Center-based not using DBSCAN (probably using KMeans)\n",
    "    - reason: \n",
    "    \n",
    "- 4.\n",
    "    - Clusters: 2\n",
    "    - Contiguity-based not using DBSCAN\n",
    "    - reason: "
   ]
  },
  {
   "cell_type": "code",
   "execution_count": null,
   "metadata": {},
   "outputs": [],
   "source": []
  }
 ],
 "metadata": {
  "kernelspec": {
   "display_name": "Python 3",
   "language": "python",
   "name": "python3"
  },
  "language_info": {
   "codemirror_mode": {
    "name": "ipython",
    "version": 3
   },
   "file_extension": ".py",
   "mimetype": "text/x-python",
   "name": "python",
   "nbconvert_exporter": "python",
   "pygments_lexer": "ipython3",
   "version": "3.6.6"
  },
  "latex_envs": {
   "LaTeX_envs_menu_present": true,
   "autoclose": false,
   "autocomplete": true,
   "bibliofile": "biblio.bib",
   "cite_by": "apalike",
   "current_citInitial": 1,
   "eqLabelWithNumbers": true,
   "eqNumInitial": 1,
   "hotkeys": {
    "equation": "Ctrl-E",
    "itemize": "Ctrl-I"
   },
   "labels_anchors": false,
   "latex_user_defs": false,
   "report_style_numbering": false,
   "user_envs_cfg": false
  },
  "varInspector": {
   "cols": {
    "lenName": 16,
    "lenType": 16,
    "lenVar": 40
   },
   "kernels_config": {
    "python": {
     "delete_cmd_postfix": "",
     "delete_cmd_prefix": "del ",
     "library": "var_list.py",
     "varRefreshCmd": "print(var_dic_list())"
    },
    "r": {
     "delete_cmd_postfix": ") ",
     "delete_cmd_prefix": "rm(",
     "library": "var_list.r",
     "varRefreshCmd": "cat(var_dic_list()) "
    }
   },
   "types_to_exclude": [
    "module",
    "function",
    "builtin_function_or_method",
    "instance",
    "_Feature"
   ],
   "window_display": false
  }
 },
 "nbformat": 4,
 "nbformat_minor": 2
}
