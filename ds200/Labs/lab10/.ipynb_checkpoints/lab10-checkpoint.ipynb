{
 "cells": [
  {
   "cell_type": "markdown",
   "metadata": {},
   "source": [
    "### Import packages"
   ]
  },
  {
   "cell_type": "code",
   "execution_count": 2,
   "metadata": {},
   "outputs": [],
   "source": [
    "import pandas as pd\n",
    "import numpy as np"
   ]
  },
  {
   "cell_type": "markdown",
   "metadata": {},
   "source": [
    "### Build Data Processing Pipeline"
   ]
  },
  {
   "cell_type": "code",
   "execution_count": 3,
   "metadata": {},
   "outputs": [],
   "source": [
    "STANCE_VAL_DICT = {\n",
    "                    'Positive':1,\n",
    "                    'Negative':-1,\n",
    "                    'Neutral': 0,\n",
    "                    'not-relevant':-2\n",
    "                    }\n",
    "filepath = 'Climate1Tags.csv'"
   ]
  },
  {
   "cell_type": "code",
   "execution_count": 4,
   "metadata": {},
   "outputs": [],
   "source": [
    "df = pd.read_csv(filepath, sep=',')\n",
    "def aggregate_labels(df, agg_label, support_level):\n",
    "    labels = df.columns[2:]\n",
    "    for label in labels:\n",
    "        for key, val in STANCE_VAL_DICT.items():\n",
    "            df[label] = df[label].replace(key, val)\n",
    "    df[agg_label] = df[df.columns[2:]].apply(lambda x: np.sum(x.values), axis=1)\n",
    "    df[support_level] = df.iloc[:, -1].apply(lambda x: 1 if x>=1 else 0)\n",
    "    df = df.drop(columns=df.columns[2:6])\n",
    "    supportive_cnt = df.loc[df[support_level]==1, :].shape[0]\n",
    "    unsupportive_cnt = df.loc[df[support_level]==0, :].shape[0]\n",
    "    df.save_to_csv('Climate1SupportiveLevel.csv')\n",
    "    print('There are {} supportive tweets and {} unsupportive tweets in the climate dataset.'.format(supportive_cnt, unsupportive_cnt))"
   ]
  },
  {
   "cell_type": "code",
   "execution_count": 6,
   "metadata": {},
   "outputs": [
    {
     "name": "stdout",
     "output_type": "stream",
     "text": [
      "There are 716 supportive tweets and 567 unsupportive tweets in the climate dataset.\n"
     ]
    }
   ],
   "source": [
    "aggregate_labels(df, 'FinalLabel', 'SupportiveLabel')"
   ]
  },
  {
   "cell_type": "code",
   "execution_count": 5,
   "metadata": {},
   "outputs": [],
   "source": [
    "class climateDataPipeline:\n",
    "    \n",
    "    def __init__(self, filepath):\n",
    "        self.stance_val_dict = STANCE_VAL_DICT\n",
    "        self.df = pd.read_csv(filepath, sep=',')\n",
    "        \n",
    "    def aggregate_labels(self, agg_label, support_level):\n",
    "        labels = self.df.columns[2:]\n",
    "        for label in labels:\n",
    "            for key, val in STANCE_VAL_DICT.items():\n",
    "                self.df[label] = self.df[label].replace(key, val)\n",
    "        self.df[agg_label] = self.df[self.df.columns[2:]].apply(lambda x: np.sum(x.values), axis=1)\n",
    "        self.df[support_level] = self.df.iloc[:, -1].apply(lambda x: 1 if x>=1 else 0)\n",
    "        self.df = self.df.drop(columns=self.df.columns[2:6])\n",
    "        supportive_cnt = self.df.loc[self.df[support_level]==1, :].shape[0]\n",
    "        unsupportive_cnt = self.df.loc[self.df[support_level]==0, :].shape[0]\n",
    "        print('There are {} supportive tweets and {} unsupportive tweets in the climate dataset.'.format(supportive_cnt, unsupportive_cnt))\n",
    "        \n",
    "        \n",
    "    def save_to_csv(self, outfilename):\n",
    "        self.df.to_csv(outfilename, sep=',', encoding='utf-8')\n",
    "    \n",
    "    def clean_text(self):\n",
    "        return NotImplemented\n",
    "    \n",
    "    def classifier(self):\n",
    "        return NotImplemented\n",
    "    \n",
    "    def evaluate(self):\n",
    "        return NotImplemented\n",
    "    \n",
    "    def visualize(self):\n",
    "        return NotImplemented"
   ]
  },
  {
   "cell_type": "code",
   "execution_count": 163,
   "metadata": {},
   "outputs": [
    {
     "name": "stdout",
     "output_type": "stream",
     "text": [
      "There are 716 supportive tweets and 567 unsupportive tweets in the climate dataset.\n"
     ]
    },
    {
     "data": {
      "text/html": [
       "<div>\n",
       "<style scoped>\n",
       "    .dataframe tbody tr th:only-of-type {\n",
       "        vertical-align: middle;\n",
       "    }\n",
       "\n",
       "    .dataframe tbody tr th {\n",
       "        vertical-align: top;\n",
       "    }\n",
       "\n",
       "    .dataframe thead th {\n",
       "        text-align: right;\n",
       "    }\n",
       "</style>\n",
       "<table border=\"1\" class=\"dataframe\">\n",
       "  <thead>\n",
       "    <tr style=\"text-align: right;\">\n",
       "      <th></th>\n",
       "      <th>ID</th>\n",
       "      <th>Text</th>\n",
       "      <th>SupportiveLabel</th>\n",
       "    </tr>\n",
       "  </thead>\n",
       "  <tbody>\n",
       "    <tr>\n",
       "      <th>0</th>\n",
       "      <td>962_Cleand_Climate1.csv</td>\n",
       "      <td>RT @kasserolees: Energy is the #1 contributer ...</td>\n",
       "      <td>1</td>\n",
       "    </tr>\n",
       "    <tr>\n",
       "      <th>1</th>\n",
       "      <td>885_Cleand_Climate1.csv</td>\n",
       "      <td>RT @edelman_barbara: @msnbc why don t you have...</td>\n",
       "      <td>1</td>\n",
       "    </tr>\n",
       "    <tr>\n",
       "      <th>2</th>\n",
       "      <td>680_Cleand_Climate1.csv</td>\n",
       "      <td>RT @OtagoGrad: @anthonyfurey @OskieOckham The ...</td>\n",
       "      <td>0</td>\n",
       "    </tr>\n",
       "    <tr>\n",
       "      <th>3</th>\n",
       "      <td>1152_Cleand_Climate1.csv</td>\n",
       "      <td>The Dow just recorded its 3rd worst day ever. ...</td>\n",
       "      <td>0</td>\n",
       "    </tr>\n",
       "    <tr>\n",
       "      <th>4</th>\n",
       "      <td>731_Cleand_Climate1.csv</td>\n",
       "      <td>RT @SimonBanksHB: I am not going to rule out t...</td>\n",
       "      <td>0</td>\n",
       "    </tr>\n",
       "  </tbody>\n",
       "</table>\n",
       "</div>"
      ],
      "text/plain": [
       "                         ID  \\\n",
       "0   962_Cleand_Climate1.csv   \n",
       "1   885_Cleand_Climate1.csv   \n",
       "2   680_Cleand_Climate1.csv   \n",
       "3  1152_Cleand_Climate1.csv   \n",
       "4   731_Cleand_Climate1.csv   \n",
       "\n",
       "                                                Text  SupportiveLabel  \n",
       "0  RT @kasserolees: Energy is the #1 contributer ...                1  \n",
       "1  RT @edelman_barbara: @msnbc why don t you have...                1  \n",
       "2  RT @OtagoGrad: @anthonyfurey @OskieOckham The ...                0  \n",
       "3  The Dow just recorded its 3rd worst day ever. ...                0  \n",
       "4  RT @SimonBanksHB: I am not going to rule out t...                0  "
      ]
     },
     "execution_count": 163,
     "metadata": {},
     "output_type": "execute_result"
    }
   ],
   "source": [
    "cdp = climateDataPipeline('Climate1Tags.csv')\n",
    "cdp.aggregate_labels('FinalLabel', 'SupportiveLabel')\n",
    "cdp.save_to_csv('Climate1SupportiveLevel.csv')\n",
    "cdp.df.head()"
   ]
  }
 ],
 "metadata": {
  "kernelspec": {
   "display_name": "Python 3",
   "language": "python",
   "name": "python3"
  },
  "language_info": {
   "codemirror_mode": {
    "name": "ipython",
    "version": 3
   },
   "file_extension": ".py",
   "mimetype": "text/x-python",
   "name": "python",
   "nbconvert_exporter": "python",
   "pygments_lexer": "ipython3",
   "version": "3.6.6"
  },
  "latex_envs": {
   "LaTeX_envs_menu_present": true,
   "autoclose": false,
   "autocomplete": true,
   "bibliofile": "biblio.bib",
   "cite_by": "apalike",
   "current_citInitial": 1,
   "eqLabelWithNumbers": true,
   "eqNumInitial": 1,
   "hotkeys": {
    "equation": "Ctrl-E",
    "itemize": "Ctrl-I"
   },
   "labels_anchors": false,
   "latex_user_defs": false,
   "report_style_numbering": false,
   "user_envs_cfg": false
  }
 },
 "nbformat": 4,
 "nbformat_minor": 2
}
