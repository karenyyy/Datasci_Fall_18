{
 "cells": [
  {
   "cell_type": "markdown",
   "metadata": {
    "heading_collapsed": true
   },
   "source": [
    "### import packages"
   ]
  },
  {
   "cell_type": "code",
   "execution_count": 1,
   "metadata": {
    "hidden": true,
    "scrolled": true
   },
   "outputs": [
    {
     "name": "stderr",
     "output_type": "stream",
     "text": [
      "/usr/local/lib/python3.6/dist-packages/sklearn/ensemble/weight_boosting.py:29: DeprecationWarning: numpy.core.umath_tests is an internal NumPy module and should not be imported. It will be removed in a future NumPy release.\n",
      "  from numpy.core.umath_tests import inner1d\n"
     ]
    }
   ],
   "source": [
    "import datascience as ds\n",
    "from datascience import *\n",
    "import numpy as np\n",
    "from graphviz import Source\n",
    "import pandas as pd\n",
    "import seaborn as sns\n",
    "from sklearn.pipeline import Pipeline\n",
    "from sklearn.feature_extraction.text import CountVectorizer, TfidfTransformer\n",
    "from sklearn.tree import DecisionTreeClassifier\n",
    "from sklearn.ensemble import RandomForestClassifier\n",
    "from sklearn import tree\n",
    "from sklearn.metrics import confusion_matrix, precision_score, recall_score, f1_score, accuracy_score, classification_report\n",
    "import matplotlib.pyplot as plt\n",
    "from sklearn.model_selection import train_test_split, cross_val_score, StratifiedKFold\n",
    "from sklearn.externals import joblib\n",
    "%matplotlib inline"
   ]
  },
  {
   "cell_type": "markdown",
   "metadata": {
    "heading_collapsed": true
   },
   "source": [
    "### tweets data loaded into Jupyter Notebook as Table object"
   ]
  },
  {
   "cell_type": "code",
   "execution_count": 2,
   "metadata": {
    "hidden": true,
    "scrolled": true
   },
   "outputs": [
    {
     "data": {
      "text/html": [
       "<table border=\"1\" class=\"dataframe\">\n",
       "    <thead>\n",
       "        <tr>\n",
       "            <th>Text</th> <th>Support</th>\n",
       "        </tr>\n",
       "    </thead>\n",
       "    <tbody>\n",
       "        <tr>\n",
       "            <td>RT @kasserolees: Energy is the #1 contributer to climate ...</td> <td>1      </td>\n",
       "        </tr>\n",
       "        <tr>\n",
       "            <td>RT @edelman_barbara: @msnbc why don t you have a climate ...</td> <td>1      </td>\n",
       "        </tr>\n",
       "        <tr>\n",
       "            <td>RT @OtagoGrad: @anthonyfurey @OskieOckham The data doesn ...</td> <td>0      </td>\n",
       "        </tr>\n",
       "        <tr>\n",
       "            <td>The Dow just recorded its 3rd worst day ever. Think @rea ...</td> <td>0      </td>\n",
       "        </tr>\n",
       "        <tr>\n",
       "            <td>RT @SimonBanksHB: I am not going to rule out things base ...</td> <td>0      </td>\n",
       "        </tr>\n",
       "        <tr>\n",
       "            <td>RT @sydneyleemarco: nothing like an 80 degree october da ...</td> <td>1      </td>\n",
       "        </tr>\n",
       "        <tr>\n",
       "            <td>@MerlenesMemos @CNN It's not an act of god. Climate chan ...</td> <td>1      </td>\n",
       "        </tr>\n",
       "        <tr>\n",
       "            <td>RT @MikeLevinCA: When asked about climate change my GOP  ...</td> <td>0      </td>\n",
       "        </tr>\n",
       "        <tr>\n",
       "            <td>RT @gq_jayq: Bet I got 11 years to run it up https://t.c ...</td> <td>0      </td>\n",
       "        </tr>\n",
       "        <tr>\n",
       "            <td>No they care about the oil billionaires                     </td> <td>0      </td>\n",
       "        </tr>\n",
       "    </tbody>\n",
       "</table>\n",
       "<p>... (2873 rows omitted)</p>"
      ],
      "text/plain": [
       "Text                                                         | Support\n",
       "RT @kasserolees: Energy is the #1 contributer to climate ... | 1\n",
       "RT @edelman_barbara: @msnbc why don t you have a climate ... | 1\n",
       "RT @OtagoGrad: @anthonyfurey @OskieOckham The data doesn ... | 0\n",
       "The Dow just recorded its 3rd worst day ever. Think @rea ... | 0\n",
       "RT @SimonBanksHB: I am not going to rule out things base ... | 0\n",
       "RT @sydneyleemarco: nothing like an 80 degree october da ... | 1\n",
       "@MerlenesMemos @CNN It's not an act of god. Climate chan ... | 1\n",
       "RT @MikeLevinCA: When asked about climate change my GOP  ... | 0\n",
       "RT @gq_jayq: Bet I got 11 years to run it up https://t.c ... | 0\n",
       "No they care about the oil billionaires                      | 0\n",
       "... (2873 rows omitted)"
      ]
     },
     "execution_count": 2,
     "metadata": {},
     "output_type": "execute_result"
    }
   ],
   "source": [
    "t1 = Table.read_table(\"Climate1SupportiveLevel.csv\",sep=',')\n",
    "t2 = Table.read_table(\"ClimateBalancedDS2.csv\",sep=',')\n",
    "T3 = t1.append(t2)\n",
    "T3"
   ]
  },
  {
   "cell_type": "code",
   "execution_count": 3,
   "metadata": {
    "hidden": true
   },
   "outputs": [],
   "source": [
    "T3.to_csv(\"MergedLabelledData.csv\")"
   ]
  },
  {
   "cell_type": "markdown",
   "metadata": {
    "heading_collapsed": true
   },
   "source": [
    "### Preprocess"
   ]
  },
  {
   "cell_type": "code",
   "execution_count": 4,
   "metadata": {
    "hidden": true,
    "scrolled": true
   },
   "outputs": [],
   "source": [
    "X = list(T3['Text'])\n",
    "y = list(T3['Support'])"
   ]
  },
  {
   "cell_type": "markdown",
   "metadata": {
    "heading_collapsed": true
   },
   "source": [
    "### Check whether the data distribution is balanced"
   ]
  },
  {
   "cell_type": "code",
   "execution_count": 5,
   "metadata": {
    "hidden": true,
    "scrolled": true
   },
   "outputs": [],
   "source": [
    "def check(sentiment, index, note='training'):\n",
    "    if sentiment==0:\n",
    "        label = 'not supportive'\n",
    "    else:\n",
    "        label = 'supportive'\n",
    "    print('There are {} '.format(T3.take(index).where('Support', \n",
    "          are.equal_to(sentiment)).size[0][0])+label+' tweets in the '+note+' set.')"
   ]
  },
  {
   "cell_type": "markdown",
   "metadata": {
    "heading_collapsed": true,
    "hidden": true
   },
   "source": [
    "#### Model Building"
   ]
  },
  {
   "cell_type": "code",
   "execution_count": 6,
   "metadata": {
    "hidden": true,
    "scrolled": true
   },
   "outputs": [],
   "source": [
    "def custom_split(train_index, test_index):\n",
    "    trainingset = T3.take(train_index)\n",
    "    testingset = T3.take(test_index)    \n",
    "        \n",
    "    X_train= list(trainingset['Text'])\n",
    "    y_train= list(trainingset['Support'])\n",
    "    X_test= list(testingset['Text'])\n",
    "    y_test= list(testingset['Support'])\n",
    "    \n",
    "    return X_train, X_test, y_train, y_test"
   ]
  },
  {
   "cell_type": "markdown",
   "metadata": {},
   "source": [
    "### classifier"
   ]
  },
  {
   "cell_type": "code",
   "execution_count": 65,
   "metadata": {
    "scrolled": true
   },
   "outputs": [],
   "source": [
    "def classifier(X_train, y_train, X_test, fold, max_depth, min_samples_leaf):\n",
    "    # add stop_words\n",
    "    clf = Pipeline(\n",
    "        [\n",
    "            ('vect', CountVectorizer(stop_words= ['a', 'an', 'the', 'it', 'is', 'are', 'be', 'of', 'this', 'that', 'RT', 'rt','https'],\n",
    "                                     token_pattern='(([#@]|[0-9]|[a-z]|[A-Z])+)',\n",
    "                                     analyzer = 'word',\n",
    "                                     min_df = 2)),\n",
    "            ('clf', DecisionTreeClassifier(criterion='entropy',\n",
    "                                           random_state = 100,\n",
    "                                           max_depth = max_depth,\n",
    "                                           min_samples_leaf = min_samples_leaf))\n",
    "        ])\n",
    "    clf.fit(X_train, y_train)\n",
    "    feature_names = clf.named_steps['vect'].get_feature_names()\n",
    "    try:\n",
    "        dot_data = tree.export_graphviz(clf.named_steps['clf'], out_file=None, \n",
    "                                        feature_names=feature_names)\n",
    "        graph = Source(dot_data)\n",
    "        graph.render('ClimateClassifier-Fold_{}'.format(fold))\n",
    "    except Exception as e:\n",
    "        print(e)\n",
    "    predicted_y_train = clf.predict(X_train)\n",
    "    predicted_y_test = clf.predict(X_test)\n",
    "    # save as pickle\n",
    "    joblib.dump(clf, 'ClimateTeam7PD2.pkl')\n",
    "    return predicted_y_train, predicted_y_test"
   ]
  },
  {
   "cell_type": "markdown",
   "metadata": {
    "heading_collapsed": true
   },
   "source": [
    "### evaluation"
   ]
  },
  {
   "cell_type": "code",
   "execution_count": 61,
   "metadata": {
    "hidden": true,
    "scrolled": true
   },
   "outputs": [],
   "source": [
    "def eval_results(predicted_y_train, y_train, predicted_y_test, y_test):\n",
    "    accuracy_s = accuracy_score(y_test, predicted_y_test)\n",
    "    precision_s = precision_score(y_test, predicted_y_test)\n",
    "    recall_s = recall_score(y_test, predicted_y_test)\n",
    "    f1_s = f1_score(y_test, predicted_y_test)\n",
    "    cm_train = confusion_matrix(y_train, predicted_y_train)\n",
    "    cm_test = confusion_matrix(y_test, predicted_y_test)  \n",
    "    \n",
    "    print('Accuracy Score:', accuracy_s)\n",
    "    print(\"Precision Score:\", precision_s)\n",
    "    print(\"Recall Score:\", recall_s)\n",
    "    print(\"f1 Score:\", f1_s)\n",
    "    print('confusion_matrix of training set is: \\n', cm_train, '\\n')\n",
    "    print('confusion_matrix of testing set is: \\n', cm_test, '\\n')\n",
    "    print(classification_report(y_test, predicted_y_test))\n",
    "    \n",
    "    classes = ['not supportive', 'supportive']\n",
    "    sns.heatmap(cm_train, annot=True, cmap='Blues', yticklabels=classes, xticklabels=classes)\n",
    "    plt.title('confusion matrix of training set')\n",
    "    plt.show()\n",
    "    sns.heatmap(cm_test, annot=True, cmap='Blues', yticklabels=classes, xticklabels=classes)\n",
    "    plt.title('confusion matrix of testing set')\n",
    "    plt.show()\n",
    "    return accuracy_s, precision_s, recall_s, f1_s"
   ]
  },
  {
   "cell_type": "markdown",
   "metadata": {
    "heading_collapsed": true
   },
   "source": [
    "### k-fold"
   ]
  },
  {
   "cell_type": "code",
   "execution_count": 62,
   "metadata": {
    "hidden": true,
    "scrolled": true
   },
   "outputs": [],
   "source": [
    "def k_fold_evaluate(X, y, max_depth, min_samples_leaf):\n",
    "    # initialization\n",
    "    accuracy = []\n",
    "    precision = []\n",
    "    recall=[]\n",
    "    f1 = []\n",
    "    fold = 1\n",
    "    skf = StratifiedKFold(n_splits=5, random_state=1, shuffle= True)\n",
    "    \n",
    "    # build model and collect results\n",
    "    for train_index, test_index in skf.split(X, y):\n",
    "        if fold==1:\n",
    "            list(map(lambda x: check(x, train_index), range(2)))\n",
    "            list(map(lambda x: check(x, test_index, note='testing'), range(2)))\n",
    "        \n",
    "        X_train, X_test, y_train, y_test = custom_split(train_index, test_index)\n",
    "        \n",
    "        predicted_y_train, predicted_y_test = classifier(X_train=X_train, y_train=y_train, \n",
    "                                                          X_test=X_test, fold=fold,\n",
    "                                                          max_depth = max_depth,\n",
    "                                                          min_samples_leaf = min_samples_leaf)\n",
    "        \n",
    "        print('\\nFold: {}'.format(fold))\n",
    "        accuracy_s, precision_s, recall_s, f1_s = eval_results(predicted_y_train, y_train, predicted_y_test, y_test)\n",
    "        \n",
    "        accuracy.append(accuracy_s)\n",
    "        precision.append(precision_s)\n",
    "        recall.append(recall_s)\n",
    "        f1.append(f1_s)\n",
    "        \n",
    "        metrics_T3 = pd.DataFrame(\n",
    "                    {\n",
    "                        'accuracy': accuracy,\n",
    "                        'precision': precision,\n",
    "                        'recall':recall,\n",
    "                        'f1':f1\n",
    "                    }\n",
    "                )\n",
    "        fold += 1\n",
    "    return metrics_T3"
   ]
  },
  {
   "cell_type": "markdown",
   "metadata": {},
   "source": [
    "### chosen parameters: `max_depth=7, min_samples_leaf=2`\n",
    "\n",
    "Because the 5-fold f1 score of max_depth=7, min_samples_leaf=2 are better."
   ]
  },
  {
   "cell_type": "code",
   "execution_count": 66,
   "metadata": {
    "scrolled": true
   },
   "outputs": [
    {
     "name": "stderr",
     "output_type": "stream",
     "text": [
      "c:\\users\\administrator\\appdata\\local\\programs\\python\\python35-32\\lib\\site-packages\\datascience\\tables.py:192: FutureWarning: Implicit column method lookup is deprecated.\n",
      "  warnings.warn(\"Implicit column method lookup is deprecated.\", FutureWarning)\n"
     ]
    },
    {
     "name": "stdout",
     "output_type": "stream",
     "text": [
      "There are 1093 not supportive tweets in the training set.\n",
      "There are 1212 supportive tweets in the training set.\n",
      "There are 274 not supportive tweets in the testing set.\n",
      "There are 304 supportive tweets in the testing set.\n",
      "failed to execute ['dot', '-Tpdf', '-O', 'ClimateClassifier-Fold_1'], make sure the Graphviz executables are on your systems' PATH\n",
      "\n",
      "Fold: 1\n",
      "Accuracy Score: 0.6228373702422145\n",
      "Precision Score: 0.6194444444444445\n",
      "Recall Score: 0.7335526315789473\n",
      "f1 Score: 0.6716867469879518\n",
      "confusion_matrix of training set is: \n",
      " [[594 499]\n",
      " [232 980]] \n",
      "\n",
      "confusion_matrix of testing set is: \n",
      " [[137 137]\n",
      " [ 81 223]] \n",
      "\n",
      "             precision    recall  f1-score   support\n",
      "\n",
      "          0       0.63      0.50      0.56       274\n",
      "          1       0.62      0.73      0.67       304\n",
      "\n",
      "avg / total       0.62      0.62      0.62       578\n",
      "\n"
     ]
    },
    {
     "data": {
      "image/png": "[encoded data removed]",
      "text/plain": [
       "<Figure size 432x288 with 2 Axes>"
      ]
     },
     "metadata": {
      "needs_background": "light"
     },
     "output_type": "display_data"
    },
    {
     "data": {
      "image/png": "[encoded data removed]",
      "text/plain": [
       "<Figure size 432x288 with 2 Axes>"
      ]
     },
     "metadata": {
      "needs_background": "light"
     },
     "output_type": "display_data"
    },
    {
     "name": "stdout",
     "output_type": "stream",
     "text": [
      "failed to execute ['dot', '-Tpdf', '-O', 'ClimateClassifier-Fold_2'], make sure the Graphviz executables are on your systems' PATH\n",
      "\n",
      "Fold: 2\n",
      "Accuracy Score: 0.6568457538994801\n",
      "Precision Score: 0.6356589147286822\n",
      "Recall Score: 0.8118811881188119\n",
      "f1 Score: 0.7130434782608697\n",
      "confusion_matrix of training set is: \n",
      " [[599 494]\n",
      " [237 976]] \n",
      "\n",
      "confusion_matrix of testing set is: \n",
      " [[133 141]\n",
      " [ 57 246]] \n",
      "\n",
      "             precision    recall  f1-score   support\n",
      "\n",
      "          0       0.70      0.49      0.57       274\n",
      "          1       0.64      0.81      0.71       303\n",
      "\n",
      "avg / total       0.67      0.66      0.65       577\n",
      "\n"
     ]
    },
    {
     "data": {
      "image/png": "[encoded data removed]",
      "text/plain": [
       "<Figure size 432x288 with 2 Axes>"
      ]
     },
     "metadata": {
      "needs_background": "light"
     },
     "output_type": "display_data"
    },
    {
     "data": {
      "image/png": "[encoded data removed]",
      "text/plain": [
       "<Figure size 432x288 with 2 Axes>"
      ]
     },
     "metadata": {
      "needs_background": "light"
     },
     "output_type": "display_data"
    },
    {
     "name": "stdout",
     "output_type": "stream",
     "text": [
      "failed to execute ['dot', '-Tpdf', '-O', 'ClimateClassifier-Fold_3'], make sure the Graphviz executables are on your systems' PATH\n",
      "\n",
      "Fold: 3\n",
      "Accuracy Score: 0.640625\n",
      "Precision Score: 0.6363636363636364\n",
      "Recall Score: 0.7392739273927392\n",
      "f1 Score: 0.683969465648855\n",
      "confusion_matrix of training set is: \n",
      " [[606 488]\n",
      " [260 953]] \n",
      "\n",
      "confusion_matrix of testing set is: \n",
      " [[145 128]\n",
      " [ 79 224]] \n",
      "\n",
      "             precision    recall  f1-score   support\n",
      "\n",
      "          0       0.65      0.53      0.58       273\n",
      "          1       0.64      0.74      0.68       303\n",
      "\n",
      "avg / total       0.64      0.64      0.64       576\n",
      "\n"
     ]
    },
    {
     "data": {
      "image/png": "[encoded data removed]",
      "text/plain": [
       "<Figure size 432x288 with 2 Axes>"
      ]
     },
     "metadata": {
      "needs_background": "light"
     },
     "output_type": "display_data"
    },
    {
     "data": {
      "image/png": "[encoded data removed]",
      "text/plain": [
       "<Figure size 432x288 with 2 Axes>"
      ]
     },
     "metadata": {
      "needs_background": "light"
     },
     "output_type": "display_data"
    },
    {
     "name": "stdout",
     "output_type": "stream",
     "text": [
      "failed to execute ['dot', '-Tpdf', '-O', 'ClimateClassifier-Fold_4'], make sure the Graphviz executables are on your systems' PATH\n",
      "\n",
      "Fold: 4\n",
      "Accuracy Score: 0.6128472222222222\n",
      "Precision Score: 0.6111111111111112\n",
      "Recall Score: 0.7260726072607261\n",
      "f1 Score: 0.6636500754147814\n",
      "confusion_matrix of training set is: \n",
      " [[610 484]\n",
      " [250 963]] \n",
      "\n",
      "confusion_matrix of testing set is: \n",
      " [[133 140]\n",
      " [ 83 220]] \n",
      "\n",
      "             precision    recall  f1-score   support\n",
      "\n",
      "          0       0.62      0.49      0.54       273\n",
      "          1       0.61      0.73      0.66       303\n",
      "\n",
      "avg / total       0.61      0.61      0.61       576\n",
      "\n"
     ]
    },
    {
     "data": {
      "image/png": "[encoded data removed]",
      "text/plain": [
       "<Figure size 432x288 with 2 Axes>"
      ]
     },
     "metadata": {
      "needs_background": "light"
     },
     "output_type": "display_data"
    },
    {
     "data": {
      "image/png": "[encoded data removed]",
      "text/plain": [
       "<Figure size 432x288 with 2 Axes>"
      ]
     },
     "metadata": {
      "needs_background": "light"
     },
     "output_type": "display_data"
    },
    {
     "name": "stdout",
     "output_type": "stream",
     "text": [
      "failed to execute ['dot', '-Tpdf', '-O', 'ClimateClassifier-Fold_5'], make sure the Graphviz executables are on your systems' PATH\n",
      "\n",
      "Fold: 5\n",
      "Accuracy Score: 0.6111111111111112\n",
      "Precision Score: 0.6100278551532033\n",
      "Recall Score: 0.7227722772277227\n",
      "f1 Score: 0.6616314199395771\n",
      "confusion_matrix of training set is: \n",
      " [[622 472]\n",
      " [245 968]] \n",
      "\n",
      "confusion_matrix of testing set is: \n",
      " [[133 140]\n",
      " [ 84 219]] \n",
      "\n",
      "             precision    recall  f1-score   support\n",
      "\n",
      "          0       0.61      0.49      0.54       273\n",
      "          1       0.61      0.72      0.66       303\n",
      "\n",
      "avg / total       0.61      0.61      0.61       576\n",
      "\n"
     ]
    },
    {
     "data": {
      "image/png": "[encoded data removed]",
      "text/plain": [
       "<Figure size 432x288 with 2 Axes>"
      ]
     },
     "metadata": {
      "needs_background": "light"
     },
     "output_type": "display_data"
    },
    {
     "data": {
      "image/png": "[encoded data removed]",
      "text/plain": [
       "<Figure size 432x288 with 2 Axes>"
      ]
     },
     "metadata": {
      "needs_background": "light"
     },
     "output_type": "display_data"
    },
    {
     "data": {
      "text/html": [
       "<div>\n",
       "<style scoped>\n",
       "    .dataframe tbody tr th:only-of-type {\n",
       "        vertical-align: middle;\n",
       "    }\n",
       "\n",
       "    .dataframe tbody tr th {\n",
       "        vertical-align: top;\n",
       "    }\n",
       "\n",
       "    .dataframe thead th {\n",
       "        text-align: right;\n",
       "    }\n",
       "</style>\n",
       "<table border=\"1\" class=\"dataframe\">\n",
       "  <thead>\n",
       "    <tr style=\"text-align: right;\">\n",
       "      <th></th>\n",
       "      <th>accuracy</th>\n",
       "      <th>f1</th>\n",
       "      <th>precision</th>\n",
       "      <th>recall</th>\n",
       "    </tr>\n",
       "  </thead>\n",
       "  <tbody>\n",
       "    <tr>\n",
       "      <th>0</th>\n",
       "      <td>0.622837</td>\n",
       "      <td>0.671687</td>\n",
       "      <td>0.619444</td>\n",
       "      <td>0.733553</td>\n",
       "    </tr>\n",
       "    <tr>\n",
       "      <th>1</th>\n",
       "      <td>0.656846</td>\n",
       "      <td>0.713043</td>\n",
       "      <td>0.635659</td>\n",
       "      <td>0.811881</td>\n",
       "    </tr>\n",
       "    <tr>\n",
       "      <th>2</th>\n",
       "      <td>0.640625</td>\n",
       "      <td>0.683969</td>\n",
       "      <td>0.636364</td>\n",
       "      <td>0.739274</td>\n",
       "    </tr>\n",
       "    <tr>\n",
       "      <th>3</th>\n",
       "      <td>0.612847</td>\n",
       "      <td>0.663650</td>\n",
       "      <td>0.611111</td>\n",
       "      <td>0.726073</td>\n",
       "    </tr>\n",
       "    <tr>\n",
       "      <th>4</th>\n",
       "      <td>0.611111</td>\n",
       "      <td>0.661631</td>\n",
       "      <td>0.610028</td>\n",
       "      <td>0.722772</td>\n",
       "    </tr>\n",
       "  </tbody>\n",
       "</table>\n",
       "</div>"
      ],
      "text/plain": [
       "   accuracy        f1  precision    recall\n",
       "0  0.622837  0.671687   0.619444  0.733553\n",
       "1  0.656846  0.713043   0.635659  0.811881\n",
       "2  0.640625  0.683969   0.636364  0.739274\n",
       "3  0.612847  0.663650   0.611111  0.726073\n",
       "4  0.611111  0.661631   0.610028  0.722772"
      ]
     },
     "execution_count": 66,
     "metadata": {},
     "output_type": "execute_result"
    }
   ],
   "source": [
    "k_fold_evaluate(X, y, max_depth=7, min_samples_leaf=2)"
   ]
  },
  {
   "cell_type": "markdown",
   "metadata": {},
   "source": [
    "### reload pickle"
   ]
  },
  {
   "cell_type": "code",
   "execution_count": 73,
   "metadata": {},
   "outputs": [
    {
     "data": {
      "text/plain": [
       "0.7161387631975866"
      ]
     },
     "execution_count": 73,
     "metadata": {},
     "output_type": "execute_result"
    }
   ],
   "source": [
    "clf2 = joblib.load('ClimateTeam7PD2.pkl')\n",
    "y_pred = clf2.predict(X)\n",
    "f1_score(y, y_pred)"
   ]
  },
  {
   "cell_type": "markdown",
   "metadata": {},
   "source": [
    "compare with the model generated for PD1"
   ]
  },
  {
   "cell_type": "code",
   "execution_count": 71,
   "metadata": {},
   "outputs": [
    {
     "data": {
      "text/plain": [
       "0.7017543859649124"
      ]
     },
     "execution_count": 71,
     "metadata": {},
     "output_type": "execute_result"
    }
   ],
   "source": [
    "clf3 = joblib.load('ClimateTeam7PD1.pkl')\n",
    "y_pred = clf3.predict(X)\n",
    "f1_score(y, y_pred)"
   ]
  }
 ],
 "metadata": {
  "celltoolbar": "Edit Metadata",
  "kernelspec": {
   "display_name": "Python 3",
   "language": "python",
   "name": "python3"
  },
  "language_info": {
   "codemirror_mode": {
    "name": "ipython",
    "version": 3
   },
   "file_extension": ".py",
   "mimetype": "text/x-python",
   "name": "python",
   "nbconvert_exporter": "python",
   "pygments_lexer": "ipython3",
   "version": "3.6.6"
  },
  "latex_envs": {
   "LaTeX_envs_menu_present": true,
   "autoclose": false,
   "autocomplete": true,
   "bibliofile": "biblio.bib",
   "cite_by": "apalike",
   "current_citInitial": 1,
   "eqLabelWithNumbers": true,
   "eqNumInitial": 1,
   "hotkeys": {
    "equation": "Ctrl-E",
    "itemize": "Ctrl-I"
   },
   "labels_anchors": false,
   "latex_user_defs": false,
   "report_style_numbering": false,
   "user_envs_cfg": false
  },
  "varInspector": {
   "cols": {
    "lenName": 16,
    "lenType": 16,
    "lenVar": 40
   },
   "kernels_config": {
    "python": {
     "delete_cmd_postfix": "",
     "delete_cmd_prefix": "del ",
     "library": "var_list.py",
     "varRefreshCmd": "print(var_dic_list())"
    },
    "r": {
     "delete_cmd_postfix": ") ",
     "delete_cmd_prefix": "rm(",
     "library": "var_list.r",
     "varRefreshCmd": "cat(var_dic_list()) "
    }
   },
   "types_to_exclude": [
    "module",
    "function",
    "builtin_function_or_method",
    "instance",
    "_Feature"
   ],
   "window_display": false
  }
 },
 "nbformat": 4,
 "nbformat_minor": 2
}
