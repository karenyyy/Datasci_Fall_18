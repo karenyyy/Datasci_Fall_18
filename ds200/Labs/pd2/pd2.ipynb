{
 "cells": [
  {
   "cell_type": "markdown",
   "metadata": {},
   "source": [
    "## Project PD2"
   ]
  },
  {
   "cell_type": "markdown",
   "metadata": {
    "heading_collapsed": true
   },
   "source": [
    "### import packages"
   ]
  },
  {
   "cell_type": "code",
   "execution_count": 106,
   "metadata": {
    "hidden": true
   },
   "outputs": [],
   "source": [
    "import datascience as ds\n",
    "from datascience import *\n",
    "import numpy as np\n",
    "from collections import Counter\n",
    "from graphviz import Source\n",
    "import pandas as pd\n",
    "import seaborn as sns\n",
    "from sklearn.pipeline import Pipeline\n",
    "from sklearn.feature_extraction.text import CountVectorizer, TfidfTransformer\n",
    "from sklearn.tree import DecisionTreeClassifier\n",
    "from sklearn.ensemble import RandomForestClassifier\n",
    "from sklearn import tree\n",
    "from sklearn.metrics import confusion_matrix, precision_score, recall_score, f1_score, accuracy_score, classification_report\n",
    "import matplotlib.pyplot as plt\n",
    "from sklearn.model_selection import train_test_split, cross_val_score, StratifiedKFold\n",
    "from sklearn.externals import joblib\n",
    "%matplotlib inline"
   ]
  },
  {
   "cell_type": "markdown",
   "metadata": {},
   "source": [
    "### tweets data loaded into Jupyter Notebook as Table object"
   ]
  },
  {
   "cell_type": "code",
   "execution_count": 107,
   "metadata": {},
   "outputs": [],
   "source": [
    "df1 = ds.Table.read_table('Climate1SupportiveLevel.csv', sep=',')\n",
    "df2 = ds.Table.read_table('ClimateBalancedDS2.csv', sep=',')\n",
    "df = df1.append(df2)\n",
    "test_index = np.random.choice(df.num_rows, 100, replace=False)\n",
    "train_val_index = [i for i in np.arange(df.num_rows) if i not in test_index]\n",
    "test_data = df.take[test_index]\n",
    "df = df.take[train_val_index]\n",
    "X = list(df['Text'])\n",
    "y = list(df['Support'])"
   ]
  },
  {
   "cell_type": "markdown",
   "metadata": {},
   "source": [
    "### A description of all model enhancements incorporated into the construction of PD2.\n",
    "\n",
    "\n",
    "\n",
    "\n"
   ]
  },
  {
   "cell_type": "markdown",
   "metadata": {},
   "source": [
    "#### used parameters\n",
    "\n",
    "- CountVector\n",
    "    - token_pattern = \"(?!RT|rt|\\d+)[@#]*[\\w\\'_-]{2,100}\"\n",
    "    - analyzer = 'word'\n",
    "    - stop_words = \n",
    "    - min_df = 3\n",
    "    - ngram_range=(1,2)\n",
    "- DecisionTree\n",
    "    - criterion='entropy'\n",
    "    - max_depth = \n",
    "    - min_samples_leaf = 2"
   ]
  },
  {
   "cell_type": "markdown",
   "metadata": {},
   "source": [
    "### A description of all model parameters you tried and the associated Stratified k-fold cross validation results for each model parameter choice based on the combined data set (DS1 + DS2)"
   ]
  },
  {
   "cell_type": "markdown",
   "metadata": {},
   "source": [
    " - max_depth=range(1, 15)\n",
    " - stop_words:\n",
    "     - default in CountVectorizer: 'english'\n",
    "     - user_defined: ['a', 'an', 'the', 'it', 'is', 'are', 'be', 'of', 'this', 'that', 'RT', 'rt','https']\n",
    "     - the top 30 most common words in DS1+DS2 tweets (chosen)\n",
    "     \n",
    "code and test results as follows:"
   ]
  },
  {
   "cell_type": "markdown",
   "metadata": {
    "heading_collapsed": true
   },
   "source": [
    "### Check whether the data distribution is balanced"
   ]
  },
  {
   "cell_type": "code",
   "execution_count": 108,
   "metadata": {
    "hidden": true,
    "scrolled": true
   },
   "outputs": [],
   "source": [
    "def check(sentiment, index, note='training'):\n",
    "    if sentiment==0:\n",
    "        label = 'not supportive'\n",
    "    else:\n",
    "        label = 'supportive'\n",
    "    print('There are {} '.format(df.take(index).where('Support', \n",
    "          are.equal_to(sentiment)).size[0][0])+label+' tweets in the '+note+' set.')"
   ]
  },
  {
   "cell_type": "markdown",
   "metadata": {
    "hidden": true
   },
   "source": [
    "#### Model Building"
   ]
  },
  {
   "cell_type": "code",
   "execution_count": 109,
   "metadata": {
    "hidden": true,
    "scrolled": true
   },
   "outputs": [],
   "source": [
    "def custom_split(train_index, test_index):\n",
    "    trainingset = df.take(train_index)\n",
    "    testingset = df.take(test_index)    \n",
    "        \n",
    "    X_train= list(trainingset['Text'])\n",
    "    y_train= list(trainingset['Support'])\n",
    "    X_test= list(testingset['Text'])\n",
    "    y_test= list(testingset['Support'])\n",
    "    \n",
    "    return X_train, X_test, y_train, y_test"
   ]
  },
  {
   "cell_type": "markdown",
   "metadata": {
    "heading_collapsed": true
   },
   "source": [
    "### classifier"
   ]
  },
  {
   "cell_type": "code",
   "execution_count": 110,
   "metadata": {
    "hidden": true,
    "scrolled": true
   },
   "outputs": [],
   "source": [
    "def classifier(X_train, y_train, X_test, fold, max_depth, min_samples_leaf, stop_words, overfit_risk=False):\n",
    "    # token_pattern='(([#@]|[0-9]|[a-z]|[A-Z])+)'\n",
    "    clf = Pipeline(\n",
    "        [\n",
    "            ('vect', CountVectorizer(token_pattern=\"(?!RT|rt|\\d+)[@#]*[\\w\\'_-]{2,100}\",\n",
    "                                     analyzer = 'word',\n",
    "                                     stop_words = stop_words,\n",
    "                                     min_df = 3,\n",
    "                                     ngram_range=(1,2))),\n",
    "            ('clf', DecisionTreeClassifier(criterion='entropy',\n",
    "                                           random_state = 100,\n",
    "                                           max_depth = max_depth,\n",
    "                                           min_samples_leaf = min_samples_leaf))\n",
    "        ])\n",
    "    clf.fit(X_train, y_train)\n",
    "    feature_names = clf.named_steps['vect'].get_feature_names()\n",
    "    try:\n",
    "        dot_data = tree.export_graphviz(clf.named_steps['clf'], out_file=None, \n",
    "                                        feature_names=feature_names)\n",
    "        graph = Source(dot_data)\n",
    "        graph.render('ClimateClassifier-Fold_{}'.format(fold))\n",
    "    except Exception as e:\n",
    "        print(e)\n",
    "    predicted_y_train = clf.predict(X_train)\n",
    "    predicted_y_test = clf.predict(X_test)\n",
    "    # save as pickle\n",
    "    if overfit_risk:\n",
    "        joblib.dump(clf, 'ClimateTeam7PD2_maxdepth{}.pkl'.format(max_depth))\n",
    "    else:\n",
    "        joblib.dump(clf, 'ClimateTeam7PD2.pkl')\n",
    "    return predicted_y_train, predicted_y_test"
   ]
  },
  {
   "cell_type": "markdown",
   "metadata": {
    "heading_collapsed": true
   },
   "source": [
    "### evaluation"
   ]
  },
  {
   "cell_type": "code",
   "execution_count": 111,
   "metadata": {
    "hidden": true,
    "scrolled": true
   },
   "outputs": [],
   "source": [
    "def eval_results(predicted_y_train, y_train, predicted_y_test, y_test):\n",
    "    accuracy_s = accuracy_score(y_test, predicted_y_test)\n",
    "    precision_s = precision_score(y_test, predicted_y_test)\n",
    "    recall_s = recall_score(y_test, predicted_y_test)\n",
    "    f1_s = f1_score(y_test, predicted_y_test)\n",
    "    cm_train = confusion_matrix(y_train, predicted_y_train)\n",
    "    cm_test = confusion_matrix(y_test, predicted_y_test)  \n",
    "    \n",
    "    print('Accuracy Score:', accuracy_s)\n",
    "    print(\"Precision Score:\", precision_s)\n",
    "    print(\"Recall Score:\", recall_s)\n",
    "    print(\"f1 Score:\", f1_s)\n",
    "    print('confusion_matrix of training set is: \\n', cm_train, '\\n')\n",
    "    print('confusion_matrix of testing set is: \\n', cm_test, '\\n')\n",
    "    print(classification_report(y_test, predicted_y_test))\n",
    "    \n",
    "    classes = ['not supportive', 'supportive']\n",
    "    sns.heatmap(cm_train, annot=True, cmap='Blues', yticklabels=classes, xticklabels=classes)\n",
    "    plt.title('confusion matrix of training set')\n",
    "    plt.show()\n",
    "    sns.heatmap(cm_test, annot=True, cmap='Blues', yticklabels=classes, xticklabels=classes)\n",
    "    plt.title('confusion matrix of testing set')\n",
    "    plt.show()\n",
    "    return accuracy_s, precision_s, recall_s, f1_s"
   ]
  },
  {
   "cell_type": "markdown",
   "metadata": {
    "heading_collapsed": true
   },
   "source": [
    "### k-fold"
   ]
  },
  {
   "cell_type": "code",
   "execution_count": 112,
   "metadata": {
    "hidden": true,
    "scrolled": true
   },
   "outputs": [],
   "source": [
    "def k_fold_evaluate(X, y, max_depth, min_samples_leaf, stop_words, print_eval=True, overfit_risk=False):\n",
    "    # initialization\n",
    "    accuracy = []\n",
    "    precision = []\n",
    "    recall=[]\n",
    "    f1 = []\n",
    "    fold = 1\n",
    "    skf = StratifiedKFold(n_splits=5, random_state=1, shuffle= True)\n",
    "    \n",
    "    # build model and collect results\n",
    "    for val_index, test_index in skf.split(X, y):\n",
    "        X_train, X_val, y_train, y_val = custom_split(val_index, test_index)\n",
    "        \n",
    "        predicted_y_train, predicted_y_val = classifier(X_train=X_train, y_train=y_train, \n",
    "                                                          X_test=X_val, fold=fold,\n",
    "                                                          max_depth = max_depth,\n",
    "                                                          min_samples_leaf = min_samples_leaf,\n",
    "                                                          stop_words = stop_words,\n",
    "                                                          overfit_risk=overfit_risk)\n",
    "        metrics_df={}\n",
    "        if print_eval:\n",
    "            print('\\nFold: {}'.format(fold))\n",
    "            accuracy_s, precision_s, recall_s, f1_s = eval_results(predicted_y_train, y_train, predicted_y_val, y_val)\n",
    "\n",
    "            accuracy.append(accuracy_s)\n",
    "            precision.append(precision_s)\n",
    "            recall.append(recall_s)\n",
    "            f1.append(f1_s)\n",
    "\n",
    "            metrics_df = pd.DataFrame(\n",
    "                        {\n",
    "                            'accuracy': accuracy,\n",
    "                            'precision': precision,\n",
    "                            'recall':recall,\n",
    "                            'f1':f1\n",
    "                        }\n",
    "                    )\n",
    "            fold += 1\n",
    "    return metrics_df"
   ]
  },
  {
   "cell_type": "markdown",
   "metadata": {},
   "source": [
    "### Tests: max_depth : 1-15"
   ]
  },
  {
   "cell_type": "markdown",
   "metadata": {
    "heading_collapsed": true
   },
   "source": [
    "#### test1: stop-words: default"
   ]
  },
  {
   "cell_type": "code",
   "execution_count": 113,
   "metadata": {
    "hidden": true
   },
   "outputs": [],
   "source": [
    "test_X = list(test_data['Text'])\n",
    "test_y = list(test_data['Support'])"
   ]
  },
  {
   "cell_type": "code",
   "execution_count": 117,
   "metadata": {
    "hidden": true
   },
   "outputs": [
    {
     "name": "stdout",
     "output_type": "stream",
     "text": [
      "maxdepth= 1\n",
      "test f1\n",
      "0.6019417475728155\n",
      "train f1\n",
      "0.6012009890498058\n",
      "maxdepth= 2\n",
      "test f1\n",
      "0.6608695652173913\n",
      "train f1\n",
      "0.6829733163913596\n",
      "maxdepth= 3\n",
      "test f1\n",
      "0.6666666666666666\n",
      "train f1\n",
      "0.6910466582597731\n",
      "maxdepth= 4\n",
      "test f1\n",
      "0.6666666666666666\n",
      "train f1\n",
      "0.6962822936357909\n",
      "maxdepth= 5\n",
      "test f1\n",
      "0.6782608695652174\n",
      "train f1\n",
      "0.7033312382149591\n",
      "maxdepth= 6\n",
      "test f1\n",
      "0.6842105263157895\n",
      "train f1\n",
      "0.7010834926704909\n",
      "maxdepth= 7\n",
      "test f1\n",
      "0.6956521739130435\n",
      "train f1\n",
      "0.7089410272669627\n",
      "maxdepth= 8\n",
      "test f1\n",
      "0.6956521739130435\n",
      "train f1\n",
      "0.7140600315955766\n",
      "maxdepth= 9\n",
      "test f1\n",
      "0.6956521739130435\n",
      "train f1\n",
      "0.7180296810862015\n",
      "maxdepth= 10\n",
      "test f1\n",
      "0.6842105263157895\n",
      "train f1\n",
      "0.7214669617451785\n",
      "maxdepth= 11\n",
      "test f1\n",
      "0.6956521739130435\n",
      "train f1\n",
      "0.7292057535959976\n",
      "maxdepth= 12\n",
      "test f1\n",
      "0.6956521739130435\n",
      "train f1\n",
      "0.7314465408805032\n",
      "maxdepth= 13\n",
      "test f1\n",
      "0.6956521739130435\n",
      "train f1\n",
      "0.7343208320201702\n",
      "maxdepth= 14\n",
      "test f1\n",
      "0.7017543859649122\n",
      "train f1\n",
      "0.7359143846395971\n"
     ]
    }
   ],
   "source": [
    "f1_lst_test1 = []\n",
    "f1_lst_train1 = []\n",
    "for d in range(1, 15):\n",
    "    k_fold_evaluate(X, y, max_depth=d, min_samples_leaf=2, stop_words='english', print_eval=False, overfit_risk=True)\n",
    "    clf_tmp = joblib.load('ClimateTeam7PD2_maxdepth{}.pkl'.format(d))\n",
    "    print('maxdepth=', d)\n",
    "    # test\n",
    "    y_pred = clf_tmp.predict(test_X)\n",
    "    print('test f1')\n",
    "    print(f1_score(y_pred=y_pred, y_true=test_y))\n",
    "    f1_lst_test1.append(f1_score(y_pred=y_pred, y_true=test_y))\n",
    "    # train_val\n",
    "    y_pred = clf_tmp.predict(X)\n",
    "    print('train f1')\n",
    "    print(f1_score(y_pred=y_pred, y_true=y))\n",
    "    f1_lst_train1.append(f1_score(y_pred=y_pred, y_true=y))"
   ]
  },
  {
   "cell_type": "code",
   "execution_count": 119,
   "metadata": {
    "hidden": true
   },
   "outputs": [
    {
     "data": {
      "image/png": "[encoded data removed]",
      "text/plain": [
       "<Figure size 432x288 with 1 Axes>"
      ]
     },
     "metadata": {
      "needs_background": "light"
     },
     "output_type": "display_data"
    }
   ],
   "source": [
    "plt.plot(np.arange(1,15), f1_lst_test1, label='f1 of testset')\n",
    "plt.plot(np.arange(1,15), f1_lst_train1, label='f1 of trainset')\n",
    "plt.xlabel('max_depth')\n",
    "plt.title('Double check the overfitting risk')\n",
    "plt.legend(loc='lower right')\n",
    "plt.show()"
   ]
  },
  {
   "cell_type": "markdown",
   "metadata": {
    "heading_collapsed": true
   },
   "source": [
    "#### test2: stop_words: ['a', 'an', 'the', 'it', 'is', 'are', 'be', 'of', 'this', 'that', 'RT', 'rt','https']"
   ]
  },
  {
   "cell_type": "code",
   "execution_count": 121,
   "metadata": {
    "hidden": true
   },
   "outputs": [
    {
     "name": "stdout",
     "output_type": "stream",
     "text": [
      "maxdepth= 1\n",
      "test f1\n",
      "0.6019417475728155\n",
      "train f1\n",
      "0.6012009890498058\n",
      "maxdepth= 2\n",
      "test f1\n",
      "0.6608695652173913\n",
      "train f1\n",
      "0.6829733163913596\n",
      "maxdepth= 3\n",
      "test f1\n",
      "0.6666666666666665\n",
      "train f1\n",
      "0.7001540832049308\n",
      "maxdepth= 4\n",
      "test f1\n",
      "0.6666666666666665\n",
      "train f1\n",
      "0.7059902200488998\n",
      "maxdepth= 5\n",
      "test f1\n",
      "0.6724137931034483\n",
      "train f1\n",
      "0.704040087691826\n",
      "maxdepth= 6\n",
      "test f1\n",
      "0.6608695652173913\n",
      "train f1\n",
      "0.704713049054184\n",
      "maxdepth= 7\n",
      "test f1\n",
      "0.6608695652173913\n",
      "train f1\n",
      "0.7053915275994865\n",
      "maxdepth= 8\n",
      "test f1\n",
      "0.6724137931034483\n",
      "train f1\n",
      "0.7151819322459222\n",
      "maxdepth= 9\n",
      "test f1\n",
      "0.6724137931034483\n",
      "train f1\n",
      "0.7177522349936144\n",
      "maxdepth= 10\n",
      "test f1\n",
      "0.6724137931034483\n",
      "train f1\n",
      "0.727102219443576\n",
      "maxdepth= 11\n",
      "test f1\n",
      "0.6608695652173913\n",
      "train f1\n",
      "0.7317839195979898\n",
      "maxdepth= 12\n",
      "test f1\n",
      "0.6551724137931034\n",
      "train f1\n",
      "0.74280408542247\n",
      "maxdepth= 13\n",
      "test f1\n",
      "0.6666666666666665\n",
      "train f1\n",
      "0.747896540978498\n",
      "maxdepth= 14\n",
      "test f1\n",
      "0.6608695652173913\n",
      "train f1\n",
      "0.7457735247208931\n"
     ]
    }
   ],
   "source": [
    "f1_lst_test2 = []\n",
    "f1_lst_train2 = []\n",
    "for d in range(1, 15):\n",
    "    k_fold_evaluate(X, y, max_depth=d, min_samples_leaf=2, \n",
    "                    stop_words=['a', 'an', 'the', 'it', 'is', 'are', 'be', 'of', 'this', 'that', 'RT', 'rt','https'], \n",
    "                    print_eval=False, overfit_risk=True)\n",
    "    clf_tmp = joblib.load('ClimateTeam7PD2_maxdepth{}.pkl'.format(d))\n",
    "    print('maxdepth=', d)\n",
    "    # test\n",
    "    y_pred = clf_tmp.predict(test_X)\n",
    "    print('test f1')\n",
    "    print(f1_score(y_pred=y_pred, y_true=test_y))\n",
    "    f1_lst_test2.append(f1_score(y_pred=y_pred, y_true=test_y))\n",
    "    # train_val\n",
    "    y_pred = clf_tmp.predict(X)\n",
    "    print('train f1')\n",
    "    print(f1_score(y_pred=y_pred, y_true=y))\n",
    "    f1_lst_train2.append(f1_score(y_pred=y_pred, y_true=y))"
   ]
  },
  {
   "cell_type": "code",
   "execution_count": 122,
   "metadata": {
    "hidden": true,
    "scrolled": true
   },
   "outputs": [
    {
     "data": {
      "image/png": "[encoded data removed]",
      "text/plain": [
       "<Figure size 432x288 with 1 Axes>"
      ]
     },
     "metadata": {
      "needs_background": "light"
     },
     "output_type": "display_data"
    }
   ],
   "source": [
    "plt.plot(np.arange(1,15), f1_lst_test2, label='f1 of testset')\n",
    "plt.plot(np.arange(1,15), f1_lst_train2, label='f1 of trainset')\n",
    "plt.xlabel('max_depth')\n",
    "plt.title('Double check the overfitting risk')\n",
    "plt.legend(loc='lower right')\n",
    "plt.show()"
   ]
  },
  {
   "cell_type": "markdown",
   "metadata": {
    "heading_collapsed": true
   },
   "source": [
    "#### test3: stop_words: most common words in DS1+DS2 tweets"
   ]
  },
  {
   "cell_type": "code",
   "execution_count": 123,
   "metadata": {
    "hidden": true
   },
   "outputs": [
    {
     "data": {
      "text/plain": [
       "['the',\n",
       " 'to',\n",
       " 'RT',\n",
       " 'of',\n",
       " 'change',\n",
       " 'is',\n",
       " 'and',\n",
       " 'in',\n",
       " 'that',\n",
       " 'on',\n",
       " 'for',\n",
       " 'are',\n",
       " 'you',\n",
       " 'we',\n",
       " 'The',\n",
       " 'it',\n",
       " 'this',\n",
       " 'about',\n",
       " 'be',\n",
       " 'by',\n",
       " 'have',\n",
       " 'not',\n",
       " 'will',\n",
       " 'our',\n",
       " 'from',\n",
       " 'as',\n",
       " 'can',\n",
       " 'with',\n",
       " 'all',\n",
       " 'We']"
      ]
     },
     "execution_count": 123,
     "metadata": {},
     "output_type": "execute_result"
    }
   ],
   "source": [
    "stop_w = [i[0] for i in Counter([word for sentence in X for word in sentence.split() \n",
    "                                 if 'climate' not in word.lower() \n",
    "                                 and word.isalpha() \n",
    "                                 and len(word)>1]).most_common()[:30]]\n",
    "stop_w"
   ]
  },
  {
   "cell_type": "code",
   "execution_count": 124,
   "metadata": {
    "hidden": true
   },
   "outputs": [
    {
     "name": "stdout",
     "output_type": "stream",
     "text": [
      "maxdepth= 1\n",
      "test f1\n",
      "0.6019417475728155\n",
      "train f1\n",
      "0.6012009890498058\n",
      "maxdepth= 2\n",
      "test f1\n",
      "0.6608695652173913\n",
      "train f1\n",
      "0.6829733163913596\n",
      "maxdepth= 3\n",
      "test f1\n",
      "0.6666666666666666\n",
      "train f1\n",
      "0.6925750394944707\n",
      "maxdepth= 4\n",
      "test f1\n",
      "0.6666666666666666\n",
      "train f1\n",
      "0.6969124133585382\n",
      "maxdepth= 5\n",
      "test f1\n",
      "0.6724137931034483\n",
      "train f1\n",
      "0.70282131661442\n",
      "maxdepth= 6\n",
      "test f1\n",
      "0.6724137931034483\n",
      "train f1\n",
      "0.7016661427224143\n",
      "maxdepth= 7\n",
      "test f1\n",
      "0.6896551724137931\n",
      "train f1\n",
      "0.7094954559699153\n",
      "maxdepth= 8\n",
      "test f1\n",
      "0.6896551724137931\n",
      "train f1\n",
      "0.7131249999999999\n",
      "maxdepth= 9\n",
      "test f1\n",
      "0.6896551724137931\n",
      "train f1\n",
      "0.716875\n",
      "maxdepth= 10\n",
      "test f1\n",
      "0.6896551724137931\n",
      "train f1\n",
      "0.7177722152690864\n",
      "maxdepth= 11\n",
      "test f1\n",
      "0.7008547008547009\n",
      "train f1\n",
      "0.7199248120300753\n",
      "maxdepth= 12\n",
      "test f1\n",
      "0.6896551724137931\n",
      "train f1\n",
      "0.7233238904627006\n",
      "maxdepth= 13\n",
      "test f1\n",
      "0.7008547008547009\n",
      "train f1\n",
      "0.725434439178515\n",
      "maxdepth= 14\n",
      "test f1\n",
      "0.706896551724138\n",
      "train f1\n",
      "0.7292782855341946\n"
     ]
    }
   ],
   "source": [
    "f1_lst_test3 = []\n",
    "f1_lst_train3 = []\n",
    "for d in range(1, 15):\n",
    "    k_fold_evaluate(X, y, max_depth=d, min_samples_leaf=2, \n",
    "                    stop_words=stop_w, \n",
    "                    print_eval=False, overfit_risk=True)\n",
    "    clf_tmp = joblib.load('ClimateTeam7PD2_maxdepth{}.pkl'.format(d))\n",
    "    print('maxdepth=', d)\n",
    "    # test\n",
    "    y_pred = clf_tmp.predict(test_X)\n",
    "    print('test f1')\n",
    "    print(f1_score(y_pred=y_pred, y_true=test_y))\n",
    "    f1_lst_test3.append(f1_score(y_pred=y_pred, y_true=test_y))\n",
    "    # train_val\n",
    "    y_pred = clf_tmp.predict(X)\n",
    "    print('train f1')\n",
    "    print(f1_score(y_pred=y_pred, y_true=y))\n",
    "    f1_lst_train3.append(f1_score(y_pred=y_pred, y_true=y))"
   ]
  },
  {
   "cell_type": "code",
   "execution_count": 125,
   "metadata": {
    "hidden": true
   },
   "outputs": [
    {
     "data": {
      "image/png": "[encoded data removed]",
      "text/plain": [
       "<Figure size 432x288 with 1 Axes>"
      ]
     },
     "metadata": {
      "needs_background": "light"
     },
     "output_type": "display_data"
    }
   ],
   "source": [
    "plt.plot(np.arange(1,15), f1_lst_test3, label='f1 of testset')\n",
    "plt.plot(np.arange(1,15), f1_lst_train3, label='f1 of trainset')\n",
    "plt.xlabel('max_depth')\n",
    "plt.title('Double check the overfitting risk')\n",
    "plt.legend(loc='lower right')\n",
    "plt.show()"
   ]
  },
  {
   "cell_type": "markdown",
   "metadata": {
    "heading_collapsed": true
   },
   "source": [
    "## Final result"
   ]
  },
  {
   "cell_type": "code",
   "execution_count": 126,
   "metadata": {
    "hidden": true
   },
   "outputs": [
    {
     "name": "stdout",
     "output_type": "stream",
     "text": [
      "\n",
      "Fold: 1\n",
      "Accuracy Score: 0.6229802513464991\n",
      "Precision Score: 0.6175637393767706\n",
      "Recall Score: 0.7440273037542662\n",
      "f1 Score: 0.6749226006191951\n",
      "confusion_matrix of training set is: \n",
      " [[649 407]\n",
      " [209 961]] \n",
      "\n",
      "confusion_matrix of testing set is: \n",
      " [[129 135]\n",
      " [ 75 218]] \n",
      "\n",
      "             precision    recall  f1-score   support\n",
      "\n",
      "          0       0.63      0.49      0.55       264\n",
      "          1       0.62      0.74      0.67       293\n",
      "\n",
      "avg / total       0.62      0.62      0.62       557\n",
      "\n"
     ]
    },
    {
     "data": {
      "image/png": "[encoded data removed]",
      "text/plain": [
       "<Figure size 432x288 with 2 Axes>"
      ]
     },
     "metadata": {
      "needs_background": "light"
     },
     "output_type": "display_data"
    },
    {
     "data": {
      "image/png": "[encoded data removed]",
      "text/plain": [
       "<Figure size 432x288 with 2 Axes>"
      ]
     },
     "metadata": {
      "needs_background": "light"
     },
     "output_type": "display_data"
    },
    {
     "name": "stdout",
     "output_type": "stream",
     "text": [
      "\n",
      "Fold: 2\n",
      "Accuracy Score: 0.6157989228007181\n",
      "Precision Score: 0.6064690026954178\n",
      "Recall Score: 0.7679180887372014\n",
      "f1 Score: 0.6777108433734939\n",
      "confusion_matrix of training set is: \n",
      " [[619 437]\n",
      " [200 970]] \n",
      "\n",
      "confusion_matrix of testing set is: \n",
      " [[118 146]\n",
      " [ 68 225]] \n",
      "\n",
      "             precision    recall  f1-score   support\n",
      "\n",
      "          0       0.63      0.45      0.52       264\n",
      "          1       0.61      0.77      0.68       293\n",
      "\n",
      "avg / total       0.62      0.62      0.61       557\n",
      "\n"
     ]
    },
    {
     "data": {
      "image/png": "[encoded data removed]",
      "text/plain": [
       "<Figure size 432x288 with 2 Axes>"
      ]
     },
     "metadata": {
      "needs_background": "light"
     },
     "output_type": "display_data"
    },
    {
     "data": {
      "image/png": "[encoded data removed]",
      "text/plain": [
       "<Figure size 432x288 with 2 Axes>"
      ]
     },
     "metadata": {
      "needs_background": "light"
     },
     "output_type": "display_data"
    },
    {
     "name": "stdout",
     "output_type": "stream",
     "text": [
      "\n",
      "Fold: 3\n",
      "Accuracy Score: 0.6481149012567325\n",
      "Precision Score: 0.6456456456456456\n",
      "Recall Score: 0.7337883959044369\n",
      "f1 Score: 0.6869009584664537\n",
      "confusion_matrix of training set is: \n",
      " [[649 407]\n",
      " [220 950]] \n",
      "\n",
      "confusion_matrix of testing set is: \n",
      " [[146 118]\n",
      " [ 78 215]] \n",
      "\n",
      "             precision    recall  f1-score   support\n",
      "\n",
      "          0       0.65      0.55      0.60       264\n",
      "          1       0.65      0.73      0.69       293\n",
      "\n",
      "avg / total       0.65      0.65      0.64       557\n",
      "\n"
     ]
    },
    {
     "data": {
      "image/png": "[encoded data removed]",
      "text/plain": [
       "<Figure size 432x288 with 2 Axes>"
      ]
     },
     "metadata": {
      "needs_background": "light"
     },
     "output_type": "display_data"
    },
    {
     "data": {
      "image/png": "[encoded data removed]",
      "text/plain": [
       "<Figure size 432x288 with 2 Axes>"
      ]
     },
     "metadata": {
      "needs_background": "light"
     },
     "output_type": "display_data"
    },
    {
     "name": "stdout",
     "output_type": "stream",
     "text": [
      "\n",
      "Fold: 4\n",
      "Accuracy Score: 0.6762589928057554\n",
      "Precision Score: 0.6609195402298851\n",
      "Recall Score: 0.7876712328767124\n",
      "f1 Score: 0.71875\n",
      "confusion_matrix of training set is: \n",
      " [[612 444]\n",
      " [216 955]] \n",
      "\n",
      "confusion_matrix of testing set is: \n",
      " [[146 118]\n",
      " [ 62 230]] \n",
      "\n",
      "             precision    recall  f1-score   support\n",
      "\n",
      "          0       0.70      0.55      0.62       264\n",
      "          1       0.66      0.79      0.72       292\n",
      "\n",
      "avg / total       0.68      0.68      0.67       556\n",
      "\n"
     ]
    },
    {
     "data": {
      "image/png": "[encoded data removed]",
      "text/plain": [
       "<Figure size 432x288 with 2 Axes>"
      ]
     },
     "metadata": {
      "needs_background": "light"
     },
     "output_type": "display_data"
    },
    {
     "data": {
      "image/png": "[encoded data removed]",
      "text/plain": [
       "<Figure size 432x288 with 2 Axes>"
      ]
     },
     "metadata": {
      "needs_background": "light"
     },
     "output_type": "display_data"
    },
    {
     "name": "stdout",
     "output_type": "stream",
     "text": [
      "\n",
      "Fold: 5\n",
      "Accuracy Score: 0.6312949640287769\n",
      "Precision Score: 0.623229461756374\n",
      "Recall Score: 0.7534246575342466\n",
      "f1 Score: 0.6821705426356589\n",
      "confusion_matrix of training set is: \n",
      " [[655 401]\n",
      " [242 929]] \n",
      "\n",
      "confusion_matrix of testing set is: \n",
      " [[131 133]\n",
      " [ 72 220]] \n",
      "\n",
      "             precision    recall  f1-score   support\n",
      "\n",
      "          0       0.65      0.50      0.56       264\n",
      "          1       0.62      0.75      0.68       292\n",
      "\n",
      "avg / total       0.63      0.63      0.62       556\n",
      "\n"
     ]
    },
    {
     "data": {
      "image/png": "[encoded data removed]",
      "text/plain": [
       "<Figure size 432x288 with 2 Axes>"
      ]
     },
     "metadata": {
      "needs_background": "light"
     },
     "output_type": "display_data"
    },
    {
     "data": {
      "image/png": "[encoded data removed]",
      "text/plain": [
       "<Figure size 432x288 with 2 Axes>"
      ]
     },
     "metadata": {
      "needs_background": "light"
     },
     "output_type": "display_data"
    },
    {
     "data": {
      "text/html": [
       "<div>\n",
       "<style scoped>\n",
       "    .dataframe tbody tr th:only-of-type {\n",
       "        vertical-align: middle;\n",
       "    }\n",
       "\n",
       "    .dataframe tbody tr th {\n",
       "        vertical-align: top;\n",
       "    }\n",
       "\n",
       "    .dataframe thead th {\n",
       "        text-align: right;\n",
       "    }\n",
       "</style>\n",
       "<table border=\"1\" class=\"dataframe\">\n",
       "  <thead>\n",
       "    <tr style=\"text-align: right;\">\n",
       "      <th></th>\n",
       "      <th>accuracy</th>\n",
       "      <th>precision</th>\n",
       "      <th>recall</th>\n",
       "      <th>f1</th>\n",
       "    </tr>\n",
       "  </thead>\n",
       "  <tbody>\n",
       "    <tr>\n",
       "      <th>0</th>\n",
       "      <td>0.622980</td>\n",
       "      <td>0.617564</td>\n",
       "      <td>0.744027</td>\n",
       "      <td>0.674923</td>\n",
       "    </tr>\n",
       "    <tr>\n",
       "      <th>1</th>\n",
       "      <td>0.615799</td>\n",
       "      <td>0.606469</td>\n",
       "      <td>0.767918</td>\n",
       "      <td>0.677711</td>\n",
       "    </tr>\n",
       "    <tr>\n",
       "      <th>2</th>\n",
       "      <td>0.648115</td>\n",
       "      <td>0.645646</td>\n",
       "      <td>0.733788</td>\n",
       "      <td>0.686901</td>\n",
       "    </tr>\n",
       "    <tr>\n",
       "      <th>3</th>\n",
       "      <td>0.676259</td>\n",
       "      <td>0.660920</td>\n",
       "      <td>0.787671</td>\n",
       "      <td>0.718750</td>\n",
       "    </tr>\n",
       "    <tr>\n",
       "      <th>4</th>\n",
       "      <td>0.631295</td>\n",
       "      <td>0.623229</td>\n",
       "      <td>0.753425</td>\n",
       "      <td>0.682171</td>\n",
       "    </tr>\n",
       "  </tbody>\n",
       "</table>\n",
       "</div>"
      ],
      "text/plain": [
       "   accuracy  precision    recall        f1\n",
       "0  0.622980   0.617564  0.744027  0.674923\n",
       "1  0.615799   0.606469  0.767918  0.677711\n",
       "2  0.648115   0.645646  0.733788  0.686901\n",
       "3  0.676259   0.660920  0.787671  0.718750\n",
       "4  0.631295   0.623229  0.753425  0.682171"
      ]
     },
     "execution_count": 126,
     "metadata": {},
     "output_type": "execute_result"
    }
   ],
   "source": [
    "k_fold_evaluate(X, y, max_depth=15, min_samples_leaf=2, \n",
    "                    stop_words=stop_w, \n",
    "                    print_eval=True, overfit_risk=False)"
   ]
  },
  {
   "cell_type": "code",
   "execution_count": 172,
   "metadata": {
    "hidden": true
   },
   "outputs": [],
   "source": [
    "clf2 = joblib.load('ClimateTeam7PD2.pkl')"
   ]
  },
  {
   "cell_type": "code",
   "execution_count": 215,
   "metadata": {
    "hidden": true
   },
   "outputs": [
    {
     "data": {
      "text/plain": [
       "0.728488902401946"
      ]
     },
     "execution_count": 215,
     "metadata": {},
     "output_type": "execute_result"
    }
   ],
   "source": [
    "df1 = ds.Table.read_table('Climate1SupportiveLevel.csv', sep=',')\n",
    "df2 = ds.Table.read_table('ClimateBalancedDS2.csv', sep=',')\n",
    "df = df1.append(df2)\n",
    "X = list(df['Text'])\n",
    "y = list(df['Support'])\n",
    "y_pred = clf_tmp.predict(X)\n",
    "f1_score(y, y_pred)"
   ]
  }
 ],
 "metadata": {
  "kernelspec": {
   "display_name": "Python 3",
   "language": "python",
   "name": "python3"
  },
  "language_info": {
   "codemirror_mode": {
    "name": "ipython",
    "version": 3
   },
   "file_extension": ".py",
   "mimetype": "text/x-python",
   "name": "python",
   "nbconvert_exporter": "python",
   "pygments_lexer": "ipython3",
   "version": "3.6.6"
  },
  "latex_envs": {
   "LaTeX_envs_menu_present": true,
   "autoclose": false,
   "autocomplete": true,
   "bibliofile": "biblio.bib",
   "cite_by": "apalike",
   "current_citInitial": 1,
   "eqLabelWithNumbers": true,
   "eqNumInitial": 1,
   "hotkeys": {
    "equation": "Ctrl-E",
    "itemize": "Ctrl-I"
   },
   "labels_anchors": false,
   "latex_user_defs": false,
   "report_style_numbering": false,
   "user_envs_cfg": false
  },
  "varInspector": {
   "cols": {
    "lenName": 16,
    "lenType": 16,
    "lenVar": 40
   },
   "kernels_config": {
    "python": {
     "delete_cmd_postfix": "",
     "delete_cmd_prefix": "del ",
     "library": "var_list.py",
     "varRefreshCmd": "print(var_dic_list())"
    },
    "r": {
     "delete_cmd_postfix": ") ",
     "delete_cmd_prefix": "rm(",
     "library": "var_list.r",
     "varRefreshCmd": "cat(var_dic_list()) "
    }
   },
   "types_to_exclude": [
    "module",
    "function",
    "builtin_function_or_method",
    "instance",
    "_Feature"
   ],
   "window_display": false
  }
 },
 "nbformat": 4,
 "nbformat_minor": 2
}
