{
 "cells": [
  {
   "cell_type": "markdown",
   "metadata": {},
   "source": [
    "## Project PD2"
   ]
  },
  {
   "cell_type": "markdown",
   "metadata": {
    "heading_collapsed": true
   },
   "source": [
    "### import packages"
   ]
  },
  {
   "cell_type": "code",
   "execution_count": 1,
   "metadata": {
    "hidden": true
   },
   "outputs": [
    {
     "name": "stderr",
     "output_type": "stream",
     "text": [
      "/usr/local/lib/python3.6/dist-packages/sklearn/ensemble/weight_boosting.py:29: DeprecationWarning: numpy.core.umath_tests is an internal NumPy module and should not be imported. It will be removed in a future NumPy release.\n",
      "  from numpy.core.umath_tests import inner1d\n"
     ]
    }
   ],
   "source": [
    "import datascience as ds\n",
    "from datascience import *\n",
    "import numpy as np\n",
    "from collections import Counter\n",
    "from graphviz import Source\n",
    "import pandas as pd\n",
    "import seaborn as sns\n",
    "from sklearn.pipeline import Pipeline\n",
    "from sklearn.feature_extraction.text import CountVectorizer, TfidfTransformer\n",
    "from sklearn.tree import DecisionTreeClassifier\n",
    "from sklearn.ensemble import RandomForestClassifier\n",
    "from sklearn import tree\n",
    "from sklearn.metrics import confusion_matrix, precision_score, recall_score, f1_score, accuracy_score, classification_report\n",
    "import matplotlib.pyplot as plt\n",
    "from sklearn.model_selection import train_test_split, cross_val_score, StratifiedKFold\n",
    "from sklearn.externals import joblib\n",
    "%matplotlib inline"
   ]
  },
  {
   "cell_type": "markdown",
   "metadata": {
    "heading_collapsed": true
   },
   "source": [
    "### tweets data loaded into Jupyter Notebook as Table object"
   ]
  },
  {
   "cell_type": "code",
   "execution_count": 2,
   "metadata": {
    "hidden": true
   },
   "outputs": [],
   "source": [
    "df1 = ds.Table.read_table('Climate1SupportiveLevel.csv', sep=',')\n",
    "df2 = ds.Table.read_table('ClimateBalancedDS2.csv', sep=',')\n",
    "df = df1.append(df2)\n",
    "test_index = np.random.choice(df.num_rows, 100, replace=False)\n",
    "train_val_index = [i for i in np.arange(df.num_rows) if i not in test_index]\n",
    "test_data = df.take[test_index]\n",
    "df = df.take[train_val_index]\n",
    "X = list(df['Text'])\n",
    "y = list(df['Support'])\n",
    "test_X = list(test_data['Text'])\n",
    "test_y = list(test_data['Support'])"
   ]
  },
  {
   "cell_type": "markdown",
   "metadata": {},
   "source": [
    "### A description of all model enhancements incorporated into the construction of PD2.\n",
    "\n",
    "\n",
    "\n",
    "\n"
   ]
  },
  {
   "cell_type": "markdown",
   "metadata": {},
   "source": [
    "#### used parameters\n",
    "\n",
    "- CountVector\n",
    "    - token_pattern = \"(?!RT|rt|\\d+)[@#]*[\\w\\'_-]{2,100}\"\n",
    "    - analyzer = 'word'\n",
    "    - stop_words = \n",
    "    - min_df = 3\n",
    "    - ngram_range=(1,2)\n",
    "- DecisionTree\n",
    "    - criterion='entropy'\n",
    "    - max_depth = \n",
    "    - min_samples_leaf = 2"
   ]
  },
  {
   "cell_type": "markdown",
   "metadata": {},
   "source": [
    "### A description of all model parameters you tried and the associated Stratified k-fold cross validation results for each model parameter choice based on the combined data set (DS1 + DS2)"
   ]
  },
  {
   "cell_type": "markdown",
   "metadata": {},
   "source": [
    " - max_depth=range(1, 15)\n",
    " - stop_words:\n",
    "     - default in CountVectorizer: 'english'\n",
    "     - user_defined: ['a', 'an', 'the', 'it', 'is', 'are', 'be', 'of', 'this', 'that', 'RT', 'rt','https']\n",
    "     - the top 30 most common words in DS1+DS2 tweets (chosen)\n",
    "     \n",
    "code and test results as follows:"
   ]
  },
  {
   "cell_type": "markdown",
   "metadata": {
    "heading_collapsed": true
   },
   "source": [
    "### Check whether the data distribution is balanced"
   ]
  },
  {
   "cell_type": "code",
   "execution_count": 3,
   "metadata": {
    "hidden": true,
    "scrolled": true
   },
   "outputs": [],
   "source": [
    "def check(sentiment, index, note='training'):\n",
    "    if sentiment==0:\n",
    "        label = 'not supportive'\n",
    "    else:\n",
    "        label = 'supportive'\n",
    "    print('There are {} '.format(df.take(index).where('Support', \n",
    "          are.equal_to(sentiment)).size[0][0])+label+' tweets in the '+note+' set.')"
   ]
  },
  {
   "cell_type": "markdown",
   "metadata": {
    "hidden": true
   },
   "source": [
    "#### Model Building"
   ]
  },
  {
   "cell_type": "code",
   "execution_count": 4,
   "metadata": {
    "hidden": true,
    "scrolled": true
   },
   "outputs": [],
   "source": [
    "def custom_split(train_index, test_index):\n",
    "    trainingset = df.take(train_index)\n",
    "    testingset = df.take(test_index)    \n",
    "        \n",
    "    X_train= list(trainingset['Text'])\n",
    "    y_train= list(trainingset['Support'])\n",
    "    X_test= list(testingset['Text'])\n",
    "    y_test= list(testingset['Support'])\n",
    "    \n",
    "    return X_train, X_test, y_train, y_test"
   ]
  },
  {
   "cell_type": "markdown",
   "metadata": {
    "heading_collapsed": true
   },
   "source": [
    "### classifier"
   ]
  },
  {
   "cell_type": "code",
   "execution_count": 5,
   "metadata": {
    "hidden": true,
    "scrolled": true
   },
   "outputs": [],
   "source": [
    "def classifier(X_train, y_train, X_test, fold, max_depth, min_samples_leaf, stop_words, overfit_risk=False):\n",
    "    # token_pattern='(([#@]|[0-9]|[a-z]|[A-Z])+)'\n",
    "    clf = Pipeline(\n",
    "        [\n",
    "            ('vect', CountVectorizer(token_pattern=\"(?!RT|rt|\\d+)[@#]*[\\w\\'_-]{2,100}\",\n",
    "                                     analyzer = 'word',\n",
    "                                     stop_words = stop_words,\n",
    "                                     min_df = 3,\n",
    "                                     ngram_range=(1,2))),\n",
    "            ('clf', DecisionTreeClassifier(criterion='entropy',\n",
    "                                           random_state = 100,\n",
    "                                           max_depth = max_depth,\n",
    "                                           min_samples_leaf = min_samples_leaf))\n",
    "        ])\n",
    "    clf.fit(X_train, y_train)\n",
    "    feature_names = clf.named_steps['vect'].get_feature_names()\n",
    "    try:\n",
    "        dot_data = tree.export_graphviz(clf.named_steps['clf'], out_file=None, \n",
    "                                        feature_names=feature_names)\n",
    "        graph = Source(dot_data)\n",
    "        graph.render('ClimateClassifier-Fold_{}'.format(fold))\n",
    "    except Exception as e:\n",
    "        print(e)\n",
    "    predicted_y_train = clf.predict(X_train)\n",
    "    predicted_y_test = clf.predict(X_test)\n",
    "    # save as pickle\n",
    "    if overfit_risk:\n",
    "        joblib.dump(clf, 'ClimateTeam7PD2_maxdepth{}.pkl'.format(max_depth))\n",
    "    else:\n",
    "        joblib.dump(clf, 'ClimateTeam7PD2.pkl')\n",
    "    return predicted_y_train, predicted_y_test"
   ]
  },
  {
   "cell_type": "markdown",
   "metadata": {
    "heading_collapsed": true
   },
   "source": [
    "### evaluation"
   ]
  },
  {
   "cell_type": "code",
   "execution_count": 6,
   "metadata": {
    "hidden": true,
    "scrolled": true
   },
   "outputs": [],
   "source": [
    "def eval_results(predicted_y_train, y_train, predicted_y_test, y_test):\n",
    "    accuracy_s = accuracy_score(y_test, predicted_y_test)\n",
    "    precision_s = precision_score(y_test, predicted_y_test)\n",
    "    recall_s = recall_score(y_test, predicted_y_test)\n",
    "    f1_s = f1_score(y_test, predicted_y_test)\n",
    "    cm_train = confusion_matrix(y_train, predicted_y_train)\n",
    "    cm_test = confusion_matrix(y_test, predicted_y_test)  \n",
    "    \n",
    "    print('Accuracy Score:', accuracy_s)\n",
    "    print(\"Precision Score:\", precision_s)\n",
    "    print(\"Recall Score:\", recall_s)\n",
    "    print(\"f1 Score:\", f1_s)\n",
    "    print('confusion_matrix of training set is: \\n', cm_train, '\\n')\n",
    "    print('confusion_matrix of testing set is: \\n', cm_test, '\\n')\n",
    "    print(classification_report(y_test, predicted_y_test))\n",
    "    \n",
    "    classes = ['not supportive', 'supportive']\n",
    "    sns.heatmap(cm_train, annot=True, cmap='Blues', yticklabels=classes, xticklabels=classes)\n",
    "    plt.title('confusion matrix of training set')\n",
    "    plt.show()\n",
    "    sns.heatmap(cm_test, annot=True, cmap='Blues', yticklabels=classes, xticklabels=classes)\n",
    "    plt.title('confusion matrix of testing set')\n",
    "    plt.show()\n",
    "    return accuracy_s, precision_s, recall_s, f1_s"
   ]
  },
  {
   "cell_type": "markdown",
   "metadata": {
    "heading_collapsed": true
   },
   "source": [
    "### k-fold"
   ]
  },
  {
   "cell_type": "code",
   "execution_count": 7,
   "metadata": {
    "hidden": true,
    "scrolled": true
   },
   "outputs": [],
   "source": [
    "def k_fold_evaluate(X, y, max_depth, min_samples_leaf, stop_words, print_eval=True, overfit_risk=False):\n",
    "    # initialization\n",
    "    accuracy = []\n",
    "    precision = []\n",
    "    recall=[]\n",
    "    f1 = []\n",
    "    fold = 1\n",
    "    skf = StratifiedKFold(n_splits=5, random_state=1, shuffle= True)\n",
    "    \n",
    "    # build model and collect results\n",
    "    for val_index, test_index in skf.split(X, y):\n",
    "        X_train, X_val, y_train, y_val = custom_split(val_index, test_index)\n",
    "        \n",
    "        predicted_y_train, predicted_y_val = classifier(X_train=X_train, y_train=y_train, \n",
    "                                                          X_test=X_val, fold=fold,\n",
    "                                                          max_depth = max_depth,\n",
    "                                                          min_samples_leaf = min_samples_leaf,\n",
    "                                                          stop_words = stop_words,\n",
    "                                                          overfit_risk=overfit_risk)\n",
    "        metrics_df={}\n",
    "        if print_eval:\n",
    "            print('\\nFold: {}'.format(fold))\n",
    "            accuracy_s, precision_s, recall_s, f1_s = eval_results(predicted_y_train, y_train, predicted_y_val, y_val)\n",
    "\n",
    "            accuracy.append(accuracy_s)\n",
    "            precision.append(precision_s)\n",
    "            recall.append(recall_s)\n",
    "            f1.append(f1_s)\n",
    "\n",
    "            metrics_df = pd.DataFrame(\n",
    "                        {\n",
    "                            'accuracy': accuracy,\n",
    "                            'precision': precision,\n",
    "                            'recall':recall,\n",
    "                            'f1':f1\n",
    "                        }\n",
    "                    )\n",
    "            fold += 1\n",
    "    return metrics_df"
   ]
  },
  {
   "cell_type": "markdown",
   "metadata": {},
   "source": [
    "### Tests: max_depth : 1-15"
   ]
  },
  {
   "cell_type": "code",
   "execution_count": 22,
   "metadata": {},
   "outputs": [],
   "source": [
    "df1 = ds.Table.read_table('Climate1SupportiveLevel.csv', sep=',')\n",
    "df2 = ds.Table.read_table('ClimateBalancedDS2.csv', sep=',')\n",
    "df = df1.append(df2)\n",
    "test_index = np.random.choice(df.num_rows, 100, replace=False)\n",
    "train_val_index = [i for i in np.arange(df.num_rows) if i not in test_index]\n",
    "test_data = df.take[test_index]\n",
    "df = df.take[train_val_index]\n",
    "X = list(df['Text'])\n",
    "y = list(df['Support'])\n",
    "test_X = list(test_data['Text'])\n",
    "test_y = list(test_data['Support'])"
   ]
  },
  {
   "cell_type": "markdown",
   "metadata": {},
   "source": [
    "#### test1: stop-words: default"
   ]
  },
  {
   "cell_type": "code",
   "execution_count": null,
   "metadata": {},
   "outputs": [
    {
     "name": "stdout",
     "output_type": "stream",
     "text": [
      "maxdepth= 1\n",
      "test f1\n",
      "0.5869565217391305\n",
      "train f1\n",
      "0.601688951442646\n",
      "maxdepth= 2\n",
      "test f1\n",
      "0.6476190476190475\n",
      "train f1\n",
      "0.6833438885370487\n",
      "maxdepth= 3\n",
      "test f1\n",
      "0.6542056074766354\n",
      "train f1\n",
      "0.688348594884749\n",
      "maxdepth= 4\n",
      "test f1\n",
      "0.6363636363636364\n",
      "train f1\n",
      "0.6984815618221258\n",
      "maxdepth= 5\n",
      "test f1\n",
      "0.6306306306306306\n",
      "train f1\n",
      "0.7033374536464772\n",
      "maxdepth= 6\n",
      "test f1\n",
      "0.6306306306306306\n",
      "train f1\n",
      "0.709796672828096\n",
      "maxdepth= 7\n",
      "test f1\n",
      "0.6306306306306306\n",
      "train f1\n",
      "0.7144615384615385\n",
      "maxdepth= 8\n",
      "test f1\n",
      "0.6607142857142858\n",
      "train f1\n",
      "0.7210510235258174\n",
      "maxdepth= 9\n",
      "test f1\n",
      "0.6548672566371682\n",
      "train f1\n",
      "0.7235474006116208\n",
      "maxdepth= 10\n",
      "test f1\n",
      "0.6548672566371682\n",
      "train f1\n",
      "0.7259350091968118\n",
      "maxdepth= 11\n",
      "test f1\n",
      "0.6491228070175438\n",
      "train f1\n",
      "0.7273286197356286\n",
      "maxdepth= 12\n",
      "test f1\n",
      "0.6548672566371682\n",
      "train f1\n",
      "0.7332112332112332\n",
      "maxdepth= 13\n",
      "test f1\n",
      "0.6666666666666666\n",
      "train f1\n",
      "0.7383773928896991\n"
     ]
    }
   ],
   "source": [
    "f1_lst_test1 = []\n",
    "f1_lst_train1 = []\n",
    "for d in range(1, 15):\n",
    "    k_fold_evaluate(X, y, max_depth=d, min_samples_leaf=2, stop_words='english', print_eval=False, overfit_risk=True)\n",
    "    clf_tmp = joblib.load('ClimateTeam7PD2_maxdepth{}.pkl'.format(d))\n",
    "    print('maxdepth=', d)\n",
    "    # test\n",
    "    y_pred = clf_tmp.predict(test_X)\n",
    "    print('test f1')\n",
    "    print(f1_score(y_pred=y_pred, y_true=test_y))\n",
    "    f1_lst_test1.append(f1_score(y_pred=y_pred, y_true=test_y))\n",
    "    # train_val\n",
    "    y_pred = clf_tmp.predict(X)\n",
    "    print('train f1')\n",
    "    print(f1_score(y_pred=y_pred, y_true=y))\n",
    "    f1_lst_train1.append(f1_score(y_pred=y_pred, y_true=y))"
   ]
  },
  {
   "cell_type": "code",
   "execution_count": null,
   "metadata": {},
   "outputs": [],
   "source": [
    "plt.plot(np.arange(1,15), f1_lst_test1, label='f1 of testset')\n",
    "plt.plot(np.arange(1,15), f1_lst_train1, label='f1 of trainset')\n",
    "plt.xlabel('max_depth')\n",
    "plt.title('Double check the overfitting risk')\n",
    "plt.legend(loc='lower right')\n",
    "plt.show()"
   ]
  },
  {
   "cell_type": "markdown",
   "metadata": {
    "heading_collapsed": true
   },
   "source": [
    "#### test2: stop_words: ['a', 'an', 'the', 'it', 'is', 'are', 'be', 'of', 'this', 'that', 'RT', 'rt','https']"
   ]
  },
  {
   "cell_type": "code",
   "execution_count": 121,
   "metadata": {
    "hidden": true
   },
   "outputs": [
    {
     "name": "stdout",
     "output_type": "stream",
     "text": [
      "maxdepth= 1\n",
      "test f1\n",
      "0.6019417475728155\n",
      "train f1\n",
      "0.6012009890498058\n",
      "maxdepth= 2\n",
      "test f1\n",
      "0.6608695652173913\n",
      "train f1\n",
      "0.6829733163913596\n",
      "maxdepth= 3\n",
      "test f1\n",
      "0.6666666666666665\n",
      "train f1\n",
      "0.7001540832049308\n",
      "maxdepth= 4\n",
      "test f1\n",
      "0.6666666666666665\n",
      "train f1\n",
      "0.7059902200488998\n",
      "maxdepth= 5\n",
      "test f1\n",
      "0.6724137931034483\n",
      "train f1\n",
      "0.704040087691826\n",
      "maxdepth= 6\n",
      "test f1\n",
      "0.6608695652173913\n",
      "train f1\n",
      "0.704713049054184\n",
      "maxdepth= 7\n",
      "test f1\n",
      "0.6608695652173913\n",
      "train f1\n",
      "0.7053915275994865\n",
      "maxdepth= 8\n",
      "test f1\n",
      "0.6724137931034483\n",
      "train f1\n",
      "0.7151819322459222\n",
      "maxdepth= 9\n",
      "test f1\n",
      "0.6724137931034483\n",
      "train f1\n",
      "0.7177522349936144\n",
      "maxdepth= 10\n",
      "test f1\n",
      "0.6724137931034483\n",
      "train f1\n",
      "0.727102219443576\n",
      "maxdepth= 11\n",
      "test f1\n",
      "0.6608695652173913\n",
      "train f1\n",
      "0.7317839195979898\n",
      "maxdepth= 12\n",
      "test f1\n",
      "0.6551724137931034\n",
      "train f1\n",
      "0.74280408542247\n",
      "maxdepth= 13\n",
      "test f1\n",
      "0.6666666666666665\n",
      "train f1\n",
      "0.747896540978498\n",
      "maxdepth= 14\n",
      "test f1\n",
      "0.6608695652173913\n",
      "train f1\n",
      "0.7457735247208931\n"
     ]
    }
   ],
   "source": [
    "f1_lst_test2 = []\n",
    "f1_lst_train2 = []\n",
    "for d in range(1, 15):\n",
    "    k_fold_evaluate(X, y, max_depth=d, min_samples_leaf=2, \n",
    "                    stop_words=['a', 'an', 'the', 'it', 'is', 'are', 'be', 'of', 'this', 'that', 'RT', 'rt','https'], \n",
    "                    print_eval=False, overfit_risk=True)\n",
    "    clf_tmp = joblib.load('ClimateTeam7PD2_maxdepth{}.pkl'.format(d))\n",
    "    print('maxdepth=', d)\n",
    "    # test\n",
    "    y_pred = clf_tmp.predict(test_X)\n",
    "    print('test f1')\n",
    "    print(f1_score(y_pred=y_pred, y_true=test_y))\n",
    "    f1_lst_test2.append(f1_score(y_pred=y_pred, y_true=test_y))\n",
    "    # train_val\n",
    "    y_pred = clf_tmp.predict(X)\n",
    "    print('train f1')\n",
    "    print(f1_score(y_pred=y_pred, y_true=y))\n",
    "    f1_lst_train2.append(f1_score(y_pred=y_pred, y_true=y))"
   ]
  },
  {
   "cell_type": "code",
   "execution_count": 122,
   "metadata": {
    "hidden": true,
    "scrolled": true
   },
   "outputs": [
    {
     "data": {
      "image/png": "[encoded data removed]",
      "text/plain": [
       "<Figure size 432x288 with 1 Axes>"
      ]
     },
     "metadata": {
      "needs_background": "light"
     },
     "output_type": "display_data"
    }
   ],
   "source": [
    "plt.plot(np.arange(1,15), f1_lst_test2, label='f1 of testset')\n",
    "plt.plot(np.arange(1,15), f1_lst_train2, label='f1 of trainset')\n",
    "plt.xlabel('max_depth')\n",
    "plt.title('Double check the overfitting risk')\n",
    "plt.legend(loc='lower right')\n",
    "plt.show()"
   ]
  },
  {
   "cell_type": "markdown",
   "metadata": {},
   "source": [
    "#### test3: stop_words: most common words in DS1+DS2 tweets"
   ]
  },
  {
   "cell_type": "code",
   "execution_count": 18,
   "metadata": {},
   "outputs": [
    {
     "data": {
      "text/plain": [
       "['the',\n",
       " 'to',\n",
       " 'RT',\n",
       " 'of',\n",
       " 'is',\n",
       " 'and',\n",
       " 'in',\n",
       " 'that',\n",
       " 'on',\n",
       " 'for',\n",
       " 'are',\n",
       " 'you',\n",
       " 'we',\n",
       " 'The',\n",
       " 'it',\n",
       " 'this',\n",
       " 'about',\n",
       " 'be',\n",
       " 'by',\n",
       " 'have',\n",
       " 'not',\n",
       " 'will',\n",
       " 'our',\n",
       " 'from',\n",
       " 'as',\n",
       " 'can',\n",
       " 'with',\n",
       " 'all',\n",
       " 'We',\n",
       " 'do']"
      ]
     },
     "execution_count": 18,
     "metadata": {},
     "output_type": "execute_result"
    }
   ],
   "source": [
    "stop_w = [i[0] for i in Counter([word for sentence in X for word in sentence.split() \n",
    "                                 if 'climate' not in word.lower() and 'change' not in word.lower()\n",
    "                                 and word.isalpha() \n",
    "                                 and len(word)>1]).most_common()[:30]]\n",
    "stop_w"
   ]
  },
  {
   "cell_type": "code",
   "execution_count": 19,
   "metadata": {},
   "outputs": [
    {
     "name": "stdout",
     "output_type": "stream",
     "text": [
      "maxdepth= 1\n",
      "test f1\n",
      "0.5742574257425742\n",
      "train f1\n",
      "0.6021884927638547\n",
      "maxdepth= 2\n",
      "test f1\n",
      "0.6428571428571429\n",
      "train f1\n",
      "0.6835925103141861\n",
      "maxdepth= 3\n",
      "test f1\n",
      "0.6371681415929203\n",
      "train f1\n",
      "0.6910928616550853\n",
      "maxdepth= 4\n",
      "test f1\n",
      "0.6608695652173913\n",
      "train f1\n",
      "0.6980955354355293\n",
      "maxdepth= 5\n",
      "test f1\n",
      "0.6666666666666665\n",
      "train f1\n",
      "0.7055900621118013\n",
      "maxdepth= 6\n",
      "test f1\n",
      "0.6551724137931034\n",
      "train f1\n",
      "0.7126219704123387\n",
      "maxdepth= 7\n",
      "test f1\n",
      "0.6608695652173913\n",
      "train f1\n",
      "0.7163613392293114\n",
      "maxdepth= 8\n",
      "test f1\n",
      "0.6608695652173913\n",
      "train f1\n",
      "0.720886075949367\n",
      "maxdepth= 9\n",
      "test f1\n",
      "0.6666666666666666\n",
      "train f1\n",
      "0.72264631043257\n",
      "maxdepth= 10\n",
      "test f1\n",
      "0.6608695652173913\n",
      "train f1\n",
      "0.7262321144674087\n",
      "maxdepth= 11\n",
      "test f1\n",
      "0.631578947368421\n",
      "train f1\n",
      "0.7303797468354428\n",
      "maxdepth= 12\n",
      "test f1\n",
      "0.6608695652173913\n",
      "train f1\n",
      "0.7333968859231014\n",
      "maxdepth= 13\n",
      "test f1\n",
      "0.6371681415929203\n",
      "train f1\n",
      "0.7411392405063292\n",
      "maxdepth= 14\n",
      "test f1\n",
      "0.6434782608695653\n",
      "train f1\n",
      "0.7430555555555556\n"
     ]
    }
   ],
   "source": [
    "f1_lst_test3 = []\n",
    "f1_lst_train3 = []\n",
    "for d in range(1, 15):\n",
    "    k_fold_evaluate(X, y, max_depth=d, min_samples_leaf=2, \n",
    "                    stop_words=stop_w, \n",
    "                    print_eval=False, overfit_risk=True)\n",
    "    clf_tmp = joblib.load('ClimateTeam7PD2_maxdepth{}.pkl'.format(d))\n",
    "    print('maxdepth=', d)\n",
    "    # test\n",
    "    y_pred = clf_tmp.predict(test_X)\n",
    "    print('test f1')\n",
    "    print(f1_score(y_pred=y_pred, y_true=test_y))\n",
    "    f1_lst_test3.append(f1_score(y_pred=y_pred, y_true=test_y))\n",
    "    # train_val\n",
    "    y_pred = clf_tmp.predict(X)\n",
    "    print('train f1')\n",
    "    print(f1_score(y_pred=y_pred, y_true=y))\n",
    "    f1_lst_train3.append(f1_score(y_pred=y_pred, y_true=y))"
   ]
  },
  {
   "cell_type": "code",
   "execution_count": 16,
   "metadata": {},
   "outputs": [
    {
     "data": {
      "image/png": "[encoded data removed]",
      "text/plain": [
       "<Figure size 432x288 with 1 Axes>"
      ]
     },
     "metadata": {
      "needs_background": "light"
     },
     "output_type": "display_data"
    }
   ],
   "source": [
    "plt.plot(np.arange(1,15), f1_lst_test3, label='f1 of testset')\n",
    "plt.plot(np.arange(1,15), f1_lst_train3, label='f1 of trainset')\n",
    "plt.xlabel('max_depth')\n",
    "plt.title('Double check the overfitting risk')\n",
    "plt.legend(loc='lower right')\n",
    "plt.show()"
   ]
  },
  {
   "cell_type": "markdown",
   "metadata": {},
   "source": [
    "## Final result"
   ]
  },
  {
   "cell_type": "code",
   "execution_count": 251,
   "metadata": {},
   "outputs": [
    {
     "name": "stdout",
     "output_type": "stream",
     "text": [
      "\n",
      "Fold: 1\n",
      "Accuracy Score: 0.6552962298025135\n",
      "Precision Score: 0.6414565826330533\n",
      "Recall Score: 0.7815699658703071\n",
      "f1 Score: 0.7046153846153846\n",
      "confusion_matrix of training set is: \n",
      " [[645 409]\n",
      " [198 974]] \n",
      "\n",
      "confusion_matrix of testing set is: \n",
      " [[136 128]\n",
      " [ 64 229]] \n",
      "\n",
      "             precision    recall  f1-score   support\n",
      "\n",
      "          0       0.68      0.52      0.59       264\n",
      "          1       0.64      0.78      0.70       293\n",
      "\n",
      "avg / total       0.66      0.66      0.65       557\n",
      "\n"
     ]
    },
    {
     "data": {
      "image/png": "[encoded data removed]",
      "text/plain": [
       "<Figure size 432x288 with 2 Axes>"
      ]
     },
     "metadata": {
      "needs_background": "light"
     },
     "output_type": "display_data"
    },
    {
     "data": {
      "image/png": "[encoded data removed]",
      "text/plain": [
       "<Figure size 432x288 with 2 Axes>"
      ]
     },
     "metadata": {
      "needs_background": "light"
     },
     "output_type": "display_data"
    },
    {
     "name": "stdout",
     "output_type": "stream",
     "text": [
      "\n",
      "Fold: 2\n",
      "Accuracy Score: 0.6337522441651705\n",
      "Precision Score: 0.6275071633237822\n",
      "Recall Score: 0.7474402730375427\n",
      "f1 Score: 0.6822429906542055\n",
      "confusion_matrix of training set is: \n",
      " [[677 377]\n",
      " [204 968]] \n",
      "\n",
      "confusion_matrix of testing set is: \n",
      " [[134 130]\n",
      " [ 74 219]] \n",
      "\n",
      "             precision    recall  f1-score   support\n",
      "\n",
      "          0       0.64      0.51      0.57       264\n",
      "          1       0.63      0.75      0.68       293\n",
      "\n",
      "avg / total       0.64      0.63      0.63       557\n",
      "\n"
     ]
    },
    {
     "data": {
      "image/png": "[encoded data removed]",
      "text/plain": [
       "<Figure size 432x288 with 2 Axes>"
      ]
     },
     "metadata": {
      "needs_background": "light"
     },
     "output_type": "display_data"
    },
    {
     "data": {
      "image/png": "[encoded data removed]",
      "text/plain": [
       "<Figure size 432x288 with 2 Axes>"
      ]
     },
     "metadata": {
      "needs_background": "light"
     },
     "output_type": "display_data"
    },
    {
     "name": "stdout",
     "output_type": "stream",
     "text": [
      "\n",
      "Fold: 3\n",
      "Accuracy Score: 0.6193895870736086\n",
      "Precision Score: 0.6128133704735376\n",
      "Recall Score: 0.7508532423208191\n",
      "f1 Score: 0.6748466257668712\n",
      "confusion_matrix of training set is: \n",
      " [[665 389]\n",
      " [185 987]] \n",
      "\n",
      "confusion_matrix of testing set is: \n",
      " [[125 139]\n",
      " [ 73 220]] \n",
      "\n",
      "             precision    recall  f1-score   support\n",
      "\n",
      "          0       0.63      0.47      0.54       264\n",
      "          1       0.61      0.75      0.67       293\n",
      "\n",
      "avg / total       0.62      0.62      0.61       557\n",
      "\n"
     ]
    },
    {
     "data": {
      "image/png": "[encoded data removed]",
      "text/plain": [
       "<Figure size 432x288 with 2 Axes>"
      ]
     },
     "metadata": {
      "needs_background": "light"
     },
     "output_type": "display_data"
    },
    {
     "data": {
      "image/png": "[encoded data removed]",
      "text/plain": [
       "<Figure size 432x288 with 2 Axes>"
      ]
     },
     "metadata": {
      "needs_background": "light"
     },
     "output_type": "display_data"
    },
    {
     "name": "stdout",
     "output_type": "stream",
     "text": [
      "\n",
      "Fold: 4\n",
      "Accuracy Score: 0.6672661870503597\n",
      "Precision Score: 0.6551724137931034\n",
      "Recall Score: 0.7781569965870307\n",
      "f1 Score: 0.7113884555382216\n",
      "confusion_matrix of training set is: \n",
      " [[655 400]\n",
      " [184 988]] \n",
      "\n",
      "confusion_matrix of testing set is: \n",
      " [[143 120]\n",
      " [ 65 228]] \n",
      "\n",
      "             precision    recall  f1-score   support\n",
      "\n",
      "          0       0.69      0.54      0.61       263\n",
      "          1       0.66      0.78      0.71       293\n",
      "\n",
      "avg / total       0.67      0.67      0.66       556\n",
      "\n"
     ]
    },
    {
     "data": {
      "image/png": "[encoded data removed]",
      "text/plain": [
       "<Figure size 432x288 with 2 Axes>"
      ]
     },
     "metadata": {
      "needs_background": "light"
     },
     "output_type": "display_data"
    },
    {
     "data": {
      "image/png": "[encoded data removed]",
      "text/plain": [
       "<Figure size 432x288 with 2 Axes>"
      ]
     },
     "metadata": {
      "needs_background": "light"
     },
     "output_type": "display_data"
    },
    {
     "name": "stdout",
     "output_type": "stream",
     "text": [
      "\n",
      "Fold: 5\n",
      "Accuracy Score: 0.6169064748201439\n",
      "Precision Score: 0.6176470588235294\n",
      "Recall Score: 0.7167235494880546\n",
      "f1 Score: 0.6635071090047393\n",
      "confusion_matrix of training set is: \n",
      " [[668 387]\n",
      " [186 986]] \n",
      "\n",
      "confusion_matrix of testing set is: \n",
      " [[133 130]\n",
      " [ 83 210]] \n",
      "\n",
      "             precision    recall  f1-score   support\n",
      "\n",
      "          0       0.62      0.51      0.56       263\n",
      "          1       0.62      0.72      0.66       293\n",
      "\n",
      "avg / total       0.62      0.62      0.61       556\n",
      "\n"
     ]
    },
    {
     "data": {
      "image/png": "[encoded data removed]",
      "text/plain": [
       "<Figure size 432x288 with 2 Axes>"
      ]
     },
     "metadata": {
      "needs_background": "light"
     },
     "output_type": "display_data"
    },
    {
     "data": {
      "image/png": "[encoded data removed]",
      "text/plain": [
       "<Figure size 432x288 with 2 Axes>"
      ]
     },
     "metadata": {
      "needs_background": "light"
     },
     "output_type": "display_data"
    },
    {
     "data": {
      "text/html": [
       "<div>\n",
       "<style scoped>\n",
       "    .dataframe tbody tr th:only-of-type {\n",
       "        vertical-align: middle;\n",
       "    }\n",
       "\n",
       "    .dataframe tbody tr th {\n",
       "        vertical-align: top;\n",
       "    }\n",
       "\n",
       "    .dataframe thead th {\n",
       "        text-align: right;\n",
       "    }\n",
       "</style>\n",
       "<table border=\"1\" class=\"dataframe\">\n",
       "  <thead>\n",
       "    <tr style=\"text-align: right;\">\n",
       "      <th></th>\n",
       "      <th>accuracy</th>\n",
       "      <th>precision</th>\n",
       "      <th>recall</th>\n",
       "      <th>f1</th>\n",
       "    </tr>\n",
       "  </thead>\n",
       "  <tbody>\n",
       "    <tr>\n",
       "      <th>0</th>\n",
       "      <td>0.655296</td>\n",
       "      <td>0.641457</td>\n",
       "      <td>0.781570</td>\n",
       "      <td>0.704615</td>\n",
       "    </tr>\n",
       "    <tr>\n",
       "      <th>1</th>\n",
       "      <td>0.633752</td>\n",
       "      <td>0.627507</td>\n",
       "      <td>0.747440</td>\n",
       "      <td>0.682243</td>\n",
       "    </tr>\n",
       "    <tr>\n",
       "      <th>2</th>\n",
       "      <td>0.619390</td>\n",
       "      <td>0.612813</td>\n",
       "      <td>0.750853</td>\n",
       "      <td>0.674847</td>\n",
       "    </tr>\n",
       "    <tr>\n",
       "      <th>3</th>\n",
       "      <td>0.667266</td>\n",
       "      <td>0.655172</td>\n",
       "      <td>0.778157</td>\n",
       "      <td>0.711388</td>\n",
       "    </tr>\n",
       "    <tr>\n",
       "      <th>4</th>\n",
       "      <td>0.616906</td>\n",
       "      <td>0.617647</td>\n",
       "      <td>0.716724</td>\n",
       "      <td>0.663507</td>\n",
       "    </tr>\n",
       "  </tbody>\n",
       "</table>\n",
       "</div>"
      ],
      "text/plain": [
       "   accuracy  precision    recall        f1\n",
       "0  0.655296   0.641457  0.781570  0.704615\n",
       "1  0.633752   0.627507  0.747440  0.682243\n",
       "2  0.619390   0.612813  0.750853  0.674847\n",
       "3  0.667266   0.655172  0.778157  0.711388\n",
       "4  0.616906   0.617647  0.716724  0.663507"
      ]
     },
     "execution_count": 251,
     "metadata": {},
     "output_type": "execute_result"
    }
   ],
   "source": [
    "k_fold_evaluate(X, y, max_depth=20, min_samples_leaf=2, \n",
    "                    stop_words=stop_w, \n",
    "                    print_eval=True, overfit_risk=False)"
   ]
  },
  {
   "cell_type": "code",
   "execution_count": 262,
   "metadata": {},
   "outputs": [],
   "source": [
    "clf2 = joblib.load('ClimateTeam7PD2.pkl')"
   ]
  },
  {
   "cell_type": "code",
   "execution_count": 263,
   "metadata": {},
   "outputs": [
    {
     "data": {
      "text/plain": [
       "0.7507020280811233"
      ]
     },
     "execution_count": 263,
     "metadata": {},
     "output_type": "execute_result"
    }
   ],
   "source": [
    "df1 = ds.Table.read_table('Climate1SupportiveLevel.csv', sep=',')\n",
    "df2 = ds.Table.read_table('ClimateBalancedDS2.csv', sep=',')\n",
    "df = df1.append(df2)\n",
    "X = list(df['Text'])\n",
    "y = list(df['Support'])\n",
    "y_pred = clf_tmp.predict(X)\n",
    "f1_score(y, y_pred)"
   ]
  },
  {
   "cell_type": "code",
   "execution_count": null,
   "metadata": {},
   "outputs": [],
   "source": []
  }
 ],
 "metadata": {
  "kernelspec": {
   "display_name": "Python 3",
   "language": "python",
   "name": "python3"
  },
  "language_info": {
   "codemirror_mode": {
    "name": "ipython",
    "version": 3
   },
   "file_extension": ".py",
   "mimetype": "text/x-python",
   "name": "python",
   "nbconvert_exporter": "python",
   "pygments_lexer": "ipython3",
   "version": "3.6.6"
  },
  "latex_envs": {
   "LaTeX_envs_menu_present": true,
   "autoclose": false,
   "autocomplete": true,
   "bibliofile": "biblio.bib",
   "cite_by": "apalike",
   "current_citInitial": 1,
   "eqLabelWithNumbers": true,
   "eqNumInitial": 1,
   "hotkeys": {
    "equation": "Ctrl-E",
    "itemize": "Ctrl-I"
   },
   "labels_anchors": false,
   "latex_user_defs": false,
   "report_style_numbering": false,
   "user_envs_cfg": false
  },
  "varInspector": {
   "cols": {
    "lenName": 16,
    "lenType": 16,
    "lenVar": 40
   },
   "kernels_config": {
    "python": {
     "delete_cmd_postfix": "",
     "delete_cmd_prefix": "del ",
     "library": "var_list.py",
     "varRefreshCmd": "print(var_dic_list())"
    },
    "r": {
     "delete_cmd_postfix": ") ",
     "delete_cmd_prefix": "rm(",
     "library": "var_list.r",
     "varRefreshCmd": "cat(var_dic_list()) "
    }
   },
   "types_to_exclude": [
    "module",
    "function",
    "builtin_function_or_method",
    "instance",
    "_Feature"
   ],
   "window_display": false
  }
 },
 "nbformat": 4,
 "nbformat_minor": 2
}
