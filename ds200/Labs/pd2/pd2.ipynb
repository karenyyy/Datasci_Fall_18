{
 "cells": [
  {
   "cell_type": "markdown",
   "metadata": {},
   "source": [
    "## Project PD2"
   ]
  },
  {
   "cell_type": "markdown",
   "metadata": {},
   "source": [
    "### import packages"
   ]
  },
  {
   "cell_type": "code",
   "execution_count": 295,
   "metadata": {},
   "outputs": [],
   "source": [
    "import datascience as ds\n",
    "from datascience import *\n",
    "import numpy as np\n",
    "from collections import Counter\n",
    "from graphviz import Source\n",
    "import pandas as pd\n",
    "import seaborn as sns\n",
    "from sklearn.pipeline import Pipeline\n",
    "from sklearn.feature_extraction.text import CountVectorizer, TfidfTransformer\n",
    "from sklearn.tree import DecisionTreeClassifier\n",
    "from sklearn.ensemble import RandomForestClassifier\n",
    "from sklearn import tree\n",
    "from sklearn.metrics import confusion_matrix, precision_score, recall_score, f1_score, accuracy_score, classification_report\n",
    "import matplotlib.pyplot as plt\n",
    "from sklearn.model_selection import train_test_split, cross_val_score, StratifiedKFold\n",
    "from sklearn.externals import joblib\n",
    "%matplotlib inline"
   ]
  },
  {
   "cell_type": "markdown",
   "metadata": {},
   "source": [
    "### tweets data loaded into Jupyter Notebook as Table object"
   ]
  },
  {
   "cell_type": "code",
   "execution_count": 296,
   "metadata": {},
   "outputs": [],
   "source": [
    "df1 = ds.Table.read_table('Climate1SupportiveLevel.csv', sep=',')\n",
    "df2 = ds.Table.read_table('ClimateBalancedDS2.csv', sep=',')\n",
    "df = df1.append(df2)\n",
    "test_index = np.random.choice(df.num_rows, 100, replace=False)\n",
    "train_val_index = [i for i in np.arange(df.num_rows) if i not in test_index]\n",
    "test_data = df.take[test_index]\n",
    "df = df.take[train_val_index]\n",
    "X = list(df['Text'])\n",
    "y = list(df['Support'])\n",
    "test_X = list(test_data['Text'])\n",
    "test_y = list(test_data['Support'])"
   ]
  },
  {
   "cell_type": "markdown",
   "metadata": {},
   "source": [
    "### A description of all model enhancements incorporated into the construction of PD2.\n",
    "\n",
    "\n",
    "\n",
    "\n"
   ]
  },
  {
   "cell_type": "markdown",
   "metadata": {},
   "source": [
    "#### used parameters\n",
    "\n",
    "- CountVector\n",
    "    - token_pattern = \"(?!RT|rt|\\d+)[@#]*[\\w\\'_-]{2,100}\"\n",
    "    - analyzer = 'word'\n",
    "    - stop_words = \n",
    "    - min_df = 3\n",
    "    - ngram_range=(1,2)\n",
    "- DecisionTree\n",
    "    - criterion='entropy'\n",
    "    - max_depth = \n",
    "    - min_samples_leaf = 2"
   ]
  },
  {
   "cell_type": "markdown",
   "metadata": {
    "heading_collapsed": true
   },
   "source": [
    "### A description of all model parameters you tried and the associated Stratified k-fold cross validation results for each model parameter choice based on the combined data set (DS1 + DS2)"
   ]
  },
  {
   "cell_type": "markdown",
   "metadata": {
    "hidden": true
   },
   "source": [
    " - max_depth=range(1, 15)\n",
    " - stop_words:\n",
    "     - default in CountVectorizer: 'english'\n",
    "     - user_defined: ['a', 'an', 'the', 'it', 'is', 'are', 'be', 'of', 'this', 'that', 'RT', 'rt','https']\n",
    "     - the top 30 most common words in DS1+DS2 tweets (chosen)\n",
    "     \n",
    "code and test results as follows:"
   ]
  },
  {
   "cell_type": "markdown",
   "metadata": {
    "heading_collapsed": true
   },
   "source": [
    "### Check whether the data distribution is balanced"
   ]
  },
  {
   "cell_type": "code",
   "execution_count": 276,
   "metadata": {
    "hidden": true,
    "scrolled": true
   },
   "outputs": [],
   "source": [
    "def check(sentiment, index, note='training'):\n",
    "    if sentiment==0:\n",
    "        label = 'not supportive'\n",
    "    else:\n",
    "        label = 'supportive'\n",
    "    print('There are {} '.format(df.take(index).where('Support', \n",
    "          are.equal_to(sentiment)).size[0][0])+label+' tweets in the '+note+' set.')"
   ]
  },
  {
   "cell_type": "markdown",
   "metadata": {
    "heading_collapsed": true,
    "hidden": true
   },
   "source": [
    "#### Model Building"
   ]
  },
  {
   "cell_type": "code",
   "execution_count": 277,
   "metadata": {
    "hidden": true,
    "scrolled": true
   },
   "outputs": [],
   "source": [
    "def custom_split(train_index, test_index):\n",
    "    trainingset = df.take(train_index)\n",
    "    testingset = df.take(test_index)    \n",
    "        \n",
    "    X_train= list(trainingset['Text'])\n",
    "    y_train= list(trainingset['Support'])\n",
    "    X_test= list(testingset['Text'])\n",
    "    y_test= list(testingset['Support'])\n",
    "    \n",
    "    return X_train, X_test, y_train, y_test"
   ]
  },
  {
   "cell_type": "markdown",
   "metadata": {
    "heading_collapsed": true
   },
   "source": [
    "### classifier"
   ]
  },
  {
   "cell_type": "code",
   "execution_count": 278,
   "metadata": {
    "hidden": true,
    "scrolled": true
   },
   "outputs": [],
   "source": [
    "def classifier(X_train, y_train, X_test, fold, max_depth, min_samples_leaf, stop_words, overfit_risk=False):\n",
    "    # token_pattern='(([#@]|[0-9]|[a-z]|[A-Z])+)'\n",
    "    clf = Pipeline(\n",
    "        [\n",
    "            ('vect', CountVectorizer(token_pattern=\"(?!RT|rt|\\d+)[@#]*[\\w\\'_-]{2,100}\",\n",
    "                                     analyzer = 'word',\n",
    "                                     stop_words = stop_words,\n",
    "                                     min_df = 10,\n",
    "                                     ngram_range=(1,2))),\n",
    "            ('clf', DecisionTreeClassifier(criterion='entropy',\n",
    "                                           random_state = 100,\n",
    "                                           max_depth = max_depth,\n",
    "                                           min_samples_leaf = min_samples_leaf))\n",
    "        ])\n",
    "    clf.fit(X_train, y_train)\n",
    "    feature_names = clf.named_steps['vect'].get_feature_names()\n",
    "    try:\n",
    "        dot_data = tree.export_graphviz(clf.named_steps['clf'], out_file=None, \n",
    "                                        feature_names=feature_names)\n",
    "        graph = Source(dot_data)\n",
    "        graph.render('ClimateClassifier-Fold_{}'.format(fold))\n",
    "    except Exception as e:\n",
    "        print(e)\n",
    "    predicted_y_train = clf.predict(X_train)\n",
    "    predicted_y_test = clf.predict(X_test)\n",
    "    # save as pickle\n",
    "    if overfit_risk:\n",
    "        joblib.dump(clf, 'ClimateTeam7PD2_maxdepth{}.pkl'.format(max_depth))\n",
    "    else:\n",
    "        joblib.dump(clf, 'ClimateTeam7PD2.pkl')\n",
    "    return predicted_y_train, predicted_y_test"
   ]
  },
  {
   "cell_type": "markdown",
   "metadata": {
    "heading_collapsed": true
   },
   "source": [
    "### evaluation"
   ]
  },
  {
   "cell_type": "code",
   "execution_count": 279,
   "metadata": {
    "hidden": true,
    "scrolled": true
   },
   "outputs": [],
   "source": [
    "def eval_results(predicted_y_train, y_train, predicted_y_test, y_test, fold):\n",
    "    accuracy_s = accuracy_score(y_test, predicted_y_test)\n",
    "    precision_s = precision_score(y_test, predicted_y_test)\n",
    "    recall_s = recall_score(y_test, predicted_y_test)\n",
    "    f1_s = f1_score(y_test, predicted_y_test)\n",
    "    cm_train = confusion_matrix(y_train, predicted_y_train)\n",
    "    cm_test = confusion_matrix(y_test, predicted_y_test)  \n",
    "    \n",
    "    print('Accuracy Score:', accuracy_s)\n",
    "    print(\"Precision Score:\", precision_s)\n",
    "    print(\"Recall Score:\", recall_s)\n",
    "    print(\"f1 Score:\", f1_s)\n",
    "    print('confusion_matrix of training set is: \\n', cm_train, '\\n')\n",
    "    print('confusion_matrix of testing set is: \\n', cm_test, '\\n')\n",
    "    print(classification_report(y_test, predicted_y_test))\n",
    "    \n",
    "    classes = ['not supportive', 'supportive']\n",
    "    plt.subplot(2, 5, fold)\n",
    "    sns.heatmap(cm_train, annot=True, cmap='Blues', yticklabels=classes, xticklabels=classes)\n",
    "    plt.title('Fold {}: confusion matrix of training set'.format(fold))\n",
    "    plt.subplot(2, 5, fold+5)\n",
    "    sns.heatmap(cm_test, annot=True, cmap='Blues', yticklabels=classes, xticklabels=classes)\n",
    "    plt.title('Fold {}: confusion matrix of testing set'.format(fold))\n",
    "    return accuracy_s, precision_s, recall_s, f1_s"
   ]
  },
  {
   "cell_type": "markdown",
   "metadata": {},
   "source": [
    "### k-fold"
   ]
  },
  {
   "cell_type": "code",
   "execution_count": 280,
   "metadata": {
    "scrolled": true
   },
   "outputs": [],
   "source": [
    "def k_fold_evaluate(X, y, max_depth, min_samples_leaf, stop_words, print_eval=True, overfit_risk=False):\n",
    "    # initialization\n",
    "    accuracy = []\n",
    "    precision = []\n",
    "    recall=[]\n",
    "    f1 = []\n",
    "    fold = 1\n",
    "    skf = StratifiedKFold(n_splits=5, random_state=1, shuffle= True)\n",
    "    \n",
    "    # build model and collect results\n",
    "    for val_index, test_index in skf.split(X, y):\n",
    "        X_train, X_val, y_train, y_val = custom_split(val_index, test_index)\n",
    "        \n",
    "        predicted_y_train, predicted_y_val = classifier(X_train=X_train, y_train=y_train, \n",
    "                                                          X_test=X_val, fold=fold,\n",
    "                                                          max_depth = max_depth,\n",
    "                                                          min_samples_leaf = min_samples_leaf,\n",
    "                                                          stop_words = stop_words,\n",
    "                                                          overfit_risk=overfit_risk)\n",
    "        metrics_df={}\n",
    "        if print_eval:\n",
    "            print('\\nFold: {}'.format(fold))\n",
    "            accuracy_s, precision_s, recall_s, f1_s = eval_results(predicted_y_train, y_train, predicted_y_val, y_val, fold)\n",
    "\n",
    "            accuracy.append(accuracy_s)\n",
    "            precision.append(precision_s)\n",
    "            recall.append(recall_s)\n",
    "            f1.append(f1_s)\n",
    "\n",
    "            metrics_df = pd.DataFrame(\n",
    "                        {\n",
    "                            'accuracy': accuracy,\n",
    "                            'precision': precision,\n",
    "                            'recall':recall,\n",
    "                            'f1':f1\n",
    "                        }\n",
    "                    )\n",
    "            fold += 1\n",
    "    return metrics_df"
   ]
  },
  {
   "cell_type": "markdown",
   "metadata": {},
   "source": [
    "### Tests: max_depth : 1-15"
   ]
  },
  {
   "cell_type": "code",
   "execution_count": 284,
   "metadata": {},
   "outputs": [],
   "source": [
    "df1 = ds.Table.read_table('Climate1SupportiveLevel.csv', sep=',')\n",
    "df2 = ds.Table.read_table('ClimateBalancedDS2.csv', sep=',')\n",
    "df = df1.append(df2)\n",
    "test_index = np.random.choice(df.num_rows, 100, replace=False)\n",
    "train_val_index = [i for i in np.arange(df.num_rows) if i not in test_index]\n",
    "test_data = df.take[test_index]\n",
    "df = df.take[train_val_index]\n",
    "X = list(df['Text'])\n",
    "y = list(df['Support'])\n",
    "test_X = list(test_data['Text'])\n",
    "test_y = list(test_data['Support'])"
   ]
  },
  {
   "cell_type": "markdown",
   "metadata": {
    "heading_collapsed": true
   },
   "source": [
    "#### test1: stop-words: default"
   ]
  },
  {
   "cell_type": "code",
   "execution_count": 185,
   "metadata": {
    "hidden": true
   },
   "outputs": [
    {
     "name": "stdout",
     "output_type": "stream",
     "text": [
      "maxdepth= 1\n",
      "test f1\n",
      "0.6902654867256637\n",
      "train f1\n",
      "0.597660404112017\n",
      "maxdepth= 2\n",
      "test f1\n",
      "0.6885245901639344\n",
      "train f1\n",
      "0.6834877036090706\n",
      "maxdepth= 3\n",
      "test f1\n",
      "0.6829268292682927\n",
      "train f1\n",
      "0.6917960088691796\n",
      "maxdepth= 4\n",
      "test f1\n",
      "0.6935483870967741\n",
      "train f1\n",
      "0.69760101010101\n",
      "maxdepth= 5\n",
      "test f1\n",
      "0.6935483870967741\n",
      "train f1\n",
      "0.7031790997796663\n",
      "maxdepth= 6\n",
      "test f1\n",
      "0.6935483870967741\n",
      "train f1\n",
      "0.7056971986150457\n",
      "maxdepth= 7\n",
      "test f1\n",
      "0.6829268292682927\n",
      "train f1\n",
      "0.7106089139987445\n",
      "maxdepth= 8\n",
      "test f1\n",
      "0.6829268292682927\n",
      "train f1\n",
      "0.7140600315955766\n",
      "maxdepth= 9\n",
      "test f1\n",
      "0.704\n",
      "train f1\n",
      "0.7186228482003129\n",
      "maxdepth= 10\n",
      "test f1\n",
      "0.6935483870967741\n",
      "train f1\n",
      "0.7197991841857545\n",
      "maxdepth= 11\n",
      "test f1\n",
      "0.6774193548387097\n",
      "train f1\n",
      "0.7238689547581902\n",
      "maxdepth= 12\n",
      "test f1\n",
      "0.688\n",
      "train f1\n",
      "0.7280729330399246\n",
      "maxdepth= 13\n",
      "test f1\n",
      "0.6829268292682927\n",
      "train f1\n",
      "0.730610952833175\n",
      "maxdepth= 14\n",
      "test f1\n",
      "0.6774193548387097\n",
      "train f1\n",
      "0.7349778621125871\n",
      "maxdepth= 15\n",
      "test f1\n",
      "0.6721311475409837\n",
      "train f1\n",
      "0.7348242811501597\n"
     ]
    }
   ],
   "source": [
    "f1_lst_test1 = []\n",
    "f1_lst_train1 = []\n",
    "for d in range(1, 16):\n",
    "    k_fold_evaluate(X, y, max_depth=d, min_samples_leaf=2, stop_words='english', print_eval=False, overfit_risk=True)\n",
    "    clf_tmp = joblib.load('ClimateTeam7PD2_maxdepth{}.pkl'.format(d))\n",
    "    print('maxdepth=', d)\n",
    "    # test\n",
    "    y_pred = clf_tmp.predict(test_X)\n",
    "    print('test f1')\n",
    "    print(f1_score(y_pred=y_pred, y_true=test_y))\n",
    "    f1_lst_test1.append(f1_score(y_pred=y_pred, y_true=test_y))\n",
    "    # train_val\n",
    "    y_pred = clf_tmp.predict(X)\n",
    "    print('train f1')\n",
    "    print(f1_score(y_pred=y_pred, y_true=y))\n",
    "    f1_lst_train1.append(f1_score(y_pred=y_pred, y_true=y))"
   ]
  },
  {
   "cell_type": "code",
   "execution_count": 292,
   "metadata": {
    "hidden": true
   },
   "outputs": [
    {
     "data": {
      "image/png": "[encoded data removed]",
      "text/plain": [
       "<Figure size 432x288 with 1 Axes>"
      ]
     },
     "metadata": {
      "needs_background": "light"
     },
     "output_type": "display_data"
    }
   ],
   "source": [
    "plt.plot(np.arange(1,16), f1_lst_test1, label='f1 of testset')\n",
    "plt.plot(np.arange(1,16), f1_lst_train1, label='f1 of trainset')\n",
    "plt.xlabel('max_depth')\n",
    "plt.title('Double check the overfitting risk')\n",
    "plt.legend(loc='lower right')\n",
    "plt.show()"
   ]
  },
  {
   "cell_type": "markdown",
   "metadata": {
    "heading_collapsed": true
   },
   "source": [
    "#### test2: stop_words: ['a', 'an', 'the', 'it', 'is', 'are', 'be', 'of', 'this', 'that', 'RT', 'rt','https']"
   ]
  },
  {
   "cell_type": "code",
   "execution_count": 272,
   "metadata": {
    "hidden": true
   },
   "outputs": [
    {
     "name": "stdout",
     "output_type": "stream",
     "text": [
      "maxdepth= 1\n",
      "test f1\n",
      "0.4791666666666667\n",
      "train f1\n",
      "0.6053558844256518\n",
      "maxdepth= 2\n",
      "test f1\n",
      "0.6486486486486487\n",
      "train f1\n",
      "0.6833756345177665\n",
      "maxdepth= 3\n",
      "test f1\n",
      "0.6724137931034482\n",
      "train f1\n",
      "0.6986175115207374\n",
      "maxdepth= 4\n",
      "test f1\n",
      "0.6608695652173914\n",
      "train f1\n",
      "0.702851885924563\n",
      "maxdepth= 5\n",
      "test f1\n",
      "0.6371681415929202\n",
      "train f1\n",
      "0.7061021170610211\n",
      "maxdepth= 6\n",
      "test f1\n",
      "0.631578947368421\n",
      "train f1\n",
      "0.7141529885413441\n",
      "maxdepth= 7\n",
      "test f1\n",
      "0.6491228070175439\n",
      "train f1\n",
      "0.7206329884357882\n",
      "maxdepth= 8\n",
      "test f1\n",
      "0.6551724137931034\n",
      "train f1\n",
      "0.7205470935654337\n",
      "maxdepth= 9\n",
      "test f1\n",
      "0.631578947368421\n",
      "train f1\n",
      "0.7243849268140766\n",
      "maxdepth= 10\n",
      "test f1\n",
      "0.6194690265486726\n",
      "train f1\n",
      "0.7312967581047382\n",
      "maxdepth= 11\n",
      "test f1\n",
      "0.631578947368421\n",
      "train f1\n",
      "0.7389975550122249\n",
      "maxdepth= 12\n",
      "test f1\n",
      "0.631578947368421\n",
      "train f1\n",
      "0.7410161090458489\n",
      "maxdepth= 13\n",
      "test f1\n",
      "0.6218487394957984\n",
      "train f1\n",
      "0.7471054235222424\n",
      "maxdepth= 14\n",
      "test f1\n",
      "0.5964912280701754\n",
      "train f1\n",
      "0.7492279184681903\n",
      "maxdepth= 15\n",
      "test f1\n",
      "0.6140350877192983\n",
      "train f1\n",
      "0.7483670295489891\n"
     ]
    }
   ],
   "source": [
    "f1_lst_test2 = []\n",
    "f1_lst_train2 = []\n",
    "for d in range(1, 16):\n",
    "    k_fold_evaluate(X, y, max_depth=d, min_samples_leaf=2, \n",
    "                    stop_words=['a', 'an', 'the', 'it', 'is', 'are', 'be', 'of', 'this', 'that', 'RT', 'rt','https'], \n",
    "                    print_eval=False, overfit_risk=True)\n",
    "    clf_tmp = joblib.load('ClimateTeam7PD2_maxdepth{}.pkl'.format(d))\n",
    "    print('maxdepth=', d)\n",
    "    # test\n",
    "    y_pred = clf_tmp.predict(test_X)\n",
    "    print('test f1')\n",
    "    print(f1_score(y_pred=y_pred, y_true=test_y))\n",
    "    f1_lst_test2.append(f1_score(y_pred=y_pred, y_true=test_y))\n",
    "    # train_val\n",
    "    y_pred = clf_tmp.predict(X)\n",
    "    print('train f1')\n",
    "    print(f1_score(y_pred=y_pred, y_true=y))\n",
    "    f1_lst_train2.append(f1_score(y_pred=y_pred, y_true=y))"
   ]
  },
  {
   "cell_type": "code",
   "execution_count": 273,
   "metadata": {
    "hidden": true,
    "scrolled": true
   },
   "outputs": [
    {
     "data": {
      "image/png": "[encoded data removed]",
      "text/plain": [
       "<Figure size 432x288 with 1 Axes>"
      ]
     },
     "metadata": {
      "needs_background": "light"
     },
     "output_type": "display_data"
    }
   ],
   "source": [
    "plt.plot(np.arange(1,16), f1_lst_test2, label='f1 of testset')\n",
    "plt.plot(np.arange(1,16), f1_lst_train2, label='f1 of trainset')\n",
    "plt.xlabel('max_depth')\n",
    "plt.title('Double check the overfitting risk')\n",
    "plt.legend(loc='lower right')\n",
    "plt.show()"
   ]
  },
  {
   "cell_type": "markdown",
   "metadata": {
    "heading_collapsed": true
   },
   "source": [
    "#### test3: stop_words: most common words in DS1+DS2 tweets"
   ]
  },
  {
   "cell_type": "code",
   "execution_count": 285,
   "metadata": {
    "hidden": true
   },
   "outputs": [
    {
     "data": {
      "text/plain": [
       "['the',\n",
       " 'to',\n",
       " 'RT',\n",
       " 'of',\n",
       " 'is',\n",
       " 'and',\n",
       " 'in',\n",
       " 'that',\n",
       " 'on',\n",
       " 'for',\n",
       " 'are',\n",
       " 'you',\n",
       " 'we',\n",
       " 'The',\n",
       " 'it',\n",
       " 'this',\n",
       " 'about',\n",
       " 'be',\n",
       " 'by',\n",
       " 'have',\n",
       " 'not',\n",
       " 'will',\n",
       " 'our',\n",
       " 'from',\n",
       " 'can',\n",
       " 'as',\n",
       " 'with',\n",
       " 'all',\n",
       " 'We',\n",
       " 'they']"
      ]
     },
     "execution_count": 285,
     "metadata": {},
     "output_type": "execute_result"
    }
   ],
   "source": [
    "stop_w = [i[0] for i in Counter([word for sentence in X for word in sentence.split() \n",
    "                                 if 'climate' not in word.lower() and 'change' not in word.lower()\n",
    "                                 and word.isalpha() \n",
    "                                 and len(word)>1]).most_common()[:30]]\n",
    "stop_w"
   ]
  },
  {
   "cell_type": "code",
   "execution_count": 286,
   "metadata": {
    "hidden": true
   },
   "outputs": [
    {
     "name": "stdout",
     "output_type": "stream",
     "text": [
      "maxdepth= 1\n",
      "test f1\n",
      "0.6470588235294118\n",
      "train f1\n",
      "0.5995762711864407\n",
      "maxdepth= 2\n",
      "test f1\n",
      "0.7079646017699115\n",
      "train f1\n",
      "0.6828025477707006\n",
      "maxdepth= 3\n",
      "test f1\n",
      "0.6896551724137931\n",
      "train f1\n",
      "0.6928838951310862\n",
      "maxdepth= 4\n",
      "test f1\n",
      "0.7008547008547009\n",
      "train f1\n",
      "0.699813548788067\n",
      "maxdepth= 5\n",
      "test f1\n",
      "0.7008547008547009\n",
      "train f1\n",
      "0.7065351418002467\n",
      "maxdepth= 6\n",
      "test f1\n",
      "0.7008547008547009\n",
      "train f1\n",
      "0.7122191443521083\n",
      "maxdepth= 7\n",
      "test f1\n",
      "0.6842105263157895\n",
      "train f1\n",
      "0.7166769993800371\n",
      "maxdepth= 8\n",
      "test f1\n",
      "0.6902654867256638\n",
      "train f1\n",
      "0.7172413793103448\n",
      "maxdepth= 9\n",
      "test f1\n",
      "0.6902654867256638\n",
      "train f1\n",
      "0.7212292254625274\n",
      "maxdepth= 10\n",
      "test f1\n",
      "0.7241379310344827\n",
      "train f1\n",
      "0.7288082577416328\n",
      "maxdepth= 11\n",
      "test f1\n",
      "0.719298245614035\n",
      "train f1\n",
      "0.7335640138408305\n",
      "maxdepth= 12\n",
      "test f1\n",
      "0.7142857142857143\n",
      "train f1\n",
      "0.7351351351351352\n",
      "maxdepth= 13\n",
      "test f1\n",
      "0.7079646017699115\n",
      "train f1\n",
      "0.7403174603174604\n",
      "maxdepth= 14\n",
      "test f1\n",
      "0.7142857142857143\n",
      "train f1\n",
      "0.7389635316698657\n",
      "maxdepth= 15\n",
      "test f1\n",
      "0.7027027027027026\n",
      "train f1\n",
      "0.7451602665820375\n"
     ]
    }
   ],
   "source": [
    "f1_lst_test3 = []\n",
    "f1_lst_train3 = []\n",
    "for d in range(1, 16):\n",
    "    k_fold_evaluate(X, y, max_depth=d, min_samples_leaf=2, \n",
    "                    stop_words=stop_w, \n",
    "                    print_eval=False, overfit_risk=True)\n",
    "    clf_tmp = joblib.load('ClimateTeam7PD2_maxdepth{}.pkl'.format(d))\n",
    "    print('maxdepth=', d)\n",
    "    # test\n",
    "    y_pred = clf_tmp.predict(test_X)\n",
    "    print('test f1')\n",
    "    print(f1_score(y_pred=y_pred, y_true=test_y))\n",
    "    f1_lst_test3.append(f1_score(y_pred=y_pred, y_true=test_y))\n",
    "    # train_val\n",
    "    y_pred = clf_tmp.predict(X)\n",
    "    print('train f1')\n",
    "    print(f1_score(y_pred=y_pred, y_true=y))\n",
    "    f1_lst_train3.append(f1_score(y_pred=y_pred, y_true=y))"
   ]
  },
  {
   "cell_type": "code",
   "execution_count": 287,
   "metadata": {
    "hidden": true
   },
   "outputs": [
    {
     "data": {
      "image/png": "[encoded data removed]",
      "text/plain": [
       "<Figure size 432x288 with 1 Axes>"
      ]
     },
     "metadata": {
      "needs_background": "light"
     },
     "output_type": "display_data"
    }
   ],
   "source": [
    "plt.plot(np.arange(1,16), f1_lst_test3, label='f1 of testset')\n",
    "plt.plot(np.arange(1,16), f1_lst_train3, label='f1 of trainset')\n",
    "plt.xlabel('max_depth')\n",
    "plt.title('Double check the overfitting risk')\n",
    "plt.legend(loc='lower right')\n",
    "plt.show()"
   ]
  },
  {
   "cell_type": "markdown",
   "metadata": {},
   "source": [
    "## Final result"
   ]
  },
  {
   "cell_type": "code",
   "execution_count": 288,
   "metadata": {},
   "outputs": [
    {
     "name": "stdout",
     "output_type": "stream",
     "text": [
      "\n",
      "Fold: 1\n",
      "Accuracy Score: 0.6175942549371634\n",
      "Precision Score: 0.6111111111111112\n",
      "Recall Score: 0.7508532423208191\n",
      "f1 Score: 0.673813169984686\n",
      "confusion_matrix of training set is: \n",
      " [[612 444]\n",
      " [237 933]] \n",
      "\n",
      "confusion_matrix of testing set is: \n",
      " [[124 140]\n",
      " [ 73 220]] \n",
      "\n",
      "              precision    recall  f1-score   support\n",
      "\n",
      "           0       0.63      0.47      0.54       264\n",
      "           1       0.61      0.75      0.67       293\n",
      "\n",
      "   micro avg       0.62      0.62      0.62       557\n",
      "   macro avg       0.62      0.61      0.61       557\n",
      "weighted avg       0.62      0.62      0.61       557\n",
      "\n",
      "\n",
      "Fold: 2\n",
      "Accuracy Score: 0.6283662477558348\n",
      "Precision Score: 0.6279761904761905\n",
      "Recall Score: 0.7201365187713311\n",
      "f1 Score: 0.6709062003179651\n",
      "confusion_matrix of training set is: \n",
      " [[578 478]\n",
      " [211 959]] \n",
      "\n",
      "confusion_matrix of testing set is: \n",
      " [[139 125]\n",
      " [ 82 211]] \n",
      "\n",
      "              precision    recall  f1-score   support\n",
      "\n",
      "           0       0.63      0.53      0.57       264\n",
      "           1       0.63      0.72      0.67       293\n",
      "\n",
      "   micro avg       0.63      0.63      0.63       557\n",
      "   macro avg       0.63      0.62      0.62       557\n",
      "weighted avg       0.63      0.63      0.62       557\n",
      "\n",
      "\n",
      "Fold: 3\n",
      "Accuracy Score: 0.6463195691202872\n",
      "Precision Score: 0.6395348837209303\n",
      "Recall Score: 0.7508532423208191\n",
      "f1 Score: 0.6907378335949765\n",
      "confusion_matrix of training set is: \n",
      " [[614 442]\n",
      " [246 924]] \n",
      "\n",
      "confusion_matrix of testing set is: \n",
      " [[140 124]\n",
      " [ 73 220]] \n",
      "\n",
      "              precision    recall  f1-score   support\n",
      "\n",
      "           0       0.66      0.53      0.59       264\n",
      "           1       0.64      0.75      0.69       293\n",
      "\n",
      "   micro avg       0.65      0.65      0.65       557\n",
      "   macro avg       0.65      0.64      0.64       557\n",
      "weighted avg       0.65      0.65      0.64       557\n",
      "\n",
      "\n",
      "Fold: 4\n",
      "Accuracy Score: 0.6474820143884892\n",
      "Precision Score: 0.6395348837209303\n",
      "Recall Score: 0.7534246575342466\n",
      "f1 Score: 0.6918238993710691\n",
      "confusion_matrix of training set is: \n",
      " [[604 452]\n",
      " [254 917]] \n",
      "\n",
      "confusion_matrix of testing set is: \n",
      " [[140 124]\n",
      " [ 72 220]] \n",
      "\n",
      "              precision    recall  f1-score   support\n",
      "\n",
      "           0       0.66      0.53      0.59       264\n",
      "           1       0.64      0.75      0.69       292\n",
      "\n",
      "   micro avg       0.65      0.65      0.65       556\n",
      "   macro avg       0.65      0.64      0.64       556\n",
      "weighted avg       0.65      0.65      0.64       556\n",
      "\n",
      "\n",
      "Fold: 5\n",
      "Accuracy Score: 0.6384892086330936\n",
      "Precision Score: 0.6311239193083573\n",
      "Recall Score: 0.75\n",
      "f1 Score: 0.6854460093896714\n",
      "confusion_matrix of training set is: \n",
      " [[615 441]\n",
      " [225 946]] \n",
      "\n",
      "confusion_matrix of testing set is: \n",
      " [[136 128]\n",
      " [ 73 219]] \n",
      "\n",
      "              precision    recall  f1-score   support\n",
      "\n",
      "           0       0.65      0.52      0.58       264\n",
      "           1       0.63      0.75      0.69       292\n",
      "\n",
      "   micro avg       0.64      0.64      0.64       556\n",
      "   macro avg       0.64      0.63      0.63       556\n",
      "weighted avg       0.64      0.64      0.63       556\n",
      "\n"
     ]
    },
    {
     "data": {
      "image/png": "[encoded data removed]",
      "text/plain": [
       "<Figure size 1800x576 with 20 Axes>"
      ]
     },
     "metadata": {
      "needs_background": "light"
     },
     "output_type": "display_data"
    }
   ],
   "source": [
    "plt.figure(figsize=(25, 8))\n",
    "metrics_df = k_fold_evaluate(X, y, max_depth=10, min_samples_leaf=2, \n",
    "                    stop_words=stop_w, \n",
    "                    print_eval=True, overfit_risk=False)\n",
    "plt.show()"
   ]
  },
  {
   "cell_type": "code",
   "execution_count": 289,
   "metadata": {},
   "outputs": [
    {
     "data": {
      "text/html": [
       "<div>\n",
       "<style scoped>\n",
       "    .dataframe tbody tr th:only-of-type {\n",
       "        vertical-align: middle;\n",
       "    }\n",
       "\n",
       "    .dataframe tbody tr th {\n",
       "        vertical-align: top;\n",
       "    }\n",
       "\n",
       "    .dataframe thead th {\n",
       "        text-align: right;\n",
       "    }\n",
       "</style>\n",
       "<table border=\"1\" class=\"dataframe\">\n",
       "  <thead>\n",
       "    <tr style=\"text-align: right;\">\n",
       "      <th></th>\n",
       "      <th>accuracy</th>\n",
       "      <th>precision</th>\n",
       "      <th>recall</th>\n",
       "      <th>f1</th>\n",
       "    </tr>\n",
       "  </thead>\n",
       "  <tbody>\n",
       "    <tr>\n",
       "      <th>0</th>\n",
       "      <td>0.617594</td>\n",
       "      <td>0.611111</td>\n",
       "      <td>0.750853</td>\n",
       "      <td>0.673813</td>\n",
       "    </tr>\n",
       "    <tr>\n",
       "      <th>1</th>\n",
       "      <td>0.628366</td>\n",
       "      <td>0.627976</td>\n",
       "      <td>0.720137</td>\n",
       "      <td>0.670906</td>\n",
       "    </tr>\n",
       "    <tr>\n",
       "      <th>2</th>\n",
       "      <td>0.646320</td>\n",
       "      <td>0.639535</td>\n",
       "      <td>0.750853</td>\n",
       "      <td>0.690738</td>\n",
       "    </tr>\n",
       "    <tr>\n",
       "      <th>3</th>\n",
       "      <td>0.647482</td>\n",
       "      <td>0.639535</td>\n",
       "      <td>0.753425</td>\n",
       "      <td>0.691824</td>\n",
       "    </tr>\n",
       "    <tr>\n",
       "      <th>4</th>\n",
       "      <td>0.638489</td>\n",
       "      <td>0.631124</td>\n",
       "      <td>0.750000</td>\n",
       "      <td>0.685446</td>\n",
       "    </tr>\n",
       "  </tbody>\n",
       "</table>\n",
       "</div>"
      ],
      "text/plain": [
       "   accuracy  precision    recall        f1\n",
       "0  0.617594   0.611111  0.750853  0.673813\n",
       "1  0.628366   0.627976  0.720137  0.670906\n",
       "2  0.646320   0.639535  0.750853  0.690738\n",
       "3  0.647482   0.639535  0.753425  0.691824\n",
       "4  0.638489   0.631124  0.750000  0.685446"
      ]
     },
     "execution_count": 289,
     "metadata": {},
     "output_type": "execute_result"
    }
   ],
   "source": [
    "metrics_df"
   ]
  },
  {
   "cell_type": "code",
   "execution_count": 290,
   "metadata": {},
   "outputs": [],
   "source": [
    "clf2 = joblib.load('ClimateTeam7PD2.pkl')"
   ]
  },
  {
   "cell_type": "code",
   "execution_count": 291,
   "metadata": {},
   "outputs": [
    {
     "data": {
      "text/plain": [
       "0.7437155119558553"
      ]
     },
     "execution_count": 291,
     "metadata": {},
     "output_type": "execute_result"
    }
   ],
   "source": [
    "df1 = ds.Table.read_table('Climate1SupportiveLevel.csv', sep=',')\n",
    "df2 = ds.Table.read_table('ClimateBalancedDS2.csv', sep=',')\n",
    "df = df1.append(df2)\n",
    "X = list(df['Text'])\n",
    "y = list(df['Support'])\n",
    "y_pred = clf_tmp.predict(X)\n",
    "f1_score(y, y_pred)"
   ]
  }
 ],
 "metadata": {
  "kernelspec": {
   "display_name": "Python 3",
   "language": "python",
   "name": "python3"
  },
  "language_info": {
   "codemirror_mode": {
    "name": "ipython",
    "version": 3
   },
   "file_extension": ".py",
   "mimetype": "text/x-python",
   "name": "python",
   "nbconvert_exporter": "python",
   "pygments_lexer": "ipython3",
   "version": "3.6.6"
  },
  "latex_envs": {
   "LaTeX_envs_menu_present": true,
   "autoclose": false,
   "autocomplete": true,
   "bibliofile": "biblio.bib",
   "cite_by": "apalike",
   "current_citInitial": 1,
   "eqLabelWithNumbers": true,
   "eqNumInitial": 1,
   "hotkeys": {
    "equation": "Ctrl-E",
    "itemize": "Ctrl-I"
   },
   "labels_anchors": false,
   "latex_user_defs": false,
   "report_style_numbering": false,
   "user_envs_cfg": false
  },
  "varInspector": {
   "cols": {
    "lenName": 16,
    "lenType": 16,
    "lenVar": 40
   },
   "kernels_config": {
    "python": {
     "delete_cmd_postfix": "",
     "delete_cmd_prefix": "del ",
     "library": "var_list.py",
     "varRefreshCmd": "print(var_dic_list())"
    },
    "r": {
     "delete_cmd_postfix": ") ",
     "delete_cmd_prefix": "rm(",
     "library": "var_list.r",
     "varRefreshCmd": "cat(var_dic_list()) "
    }
   },
   "types_to_exclude": [
    "module",
    "function",
    "builtin_function_or_method",
    "instance",
    "_Feature"
   ],
   "window_display": false
  }
 },
 "nbformat": 4,
 "nbformat_minor": 2
}
